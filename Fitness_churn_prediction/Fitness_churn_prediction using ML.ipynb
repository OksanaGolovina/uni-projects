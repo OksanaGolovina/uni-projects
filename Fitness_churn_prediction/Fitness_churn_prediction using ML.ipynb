{
 "cells": [
  {
   "cell_type": "markdown",
   "metadata": {},
   "source": [
    "# Прогнозирование оттока для фитнес-центра"
   ]
  },
  {
   "cell_type": "markdown",
   "metadata": {},
   "source": [
    "В нашем распоряжении имеются данные о действующих клиентах фитнес-клуба: пол, возраст, проживание относительно локации клуба, срок абонемента, суммы затрат на дополнительные услуги центра, среднее количество посещений в неделю за весь период и за последний месяц, а также факт попадания клиента в отток в текущем месяце.\n",
    "\n",
    "Заказчик планирует использовать аналитические данные для разработки стратегии взаимодействия с клиентами и снижения оттока.\n",
    "\n",
    "Задачи исследования:\n",
    "- сегментировать клиентов, описать характерные признаки каждой группы  \n",
    "- выделить признаки, влияющие на склонность клиента к оттоку  \n",
    "- спрогнозировать отток клиентов для следующего месяца  \n",
    "- сформулировать рекомендации по улучшению стратегии удержания клиентов."
   ]
  },
  {
   "cell_type": "markdown",
   "metadata": {},
   "source": [
    "## Ознакомление с данными  и исследовательский анализ"
   ]
  },
  {
   "cell_type": "markdown",
   "metadata": {},
   "source": [
    "Импортируем необходимые библиотеки"
   ]
  },
  {
   "cell_type": "code",
   "execution_count": 1,
   "metadata": {},
   "outputs": [],
   "source": [
    "!pip install seaborn -Uq"
   ]
  },
  {
   "cell_type": "code",
   "execution_count": 2,
   "metadata": {},
   "outputs": [],
   "source": [
    "from IPython.core.interactiveshell import InteractiveShell\n",
    "InteractiveShell.ast_node_interactivity = \"all\"\n",
    "\n",
    "import pandas as pd\n",
    "import numpy as np\n",
    "\n",
    "import matplotlib.pyplot as plt\n",
    "import seaborn as sns\n",
    "import plotly\n",
    "import plotly.express as px\n",
    "import plotly.graph_objs as go\n",
    "from plotly.offline import download_plotlyjs, init_notebook_mode, plot, iplot\n",
    "\n",
    "from sklearn.model_selection import train_test_split\n",
    "from sklearn.model_selection import GridSearchCV\n",
    "from sklearn.metrics import mean_absolute_error, mean_squared_error, r2_score\n",
    "from sklearn.preprocessing import StandardScaler, MinMaxScaler\n",
    "\n",
    "from sklearn.linear_model import LogisticRegression\n",
    "from sklearn.ensemble import RandomForestClassifier\n",
    "from sklearn.metrics import accuracy_score, precision_score, recall_score, roc_auc_score, silhouette_score\n",
    "\n",
    "from scipy.cluster.hierarchy import dendrogram, linkage\n",
    "from sklearn.cluster import KMeans"
   ]
  },
  {
   "cell_type": "markdown",
   "metadata": {},
   "source": [
    "Посмотрим на данные. Загрузим сначала часть датасета, посмотрим на типы, оптимизируем типы данных в случае необходимости, и выгрузим полный датасет с корректными типами данных"
   ]
  },
  {
   "cell_type": "code",
   "execution_count": 3,
   "metadata": {
    "scrolled": false
   },
   "outputs": [
    {
     "data": {
      "text/html": [
       "<div>\n",
       "<style scoped>\n",
       "    .dataframe tbody tr th:only-of-type {\n",
       "        vertical-align: middle;\n",
       "    }\n",
       "\n",
       "    .dataframe tbody tr th {\n",
       "        vertical-align: top;\n",
       "    }\n",
       "\n",
       "    .dataframe thead th {\n",
       "        text-align: right;\n",
       "    }\n",
       "</style>\n",
       "<table border=\"1\" class=\"dataframe\">\n",
       "  <thead>\n",
       "    <tr style=\"text-align: right;\">\n",
       "      <th></th>\n",
       "      <th>gender</th>\n",
       "      <th>Near_Location</th>\n",
       "      <th>Partner</th>\n",
       "      <th>Promo_friends</th>\n",
       "      <th>Phone</th>\n",
       "      <th>Contract_period</th>\n",
       "      <th>Group_visits</th>\n",
       "      <th>Age</th>\n",
       "      <th>Avg_additional_charges_total</th>\n",
       "      <th>Month_to_end_contract</th>\n",
       "      <th>Lifetime</th>\n",
       "      <th>Avg_class_frequency_total</th>\n",
       "      <th>Avg_class_frequency_current_month</th>\n",
       "      <th>Churn</th>\n",
       "    </tr>\n",
       "  </thead>\n",
       "  <tbody>\n",
       "    <tr>\n",
       "      <th>0</th>\n",
       "      <td>1</td>\n",
       "      <td>1</td>\n",
       "      <td>1</td>\n",
       "      <td>1</td>\n",
       "      <td>0</td>\n",
       "      <td>6</td>\n",
       "      <td>1</td>\n",
       "      <td>29</td>\n",
       "      <td>14.227470</td>\n",
       "      <td>5.0</td>\n",
       "      <td>3</td>\n",
       "      <td>0.020398</td>\n",
       "      <td>0.000000</td>\n",
       "      <td>0</td>\n",
       "    </tr>\n",
       "    <tr>\n",
       "      <th>1</th>\n",
       "      <td>0</td>\n",
       "      <td>1</td>\n",
       "      <td>0</td>\n",
       "      <td>0</td>\n",
       "      <td>1</td>\n",
       "      <td>12</td>\n",
       "      <td>1</td>\n",
       "      <td>31</td>\n",
       "      <td>113.202938</td>\n",
       "      <td>12.0</td>\n",
       "      <td>7</td>\n",
       "      <td>1.922936</td>\n",
       "      <td>1.910244</td>\n",
       "      <td>0</td>\n",
       "    </tr>\n",
       "    <tr>\n",
       "      <th>2</th>\n",
       "      <td>0</td>\n",
       "      <td>1</td>\n",
       "      <td>1</td>\n",
       "      <td>0</td>\n",
       "      <td>1</td>\n",
       "      <td>1</td>\n",
       "      <td>0</td>\n",
       "      <td>28</td>\n",
       "      <td>129.448479</td>\n",
       "      <td>1.0</td>\n",
       "      <td>2</td>\n",
       "      <td>1.859098</td>\n",
       "      <td>1.736502</td>\n",
       "      <td>0</td>\n",
       "    </tr>\n",
       "    <tr>\n",
       "      <th>3</th>\n",
       "      <td>0</td>\n",
       "      <td>1</td>\n",
       "      <td>1</td>\n",
       "      <td>1</td>\n",
       "      <td>1</td>\n",
       "      <td>12</td>\n",
       "      <td>1</td>\n",
       "      <td>33</td>\n",
       "      <td>62.669863</td>\n",
       "      <td>12.0</td>\n",
       "      <td>2</td>\n",
       "      <td>3.205633</td>\n",
       "      <td>3.357215</td>\n",
       "      <td>0</td>\n",
       "    </tr>\n",
       "    <tr>\n",
       "      <th>4</th>\n",
       "      <td>1</td>\n",
       "      <td>1</td>\n",
       "      <td>1</td>\n",
       "      <td>1</td>\n",
       "      <td>1</td>\n",
       "      <td>1</td>\n",
       "      <td>0</td>\n",
       "      <td>26</td>\n",
       "      <td>198.362265</td>\n",
       "      <td>1.0</td>\n",
       "      <td>3</td>\n",
       "      <td>1.113884</td>\n",
       "      <td>1.120078</td>\n",
       "      <td>0</td>\n",
       "    </tr>\n",
       "    <tr>\n",
       "      <th>5</th>\n",
       "      <td>1</td>\n",
       "      <td>1</td>\n",
       "      <td>0</td>\n",
       "      <td>0</td>\n",
       "      <td>1</td>\n",
       "      <td>1</td>\n",
       "      <td>1</td>\n",
       "      <td>34</td>\n",
       "      <td>450.743960</td>\n",
       "      <td>1.0</td>\n",
       "      <td>3</td>\n",
       "      <td>2.623477</td>\n",
       "      <td>2.637007</td>\n",
       "      <td>0</td>\n",
       "    </tr>\n",
       "    <tr>\n",
       "      <th>6</th>\n",
       "      <td>1</td>\n",
       "      <td>1</td>\n",
       "      <td>1</td>\n",
       "      <td>1</td>\n",
       "      <td>0</td>\n",
       "      <td>6</td>\n",
       "      <td>1</td>\n",
       "      <td>32</td>\n",
       "      <td>94.266389</td>\n",
       "      <td>6.0</td>\n",
       "      <td>2</td>\n",
       "      <td>1.138941</td>\n",
       "      <td>1.277242</td>\n",
       "      <td>0</td>\n",
       "    </tr>\n",
       "    <tr>\n",
       "      <th>7</th>\n",
       "      <td>0</td>\n",
       "      <td>1</td>\n",
       "      <td>0</td>\n",
       "      <td>0</td>\n",
       "      <td>1</td>\n",
       "      <td>1</td>\n",
       "      <td>0</td>\n",
       "      <td>30</td>\n",
       "      <td>217.786641</td>\n",
       "      <td>1.0</td>\n",
       "      <td>0</td>\n",
       "      <td>1.213502</td>\n",
       "      <td>1.049387</td>\n",
       "      <td>1</td>\n",
       "    </tr>\n",
       "    <tr>\n",
       "      <th>8</th>\n",
       "      <td>1</td>\n",
       "      <td>1</td>\n",
       "      <td>1</td>\n",
       "      <td>1</td>\n",
       "      <td>1</td>\n",
       "      <td>1</td>\n",
       "      <td>1</td>\n",
       "      <td>23</td>\n",
       "      <td>45.409909</td>\n",
       "      <td>1.0</td>\n",
       "      <td>1</td>\n",
       "      <td>1.106239</td>\n",
       "      <td>1.059333</td>\n",
       "      <td>0</td>\n",
       "    </tr>\n",
       "    <tr>\n",
       "      <th>9</th>\n",
       "      <td>0</td>\n",
       "      <td>1</td>\n",
       "      <td>0</td>\n",
       "      <td>0</td>\n",
       "      <td>1</td>\n",
       "      <td>1</td>\n",
       "      <td>0</td>\n",
       "      <td>31</td>\n",
       "      <td>65.310836</td>\n",
       "      <td>1.0</td>\n",
       "      <td>11</td>\n",
       "      <td>1.810852</td>\n",
       "      <td>1.951368</td>\n",
       "      <td>0</td>\n",
       "    </tr>\n",
       "  </tbody>\n",
       "</table>\n",
       "</div>"
      ],
      "text/plain": [
       "   gender  Near_Location  Partner  Promo_friends  Phone  Contract_period  \\\n",
       "0       1              1        1              1      0                6   \n",
       "1       0              1        0              0      1               12   \n",
       "2       0              1        1              0      1                1   \n",
       "3       0              1        1              1      1               12   \n",
       "4       1              1        1              1      1                1   \n",
       "5       1              1        0              0      1                1   \n",
       "6       1              1        1              1      0                6   \n",
       "7       0              1        0              0      1                1   \n",
       "8       1              1        1              1      1                1   \n",
       "9       0              1        0              0      1                1   \n",
       "\n",
       "   Group_visits  Age  Avg_additional_charges_total  Month_to_end_contract  \\\n",
       "0             1   29                     14.227470                    5.0   \n",
       "1             1   31                    113.202938                   12.0   \n",
       "2             0   28                    129.448479                    1.0   \n",
       "3             1   33                     62.669863                   12.0   \n",
       "4             0   26                    198.362265                    1.0   \n",
       "5             1   34                    450.743960                    1.0   \n",
       "6             1   32                     94.266389                    6.0   \n",
       "7             0   30                    217.786641                    1.0   \n",
       "8             1   23                     45.409909                    1.0   \n",
       "9             0   31                     65.310836                    1.0   \n",
       "\n",
       "   Lifetime  Avg_class_frequency_total  Avg_class_frequency_current_month  \\\n",
       "0         3                   0.020398                           0.000000   \n",
       "1         7                   1.922936                           1.910244   \n",
       "2         2                   1.859098                           1.736502   \n",
       "3         2                   3.205633                           3.357215   \n",
       "4         3                   1.113884                           1.120078   \n",
       "5         3                   2.623477                           2.637007   \n",
       "6         2                   1.138941                           1.277242   \n",
       "7         0                   1.213502                           1.049387   \n",
       "8         1                   1.106239                           1.059333   \n",
       "9        11                   1.810852                           1.951368   \n",
       "\n",
       "   Churn  \n",
       "0      0  \n",
       "1      0  \n",
       "2      0  \n",
       "3      0  \n",
       "4      0  \n",
       "5      0  \n",
       "6      0  \n",
       "7      1  \n",
       "8      0  \n",
       "9      0  "
      ]
     },
     "execution_count": 3,
     "metadata": {},
     "output_type": "execute_result"
    },
    {
     "data": {
      "text/plain": [
       "gender                                 int64\n",
       "Near_Location                          int64\n",
       "Partner                                int64\n",
       "Promo_friends                          int64\n",
       "Phone                                  int64\n",
       "Contract_period                        int64\n",
       "Group_visits                           int64\n",
       "Age                                    int64\n",
       "Avg_additional_charges_total         float64\n",
       "Month_to_end_contract                float64\n",
       "Lifetime                               int64\n",
       "Avg_class_frequency_total            float64\n",
       "Avg_class_frequency_current_month    float64\n",
       "Churn                                  int64\n",
       "dtype: object"
      ]
     },
     "execution_count": 3,
     "metadata": {},
     "output_type": "execute_result"
    }
   ],
   "source": [
    "df_preview = pd.read_csv('https://code.s3.yandex.net/datasets/gym_churn.csv', nrows=10)\n",
    "df_preview\n",
    "df_preview.dtypes"
   ]
  },
  {
   "cell_type": "markdown",
   "metadata": {},
   "source": [
    "В нашем датасете есть ряд столбцов с бинарными значениями (пол, наличие телефона и др, а также столбцы, в которых диапазон значений вряд ли выходит за границы [0-255] (возраст, срок абонемента, Lifetime) - для этих столбцов мы можем изменить тип данных на uint8, занимающий всего 1 байт памяти, для столбцов с типом данных float мы понизим разрядность до 32 бит."
   ]
  },
  {
   "cell_type": "code",
   "execution_count": 4,
   "metadata": {},
   "outputs": [
    {
     "data": {
      "text/plain": [
       "gender                                 uint8\n",
       "Near_Location                          uint8\n",
       "Partner                                uint8\n",
       "Promo_friends                          uint8\n",
       "Phone                                  uint8\n",
       "Contract_period                        uint8\n",
       "Group_visits                           uint8\n",
       "Age                                    uint8\n",
       "Avg_additional_charges_total         float32\n",
       "Month_to_end_contract                float32\n",
       "Lifetime                               uint8\n",
       "Avg_class_frequency_total            float32\n",
       "Avg_class_frequency_current_month    float32\n",
       "Churn                                  uint8\n",
       "dtype: object"
      ]
     },
     "execution_count": 4,
     "metadata": {},
     "output_type": "execute_result"
    }
   ],
   "source": [
    "# функция для изменения типа данных в зависимости от изначального типа - int или float\n",
    "def downcast_data_type(col):\n",
    "    float_cols = [\n",
    "        'Avg_additional_charges_total',\n",
    "        'Month_to_end_contract',\n",
    "        'Avg_class_frequency_total',\n",
    "        'Avg_class_frequency_current_month'\n",
    "    ]\n",
    "   \n",
    "    if col in float_cols:\n",
    "        df_preview[col] = pd.to_numeric(df_preview[col], downcast='float')\n",
    "    else:\n",
    "        df_preview[col] = pd.to_numeric(df_preview[col], downcast='unsigned')\n",
    "\n",
    "for i in df_preview.columns:\n",
    "    downcast_data_type(i)\n",
    "\n",
    "df_preview.dtypes"
   ]
  },
  {
   "cell_type": "code",
   "execution_count": 5,
   "metadata": {},
   "outputs": [],
   "source": [
    "# создаем словарь с новыми типами данных и названиями колонок\n",
    "dtypes = df_preview.dtypes\n",
    "colnames = dtypes.index\n",
    "types = [i.name for i in dtypes.values]\n",
    "column_types = dict(zip(colnames, types))\n",
    "\n",
    "# читаем файл целиком, передав нужные типы данных\n",
    "df = pd.read_csv('https://code.s3.yandex.net/datasets/gym_churn.csv', dtype=column_types)"
   ]
  },
  {
   "cell_type": "code",
   "execution_count": 6,
   "metadata": {},
   "outputs": [
    {
     "name": "stdout",
     "output_type": "stream",
     "text": [
      "<class 'pandas.core.frame.DataFrame'>\n",
      "RangeIndex: 4000 entries, 0 to 3999\n",
      "Data columns (total 14 columns):\n",
      " #   Column                             Non-Null Count  Dtype  \n",
      "---  ------                             --------------  -----  \n",
      " 0   gender                             4000 non-null   uint8  \n",
      " 1   Near_Location                      4000 non-null   uint8  \n",
      " 2   Partner                            4000 non-null   uint8  \n",
      " 3   Promo_friends                      4000 non-null   uint8  \n",
      " 4   Phone                              4000 non-null   uint8  \n",
      " 5   Contract_period                    4000 non-null   uint8  \n",
      " 6   Group_visits                       4000 non-null   uint8  \n",
      " 7   Age                                4000 non-null   uint8  \n",
      " 8   Avg_additional_charges_total       4000 non-null   float32\n",
      " 9   Month_to_end_contract              4000 non-null   float32\n",
      " 10  Lifetime                           4000 non-null   uint8  \n",
      " 11  Avg_class_frequency_total          4000 non-null   float32\n",
      " 12  Avg_class_frequency_current_month  4000 non-null   float32\n",
      " 13  Churn                              4000 non-null   uint8  \n",
      "dtypes: float32(4), uint8(10)\n",
      "memory usage: 101.7 KB\n"
     ]
    }
   ],
   "source": [
    "df.info(memory_usage='deep')"
   ]
  },
  {
   "cell_type": "code",
   "execution_count": 7,
   "metadata": {},
   "outputs": [
    {
     "data": {
      "text/plain": [
       "0"
      ]
     },
     "execution_count": 7,
     "metadata": {},
     "output_type": "execute_result"
    }
   ],
   "source": [
    "df.duplicated().sum()"
   ]
  },
  {
   "cell_type": "markdown",
   "metadata": {},
   "source": [
    "Датасет включает в себя 4000 записей. Пропуски и дубликаты отсутствуют. Все 14 столбцов содержат данные типа int или float, категориальные значения отсутствуют. Объем занимаемой памяти не превышает после преобразований составил чуть более 100 КВ.\n",
    "\n",
    "Структура датасета:\n",
    "\n",
    "Текущие поля в датасете:  \n",
    "Данные клиента за предыдущий до проверки факта оттока месяц:  \n",
    "- `gender` — пол;  \n",
    "- `Near_Location` — проживание или работа в районе, где находится фитнес-центр;  \n",
    "- `Partner` — сотрудник компании-партнёра клуба (сотрудничество с компаниями, чьи сотрудники могут получать скидки на абонемент, в таком случае фитнес-центр хранит информацию о работодателе клиента);  \n",
    "- `Promo_friends` — факт первоначальной записи в рамках акции «приведи друга» (использовал промо-код от знакомого при оплате первого абонемента);  \n",
    "- `Phone` — наличие контактного телефона;  \n",
    "- `Age` — возраст;  \n",
    "- `Lifetime` — время с момента первого обращения в фитнес-центр (в месяцах).  \n",
    "Все поля бинарные, кроме `Age` и `Lifetime`.\n",
    "\n",
    "Информация на основе журнала посещений, покупок и информация о текущем статусе абонемента клиента:  \n",
    "- `Contract_period` — длительность текущего действующего абонемента (месяц, 3 месяца, 6 месяцев, год);  \n",
    "- `Month_to_end_contract` — срок до окончания текущего действующего абонемента (в месяцах);  \n",
    "- `Group_visits` — факт посещения групповых занятий;  \n",
    "- `Avg_class_frequency_total` — средняя частота посещений в неделю за все время с начала действия абонемента;  \n",
    "- `Avg_class_frequency_current_month` — средняя частота посещений в неделю за предыдущий месяц;  \n",
    "- `Avg_additional_charges_total` — суммарная выручка от других услуг фитнес-центра: кафе, спорт-товары, косметический и массажный салон; \n",
    "\n",
    "\n",
    "- `Churn` — факт оттока в текущем месяце.\n",
    "\n",
    "Значения в столбцах `Group_visits` и `Churn` - бинарные, в остальных - нет.\n",
    "Данные о дате/времени в датасете отсутствуют.\n",
    "\n",
    "Для удобства работы приведем наименования столбцов к нижнему регистру"
   ]
  },
  {
   "cell_type": "code",
   "execution_count": 8,
   "metadata": {},
   "outputs": [
    {
     "data": {
      "text/plain": [
       "Index(['gender', 'near_location', 'partner', 'promo_friends', 'phone',\n",
       "       'contract_period', 'group_visits', 'age',\n",
       "       'avg_additional_charges_total', 'month_to_end_contract', 'lifetime',\n",
       "       'avg_class_frequency_total', 'avg_class_frequency_current_month',\n",
       "       'churn'],\n",
       "      dtype='object')"
      ]
     },
     "execution_count": 8,
     "metadata": {},
     "output_type": "execute_result"
    }
   ],
   "source": [
    "df.columns = df.columns.str.lower()\n",
    "df.columns"
   ]
  },
  {
   "cell_type": "markdown",
   "metadata": {},
   "source": [
    "Посмотрим на описательную статистику по нашим данным"
   ]
  },
  {
   "cell_type": "code",
   "execution_count": 9,
   "metadata": {},
   "outputs": [
    {
     "data": {
      "text/html": [
       "<div>\n",
       "<style scoped>\n",
       "    .dataframe tbody tr th:only-of-type {\n",
       "        vertical-align: middle;\n",
       "    }\n",
       "\n",
       "    .dataframe tbody tr th {\n",
       "        vertical-align: top;\n",
       "    }\n",
       "\n",
       "    .dataframe thead th {\n",
       "        text-align: right;\n",
       "    }\n",
       "</style>\n",
       "<table border=\"1\" class=\"dataframe\">\n",
       "  <thead>\n",
       "    <tr style=\"text-align: right;\">\n",
       "      <th></th>\n",
       "      <th>count</th>\n",
       "      <th>mean</th>\n",
       "      <th>std</th>\n",
       "      <th>min</th>\n",
       "      <th>25%</th>\n",
       "      <th>50%</th>\n",
       "      <th>75%</th>\n",
       "      <th>max</th>\n",
       "    </tr>\n",
       "  </thead>\n",
       "  <tbody>\n",
       "    <tr>\n",
       "      <th>gender</th>\n",
       "      <td>4000.0</td>\n",
       "      <td>0.510250</td>\n",
       "      <td>0.499957</td>\n",
       "      <td>0.000000</td>\n",
       "      <td>0.000000</td>\n",
       "      <td>1.000000</td>\n",
       "      <td>1.000000</td>\n",
       "      <td>1.000000</td>\n",
       "    </tr>\n",
       "    <tr>\n",
       "      <th>near_location</th>\n",
       "      <td>4000.0</td>\n",
       "      <td>0.845250</td>\n",
       "      <td>0.361711</td>\n",
       "      <td>0.000000</td>\n",
       "      <td>1.000000</td>\n",
       "      <td>1.000000</td>\n",
       "      <td>1.000000</td>\n",
       "      <td>1.000000</td>\n",
       "    </tr>\n",
       "    <tr>\n",
       "      <th>partner</th>\n",
       "      <td>4000.0</td>\n",
       "      <td>0.486750</td>\n",
       "      <td>0.499887</td>\n",
       "      <td>0.000000</td>\n",
       "      <td>0.000000</td>\n",
       "      <td>0.000000</td>\n",
       "      <td>1.000000</td>\n",
       "      <td>1.000000</td>\n",
       "    </tr>\n",
       "    <tr>\n",
       "      <th>promo_friends</th>\n",
       "      <td>4000.0</td>\n",
       "      <td>0.308500</td>\n",
       "      <td>0.461932</td>\n",
       "      <td>0.000000</td>\n",
       "      <td>0.000000</td>\n",
       "      <td>0.000000</td>\n",
       "      <td>1.000000</td>\n",
       "      <td>1.000000</td>\n",
       "    </tr>\n",
       "    <tr>\n",
       "      <th>phone</th>\n",
       "      <td>4000.0</td>\n",
       "      <td>0.903500</td>\n",
       "      <td>0.295313</td>\n",
       "      <td>0.000000</td>\n",
       "      <td>1.000000</td>\n",
       "      <td>1.000000</td>\n",
       "      <td>1.000000</td>\n",
       "      <td>1.000000</td>\n",
       "    </tr>\n",
       "    <tr>\n",
       "      <th>contract_period</th>\n",
       "      <td>4000.0</td>\n",
       "      <td>4.681250</td>\n",
       "      <td>4.549706</td>\n",
       "      <td>1.000000</td>\n",
       "      <td>1.000000</td>\n",
       "      <td>1.000000</td>\n",
       "      <td>6.000000</td>\n",
       "      <td>12.000000</td>\n",
       "    </tr>\n",
       "    <tr>\n",
       "      <th>group_visits</th>\n",
       "      <td>4000.0</td>\n",
       "      <td>0.412250</td>\n",
       "      <td>0.492301</td>\n",
       "      <td>0.000000</td>\n",
       "      <td>0.000000</td>\n",
       "      <td>0.000000</td>\n",
       "      <td>1.000000</td>\n",
       "      <td>1.000000</td>\n",
       "    </tr>\n",
       "    <tr>\n",
       "      <th>age</th>\n",
       "      <td>4000.0</td>\n",
       "      <td>29.184250</td>\n",
       "      <td>3.258367</td>\n",
       "      <td>18.000000</td>\n",
       "      <td>27.000000</td>\n",
       "      <td>29.000000</td>\n",
       "      <td>31.000000</td>\n",
       "      <td>41.000000</td>\n",
       "    </tr>\n",
       "    <tr>\n",
       "      <th>avg_additional_charges_total</th>\n",
       "      <td>4000.0</td>\n",
       "      <td>146.943726</td>\n",
       "      <td>96.355606</td>\n",
       "      <td>0.148205</td>\n",
       "      <td>68.868832</td>\n",
       "      <td>136.220161</td>\n",
       "      <td>210.949619</td>\n",
       "      <td>552.590759</td>\n",
       "    </tr>\n",
       "    <tr>\n",
       "      <th>month_to_end_contract</th>\n",
       "      <td>4000.0</td>\n",
       "      <td>4.322750</td>\n",
       "      <td>4.191298</td>\n",
       "      <td>1.000000</td>\n",
       "      <td>1.000000</td>\n",
       "      <td>1.000000</td>\n",
       "      <td>6.000000</td>\n",
       "      <td>12.000000</td>\n",
       "    </tr>\n",
       "    <tr>\n",
       "      <th>lifetime</th>\n",
       "      <td>4000.0</td>\n",
       "      <td>3.724750</td>\n",
       "      <td>3.749267</td>\n",
       "      <td>0.000000</td>\n",
       "      <td>1.000000</td>\n",
       "      <td>3.000000</td>\n",
       "      <td>5.000000</td>\n",
       "      <td>31.000000</td>\n",
       "    </tr>\n",
       "    <tr>\n",
       "      <th>avg_class_frequency_total</th>\n",
       "      <td>4000.0</td>\n",
       "      <td>1.879020</td>\n",
       "      <td>0.972245</td>\n",
       "      <td>0.000000</td>\n",
       "      <td>1.180875</td>\n",
       "      <td>1.832768</td>\n",
       "      <td>2.536078</td>\n",
       "      <td>6.023668</td>\n",
       "    </tr>\n",
       "    <tr>\n",
       "      <th>avg_class_frequency_current_month</th>\n",
       "      <td>4000.0</td>\n",
       "      <td>1.767052</td>\n",
       "      <td>1.052906</td>\n",
       "      <td>0.000000</td>\n",
       "      <td>0.963003</td>\n",
       "      <td>1.719574</td>\n",
       "      <td>2.510336</td>\n",
       "      <td>6.146783</td>\n",
       "    </tr>\n",
       "    <tr>\n",
       "      <th>churn</th>\n",
       "      <td>4000.0</td>\n",
       "      <td>0.265250</td>\n",
       "      <td>0.441521</td>\n",
       "      <td>0.000000</td>\n",
       "      <td>0.000000</td>\n",
       "      <td>0.000000</td>\n",
       "      <td>1.000000</td>\n",
       "      <td>1.000000</td>\n",
       "    </tr>\n",
       "  </tbody>\n",
       "</table>\n",
       "</div>"
      ],
      "text/plain": [
       "                                    count        mean        std        min  \\\n",
       "gender                             4000.0    0.510250   0.499957   0.000000   \n",
       "near_location                      4000.0    0.845250   0.361711   0.000000   \n",
       "partner                            4000.0    0.486750   0.499887   0.000000   \n",
       "promo_friends                      4000.0    0.308500   0.461932   0.000000   \n",
       "phone                              4000.0    0.903500   0.295313   0.000000   \n",
       "contract_period                    4000.0    4.681250   4.549706   1.000000   \n",
       "group_visits                       4000.0    0.412250   0.492301   0.000000   \n",
       "age                                4000.0   29.184250   3.258367  18.000000   \n",
       "avg_additional_charges_total       4000.0  146.943726  96.355606   0.148205   \n",
       "month_to_end_contract              4000.0    4.322750   4.191298   1.000000   \n",
       "lifetime                           4000.0    3.724750   3.749267   0.000000   \n",
       "avg_class_frequency_total          4000.0    1.879020   0.972245   0.000000   \n",
       "avg_class_frequency_current_month  4000.0    1.767052   1.052906   0.000000   \n",
       "churn                              4000.0    0.265250   0.441521   0.000000   \n",
       "\n",
       "                                         25%         50%         75%  \\\n",
       "gender                              0.000000    1.000000    1.000000   \n",
       "near_location                       1.000000    1.000000    1.000000   \n",
       "partner                             0.000000    0.000000    1.000000   \n",
       "promo_friends                       0.000000    0.000000    1.000000   \n",
       "phone                               1.000000    1.000000    1.000000   \n",
       "contract_period                     1.000000    1.000000    6.000000   \n",
       "group_visits                        0.000000    0.000000    1.000000   \n",
       "age                                27.000000   29.000000   31.000000   \n",
       "avg_additional_charges_total       68.868832  136.220161  210.949619   \n",
       "month_to_end_contract               1.000000    1.000000    6.000000   \n",
       "lifetime                            1.000000    3.000000    5.000000   \n",
       "avg_class_frequency_total           1.180875    1.832768    2.536078   \n",
       "avg_class_frequency_current_month   0.963003    1.719574    2.510336   \n",
       "churn                               0.000000    0.000000    1.000000   \n",
       "\n",
       "                                          max  \n",
       "gender                               1.000000  \n",
       "near_location                        1.000000  \n",
       "partner                              1.000000  \n",
       "promo_friends                        1.000000  \n",
       "phone                                1.000000  \n",
       "contract_period                     12.000000  \n",
       "group_visits                         1.000000  \n",
       "age                                 41.000000  \n",
       "avg_additional_charges_total       552.590759  \n",
       "month_to_end_contract               12.000000  \n",
       "lifetime                            31.000000  \n",
       "avg_class_frequency_total            6.023668  \n",
       "avg_class_frequency_current_month    6.146783  \n",
       "churn                                1.000000  "
      ]
     },
     "execution_count": 9,
     "metadata": {},
     "output_type": "execute_result"
    }
   ],
   "source": [
    "df.describe().T"
   ]
  },
  {
   "cell_type": "markdown",
   "metadata": {},
   "source": [
    "Столбцы `gender`, `near_location`, `partner`, `promo_friends`, `phone`, `group_visits` и `churn` - бинарные, то есть содержат только нули и единицы. Среднее значение отражает соотношение нулей и единиц. Так для `gender`, `near_location` и `phone` характерно преобладание единиц (значит, для большей части пользователей в базе указан телефон, и нам известно, что они проживают недалеко от фитнес-центра, а пол исходя из предоставленных данных определить невозможно), в остальных указанных столбцах больше нулей.\n",
    "\n",
    "Длительность текущего абонемента находится в диапазоне от 1 до 12 месяцев со средним значением 4.7 и стандартным отклонением 4.5. Медианное значение - 1 месяц, значит как минимум половина пользователей использует месячный абонемент. Только четверть клиентов приобрели абонемент на срок от 6 месяцев и более. Если посмотреть на описательную статистику по столбцу \"Срок до окончания текущего абонемента\", мы увидим аналогичные цифры. Можем преположить, что эти два столбца сильно коррелируют друг с другом (проверим при расчете коэффициентов корреляции).\n",
    "\n",
    "`Lifetime` (время с первого посещения клиентом фитнес-центра) принимает значения от 0 до 31 месяца, среднее арифместическое - 3.7, стандартное отклонение тоже 3.7, медиана - 3. У 25% клиентов lifetime составляет более 5 месяцев. Вероятнее всего в выборке присутствует некоторое количество выбросов, включая аномально большое максимальное значение признака.\n",
    "\n",
    "Возраст клиентов - от 18 до 41 года, среднее значение 29 лет, стандартное отклонение - 3.3. Медиана практически совпадает со средним арифметическим, что может свидетельствовать о более-менее нормальном распределении даннного признака.\n",
    "\n",
    "Суммарная выручка от прочих услуг фитнес-центра варьируется от 0.15 до 553 единиц со средним 147 и стандартным отклонением 96. Медианное значение меньше среднего арифметического, значит среди значений признака могут присутствовать выбросы, \"перетягивающие\" среднее в бОльшую сторону.\n",
    "\n",
    "Статистики по признакам \"Средняя частота посещений в неделю с начала действия абонемента\" и \"Средняя частота посещений в неделю за предыдущий месяц\" очень близки. Данные два признака скорее всего также сильно коррелируют друг с другом.\n",
    "\n",
    "Сгруппируем данные по значениям столбца `churn` и исследуем средние значения признаков."
   ]
  },
  {
   "cell_type": "code",
   "execution_count": 10,
   "metadata": {},
   "outputs": [
    {
     "data": {
      "text/html": [
       "<style type=\"text/css\">\n",
       "#T_82262_row0_col0 {\n",
       "  background-color: #f8f1f8;\n",
       "  color: #000000;\n",
       "}\n",
       "#T_82262_row0_col1, #T_82262_row1_col1, #T_82262_row2_col1, #T_82262_row3_col1, #T_82262_row3_col2, #T_82262_row4_col0, #T_82262_row4_col1, #T_82262_row4_col2, #T_82262_row5_col1, #T_82262_row5_col2, #T_82262_row6_col2, #T_82262_row7_col3, #T_82262_row8_col2, #T_82262_row9_col2, #T_82262_row10_col2, #T_82262_row11_col2, #T_82262_row11_col3, #T_82262_row12_col2, #T_82262_row12_col3 {\n",
       "  background-color: #fff7fb;\n",
       "  color: #000000;\n",
       "}\n",
       "#T_82262_row0_col2, #T_82262_row1_col2, #T_82262_row8_col1 {\n",
       "  background-color: #faf3f9;\n",
       "  color: #000000;\n",
       "}\n",
       "#T_82262_row0_col3, #T_82262_row1_col3, #T_82262_row2_col3, #T_82262_row3_col3, #T_82262_row4_col3, #T_82262_row5_col3, #T_82262_row6_col3, #T_82262_row7_col0, #T_82262_row8_col3, #T_82262_row9_col3, #T_82262_row10_col0, #T_82262_row11_col0, #T_82262_row11_col1, #T_82262_row12_col0, #T_82262_row12_col1 {\n",
       "  background-color: #023858;\n",
       "  color: #f1f1f1;\n",
       "}\n",
       "#T_82262_row1_col0, #T_82262_row9_col1 {\n",
       "  background-color: #f6eff7;\n",
       "  color: #000000;\n",
       "}\n",
       "#T_82262_row2_col0, #T_82262_row8_col0 {\n",
       "  background-color: #f7f0f7;\n",
       "  color: #000000;\n",
       "}\n",
       "#T_82262_row2_col2 {\n",
       "  background-color: #fbf3f9;\n",
       "  color: #000000;\n",
       "}\n",
       "#T_82262_row3_col0 {\n",
       "  background-color: #fcf4fa;\n",
       "  color: #000000;\n",
       "}\n",
       "#T_82262_row5_col0, #T_82262_row6_col1 {\n",
       "  background-color: #fef6fb;\n",
       "  color: #000000;\n",
       "}\n",
       "#T_82262_row6_col0 {\n",
       "  background-color: #fef6fa;\n",
       "  color: #000000;\n",
       "}\n",
       "#T_82262_row7_col1 {\n",
       "  background-color: #2484ba;\n",
       "  color: #f1f1f1;\n",
       "}\n",
       "#T_82262_row7_col2 {\n",
       "  background-color: #ede7f2;\n",
       "  color: #000000;\n",
       "}\n",
       "#T_82262_row9_col0 {\n",
       "  background-color: #f5eef6;\n",
       "  color: #000000;\n",
       "}\n",
       "#T_82262_row10_col1 {\n",
       "  background-color: #045687;\n",
       "  color: #f1f1f1;\n",
       "}\n",
       "#T_82262_row10_col3 {\n",
       "  background-color: #cdd0e5;\n",
       "  color: #000000;\n",
       "}\n",
       "</style>\n",
       "<table id=\"T_82262_\">\n",
       "  <thead>\n",
       "    <tr>\n",
       "      <th class=\"index_name level0\" >churn</th>\n",
       "      <th class=\"col_heading level0 col0\" >0</th>\n",
       "      <th class=\"col_heading level0 col1\" >1</th>\n",
       "      <th class=\"col_heading level0 col2\" >diff_abs</th>\n",
       "      <th class=\"col_heading level0 col3\" >diff_%</th>\n",
       "    </tr>\n",
       "  </thead>\n",
       "  <tbody>\n",
       "    <tr>\n",
       "      <th id=\"T_82262_level0_row0\" class=\"row_heading level0 row0\" >lifetime</th>\n",
       "      <td id=\"T_82262_row0_col0\" class=\"data row0 col0\" >4.710000</td>\n",
       "      <td id=\"T_82262_row0_col1\" class=\"data row0 col1\" >0.990000</td>\n",
       "      <td id=\"T_82262_row0_col2\" class=\"data row0 col2\" >3.720000</td>\n",
       "      <td id=\"T_82262_row0_col3\" class=\"data row0 col3\" >79.000000</td>\n",
       "    </tr>\n",
       "    <tr>\n",
       "      <th id=\"T_82262_level0_row1\" class=\"row_heading level0 row1\" >contract_period</th>\n",
       "      <td id=\"T_82262_row1_col0\" class=\"data row1 col0\" >5.750000</td>\n",
       "      <td id=\"T_82262_row1_col1\" class=\"data row1 col1\" >1.730000</td>\n",
       "      <td id=\"T_82262_row1_col2\" class=\"data row1 col2\" >4.020000</td>\n",
       "      <td id=\"T_82262_row1_col3\" class=\"data row1 col3\" >69.900000</td>\n",
       "    </tr>\n",
       "    <tr>\n",
       "      <th id=\"T_82262_level0_row2\" class=\"row_heading level0 row2\" >month_to_end_contract</th>\n",
       "      <td id=\"T_82262_row2_col0\" class=\"data row2 col0\" >5.280000</td>\n",
       "      <td id=\"T_82262_row2_col1\" class=\"data row2 col1\" >1.660000</td>\n",
       "      <td id=\"T_82262_row2_col2\" class=\"data row2 col2\" >3.620000</td>\n",
       "      <td id=\"T_82262_row2_col3\" class=\"data row2 col3\" >68.600000</td>\n",
       "    </tr>\n",
       "    <tr>\n",
       "      <th id=\"T_82262_level0_row3\" class=\"row_heading level0 row3\" >avg_class_frequency_current_month</th>\n",
       "      <td id=\"T_82262_row3_col0\" class=\"data row3 col0\" >2.030000</td>\n",
       "      <td id=\"T_82262_row3_col1\" class=\"data row3 col1\" >1.040000</td>\n",
       "      <td id=\"T_82262_row3_col2\" class=\"data row3 col2\" >0.990000</td>\n",
       "      <td id=\"T_82262_row3_col3\" class=\"data row3 col3\" >48.800000</td>\n",
       "    </tr>\n",
       "    <tr>\n",
       "      <th id=\"T_82262_level0_row4\" class=\"row_heading level0 row4\" >promo_friends</th>\n",
       "      <td id=\"T_82262_row4_col0\" class=\"data row4 col0\" >0.350000</td>\n",
       "      <td id=\"T_82262_row4_col1\" class=\"data row4 col1\" >0.180000</td>\n",
       "      <td id=\"T_82262_row4_col2\" class=\"data row4 col2\" >0.170000</td>\n",
       "      <td id=\"T_82262_row4_col3\" class=\"data row4 col3\" >48.600000</td>\n",
       "    </tr>\n",
       "    <tr>\n",
       "      <th id=\"T_82262_level0_row5\" class=\"row_heading level0 row5\" >group_visits</th>\n",
       "      <td id=\"T_82262_row5_col0\" class=\"data row5 col0\" >0.460000</td>\n",
       "      <td id=\"T_82262_row5_col1\" class=\"data row5 col1\" >0.270000</td>\n",
       "      <td id=\"T_82262_row5_col2\" class=\"data row5 col2\" >0.190000</td>\n",
       "      <td id=\"T_82262_row5_col3\" class=\"data row5 col3\" >41.300000</td>\n",
       "    </tr>\n",
       "    <tr>\n",
       "      <th id=\"T_82262_level0_row6\" class=\"row_heading level0 row6\" >partner</th>\n",
       "      <td id=\"T_82262_row6_col0\" class=\"data row6 col0\" >0.530000</td>\n",
       "      <td id=\"T_82262_row6_col1\" class=\"data row6 col1\" >0.360000</td>\n",
       "      <td id=\"T_82262_row6_col2\" class=\"data row6 col2\" >0.170000</td>\n",
       "      <td id=\"T_82262_row6_col3\" class=\"data row6 col3\" >32.100000</td>\n",
       "    </tr>\n",
       "    <tr>\n",
       "      <th id=\"T_82262_level0_row7\" class=\"row_heading level0 row7\" >avg_additional_charges_total</th>\n",
       "      <td id=\"T_82262_row7_col0\" class=\"data row7 col0\" >158.449997</td>\n",
       "      <td id=\"T_82262_row7_col1\" class=\"data row7 col1\" >115.080002</td>\n",
       "      <td id=\"T_82262_row7_col2\" class=\"data row7 col2\" >43.369995</td>\n",
       "      <td id=\"T_82262_row7_col3\" class=\"data row7 col3\" >27.400000</td>\n",
       "    </tr>\n",
       "    <tr>\n",
       "      <th id=\"T_82262_level0_row8\" class=\"row_heading level0 row8\" >avg_class_frequency_total</th>\n",
       "      <td id=\"T_82262_row8_col0\" class=\"data row8 col0\" >2.020000</td>\n",
       "      <td id=\"T_82262_row8_col1\" class=\"data row8 col1\" >1.470000</td>\n",
       "      <td id=\"T_82262_row8_col2\" class=\"data row8 col2\" >0.550000</td>\n",
       "      <td id=\"T_82262_row8_col3\" class=\"data row8 col3\" >27.200000</td>\n",
       "    </tr>\n",
       "    <tr>\n",
       "      <th id=\"T_82262_level0_row9\" class=\"row_heading level0 row9\" >near_location</th>\n",
       "      <td id=\"T_82262_row9_col0\" class=\"data row9 col0\" >0.870000</td>\n",
       "      <td id=\"T_82262_row9_col1\" class=\"data row9 col1\" >0.770000</td>\n",
       "      <td id=\"T_82262_row9_col2\" class=\"data row9 col2\" >0.100000</td>\n",
       "      <td id=\"T_82262_row9_col3\" class=\"data row9 col3\" >11.500000</td>\n",
       "    </tr>\n",
       "    <tr>\n",
       "      <th id=\"T_82262_level0_row10\" class=\"row_heading level0 row10\" >age</th>\n",
       "      <td id=\"T_82262_row10_col0\" class=\"data row10 col0\" >29.980000</td>\n",
       "      <td id=\"T_82262_row10_col1\" class=\"data row10 col1\" >26.990000</td>\n",
       "      <td id=\"T_82262_row10_col2\" class=\"data row10 col2\" >2.990000</td>\n",
       "      <td id=\"T_82262_row10_col3\" class=\"data row10 col3\" >10.000000</td>\n",
       "    </tr>\n",
       "    <tr>\n",
       "      <th id=\"T_82262_level0_row11\" class=\"row_heading level0 row11\" >gender</th>\n",
       "      <td id=\"T_82262_row11_col0\" class=\"data row11 col0\" >0.510000</td>\n",
       "      <td id=\"T_82262_row11_col1\" class=\"data row11 col1\" >0.510000</td>\n",
       "      <td id=\"T_82262_row11_col2\" class=\"data row11 col2\" >0.000000</td>\n",
       "      <td id=\"T_82262_row11_col3\" class=\"data row11 col3\" >0.000000</td>\n",
       "    </tr>\n",
       "    <tr>\n",
       "      <th id=\"T_82262_level0_row12\" class=\"row_heading level0 row12\" >phone</th>\n",
       "      <td id=\"T_82262_row12_col0\" class=\"data row12 col0\" >0.900000</td>\n",
       "      <td id=\"T_82262_row12_col1\" class=\"data row12 col1\" >0.900000</td>\n",
       "      <td id=\"T_82262_row12_col2\" class=\"data row12 col2\" >0.000000</td>\n",
       "      <td id=\"T_82262_row12_col3\" class=\"data row12 col3\" >0.000000</td>\n",
       "    </tr>\n",
       "  </tbody>\n",
       "</table>\n"
      ],
      "text/plain": [
       "<pandas.io.formats.style.Styler at 0x20f2d3fd400>"
      ]
     },
     "execution_count": 10,
     "metadata": {},
     "output_type": "execute_result"
    }
   ],
   "source": [
    "means = df.groupby('churn').mean().round(2).T\n",
    "means['diff_abs'] = means[0] - means[1]\n",
    "means['diff_%'] = (means['diff_abs'] / means[0] * 100).round(1)\n",
    "\n",
    "means.sort_values(by='diff_%', ascending=False).style.background_gradient(axis=1)"
   ]
  },
  {
   "cell_type": "markdown",
   "metadata": {},
   "source": [
    "Для признаков \"пол\" и \"наличие контактного телефона\" средние значения в обеих группах (тех, кто ушел в отток, и тех, кто остался) практически не различаются. Скорее всего, эти признаки не влияют на склонность клиента к оттоку.\n",
    "\n",
    "При визуальном сравнении средних значений видно, что среди ушедших клиентов ниже доля тех, кто живет близко от фитнес центра,  тех кто пришел по промо-акции или является сотрудником компании-партнера, тех кто посещает групповые занятия. Такие клиенты в среднем также тратили меньше на дополнительные услуги центра и реже посещали зал. \n",
    "\n",
    "Сильное различие заметно в средних значениях признаков \"срок абонемента\" (для ушедших клиентов он в 3 раза ниже), количество месяцев до конца абонемента и время с первого посещения клиентом фитнес-центра. Получается, что чаще уходят те клиенты, кто оформил абонемент на короткий срок, у кого срок контракта подходит к концу, или с момента первого посещения в среднем прошло не более 1 месяца.\n",
    "\n",
    "Построим графики распределения признаков"
   ]
  },
  {
   "cell_type": "code",
   "execution_count": 11,
   "metadata": {},
   "outputs": [
    {
     "data": {
      "image/png": "[encoded data removed]",
      "text/plain": [
       "<Figure size 1440x1080 with 15 Axes>"
      ]
     },
     "metadata": {
      "needs_background": "light"
     },
     "output_type": "display_data"
    }
   ],
   "source": [
    "n_cols = 3\n",
    "n_rows = int(np.ceil(len(df.columns)/n_cols)) \n",
    "fig, axs = plt.subplots(n_rows, n_cols, figsize=(20, 15))\n",
    "\n",
    "axs = np.ravel(axs) \n",
    "\n",
    "plt.suptitle('Распределение признаков', size=16)\n",
    "\n",
    "for ax, col in zip(axs, df.columns):\n",
    "    sns.histplot(\n",
    "        data=df, \n",
    "        x=col, \n",
    "        hue=\"churn\", \n",
    "        ax=ax,\n",
    "        kde=True, \n",
    "    )\n",
    "    ax.set_title(f\"Распределение по признаку '{col}'\")\n",
    "  \n",
    "plt.tight_layout(rect=[0, 0.03, 1, 0.95]) \n",
    "plt.show();"
   ]
  },
  {
   "cell_type": "markdown",
   "metadata": {},
   "source": [
    "Гистограммы подтверждают выводы, сделанные нами в предыдущем пункте. \n",
    "\n",
    "Дополнительно можно отметить, что на графике распределения по признаку `avg_class_frequency_current_month` заметна аномально высокая доля клиентов, ушедших в отток, среди тех, кто ни разу не посещал тренировки - в принципе это логично, импульсивное решение \"начать тренироваться завтра / с понедельника / с 1 января\" так и не превратилось в реальные действия, и клиент ушел.\n",
    "\n",
    "По распределению признака `lifetime` видно, что значительная часть клиентов склонна \"отваливаться\" в первые месяцы своей жизни, чем дольше срок - тем меньше доля ушедших клиентов, а после 5-6 месяцев посещений она вообще стремится к нулю. Регулярные занятия формируют привычку, а у кого-то даже зависимость от эндорфинов. \n",
    "\n",
    "Построим матрицу корреляций признаков, чтобы проверить нет ли среди них сильно взаимосвязанных пар признаков"
   ]
  },
  {
   "cell_type": "code",
   "execution_count": 12,
   "metadata": {},
   "outputs": [
    {
     "data": {
      "image/png": "[encoded data removed]",
      "text/plain": [
       "<Figure size 864x864 with 2 Axes>"
      ]
     },
     "metadata": {
      "needs_background": "light"
     },
     "output_type": "display_data"
    }
   ],
   "source": [
    "fig, ax = plt.subplots(figsize=(12, 12))\n",
    "sns.heatmap(df.corr().round(3), annot=True, square=True, cmap='mako')\n",
    "ax.set_title(label = 'МАТРИЦА КОРРЕЛЯЦИИ ПРИЗНАКОВ', fontdict={'fontsize': 15, 'fontweight': 'bold'})\n",
    "plt.show();"
   ]
  },
  {
   "cell_type": "markdown",
   "metadata": {},
   "source": [
    "Высокая корреляция наблюдается у пар признаков:  \n",
    "- `contract_period` и `month_to_end_contract`,  \n",
    "- `avg_class_frequency_total` и `avg_class_frequency_current_month`.\n",
    "\n",
    "Об этом мы упоминали выше, когда исследовали данные описательной статистики по признакам. Матрица корреляции подтвердила наши предположения. Наличие мультиколлинеарности в данных может повлиять на результаты обучения линейных моделей, в результате чего мы получим нерепрезентативные веса у признаков и переобученный алгоритм. При выборе лучшей модели мы учтем фактор мультиколлинеарности и выберем оптимальный вариант на основе метрик.\n",
    "\n",
    "Итак, мы завершили этап подготовки и исследовательского анализа данных.\n",
    "\n",
    "Предварительные выводы:\n",
    "- датасет содержит 2 пары признаков с высоким коэффициентом корреляции  \n",
    "- выборки можно делить случайным образом, без учета времени, так как информация о времени или дате в датасете отсутствует  \n",
    "- признаки \"пол\" и \"наличие контактного телефона\" скорее всего не влияют на отток  \n",
    "- для склонности к оттоку скорее всего имеет значение близость фитнес-центра к месту проживания клиента, участие в промо-акции или партнерской программе, посещение групповых занятий\n",
    "- особую важность для прогнозирования оттока могут иметь срок абонемента, время с момента первого посещения центра, частота посещений и сумма денег, которые клиент тратит на дополнительные услуги.\n",
    "\n",
    "Приступим к выбору и обучению моделей."
   ]
  },
  {
   "cell_type": "markdown",
   "metadata": {},
   "source": [
    "## Прогнозирование оттока клиентов"
   ]
  },
  {
   "cell_type": "markdown",
   "metadata": {},
   "source": [
    "Решить стоящую перед нами задачу прогнозирования оттока клиентов помогут алгоритмы бинарной классификации. Сначала разделим выборки на обучающую и валидационную в пропорции 80:20. Поскольку метки целевой перменной не сбалансированы, применим параметр \"stratify=y\", чтобы сохранить пропорциональность в подвыборках."
   ]
  },
  {
   "cell_type": "code",
   "execution_count": 13,
   "metadata": {},
   "outputs": [],
   "source": [
    "X = df.drop('churn', axis=1)\n",
    "y = df['churn']\n",
    "X_train, X_test, y_train, y_test = train_test_split(X, y, test_size=0.2, stratify=y, random_state=0)"
   ]
  },
  {
   "cell_type": "code",
   "execution_count": 14,
   "metadata": {},
   "outputs": [
    {
     "data": {
      "text/plain": [
       "MinMaxScaler()"
      ]
     },
     "execution_count": 14,
     "metadata": {},
     "output_type": "execute_result"
    }
   ],
   "source": [
    "scaler = MinMaxScaler()\n",
    "scaler.fit(X_train)\n",
    "X_train = scaler.transform(X_train)\n",
    "X_test= scaler.transform(X_test)"
   ]
  },
  {
   "cell_type": "markdown",
   "metadata": {},
   "source": [
    "В качестве моделей используем логистическую регрессию и случайный лес. Для оценки качества моделей мы будем использовать метрики `accuracy`, `precision` и `recall`, а также `roc_auc`, которая выражает степень уверенности модели в окончательном бинарном ответе. \n",
    "\n",
    "Используем модуль GridSearchCV, чтобы определить оптимальные параметры 'n_estimators' и 'max_depth' для случайного леса. В рамках данного исследования другие параметры не настраивались с помощью GridSearchCV, так как процесс занимает слишком долгое время. Для логистической регрессии параметр `C` попробуем ниже определить вручную в цикле."
   ]
  },
  {
   "cell_type": "code",
   "execution_count": 15,
   "metadata": {},
   "outputs": [
    {
     "data": {
      "text/plain": [
       "GridSearchCV(cv=5, estimator=RandomForestClassifier(),\n",
       "             param_grid={'max_depth': range(1, 13, 2),\n",
       "                         'n_estimators': range(50, 101, 10)})"
      ]
     },
     "execution_count": 15,
     "metadata": {},
     "output_type": "execute_result"
    },
    {
     "data": {
      "text/plain": [
       "{'max_depth': 11, 'n_estimators': 50}"
      ]
     },
     "execution_count": 15,
     "metadata": {},
     "output_type": "execute_result"
    }
   ],
   "source": [
    "clf = RandomForestClassifier()\n",
    "\n",
    "params = { \n",
    "    'n_estimators': range (50, 101, 10),\n",
    "    'max_depth': range (1, 13, 2),\n",
    "}\n",
    "\n",
    "grid = GridSearchCV(clf, params, cv=5)\n",
    "grid.fit(X_train, y_train)\n",
    "best_params = grid.best_params_\n",
    "best_params"
   ]
  },
  {
   "cell_type": "markdown",
   "metadata": {},
   "source": [
    "Оптимальные параметры для случайного леса найдены. Используем их при обучении модели. Обучим оба алгоритма на обучающей выборке, построим прогнозы на валидационной и расчитаем метрики"
   ]
  },
  {
   "cell_type": "code",
   "execution_count": 16,
   "metadata": {},
   "outputs": [],
   "source": [
    "models = [\n",
    "    LogisticRegression(solver='liblinear', penalty='l1', random_state=0), \n",
    "    RandomForestClassifier(\n",
    "        n_estimators=best_params['n_estimators'], \n",
    "        max_depth=best_params['max_depth'], \n",
    "        random_state=0\n",
    "    ),\n",
    "]\n",
    "\n",
    "def make_predictions(model, X, y):\n",
    "    X_train, X_test, y_train, y_test = train_test_split(X, y, test_size=0.2, random_state=0)\n",
    "    model = model\n",
    "    model.fit(X_train, y_train)\n",
    "    y_pred = model.predict(X_test)\n",
    "    probs = model.predict_proba(X_test)[:,1]\n",
    "    print(\n",
    "        'accuracy:{:.2f}, precision:{:.2f}, recall:{:.2f}, roc_auc:{:.2f}'.format(\n",
    "            accuracy_score(y_test, y_pred),\n",
    "            precision_score(y_test, y_pred),\n",
    "            recall_score(y_test, y_pred),\n",
    "            roc_auc_score(y_test, probs),\n",
    "    )\n",
    "         )"
   ]
  },
  {
   "cell_type": "code",
   "execution_count": 17,
   "metadata": {
    "scrolled": true
   },
   "outputs": [
    {
     "name": "stdout",
     "output_type": "stream",
     "text": [
      "LogisticRegression(penalty='l1', random_state=0, solver='liblinear')\n",
      "accuracy:0.92, precision:0.85, recall:0.83, roc_auc:0.97\n",
      "\n",
      "\n",
      "RandomForestClassifier(max_depth=11, n_estimators=50, random_state=0)\n",
      "accuracy:0.91, precision:0.83, recall:0.79, roc_auc:0.97\n",
      "\n",
      "\n"
     ]
    }
   ],
   "source": [
    "for model in models:\n",
    "    print(model)\n",
    "    make_predictions(model, df.drop('churn', axis=1), df['churn'])\n",
    "    print()\n",
    "    print()"
   ]
  },
  {
   "cell_type": "code",
   "execution_count": 18,
   "metadata": {
    "scrolled": true
   },
   "outputs": [
    {
     "data": {
      "text/plain": [
       "0    2939\n",
       "1    1061\n",
       "Name: churn, dtype: int64"
      ]
     },
     "execution_count": 18,
     "metadata": {},
     "output_type": "execute_result"
    }
   ],
   "source": [
    "df['churn'].value_counts()"
   ]
  },
  {
   "cell_type": "markdown",
   "metadata": {},
   "source": [
    "Метрика `accuracy` (доля правильных ответов) хорошо работает при условии сбалансированности классов. В нашем датасете клиентов, ушедших в отток, в три раза меньше, чем оставшихся. \n",
    "\n",
    "Для несбалансированных классов хорошо подходит метрика `roc_auc` (площадь под кривой). Она отражает \"уверенность\" модели в окончательном бинарном ответе. В нашем случае `roc_auc` для обеих моделей одинаковый и составляет 97%.\n",
    "\n",
    "Метрики `precision` (точность) и `recall` (полнота) лучше у модели логистической регрессии.\n",
    "Точность показывает насколько верно модель предсказала целевой класс, полнота - какую долю ушедших клиентов алгоритм смог идентифицировать. Для наших задач важно, чтобы модель не пропустила тех клиентов, которые уйдут в отток, то есть нам важно минимизировать долю прогнозов False Negative. Метрика `recall` считается по формуле $\\frac{TP}{(TP + FN)}$, тогда как у `precision` в знаменателе сумма True Positive прогнозов и True Negative. Соответственно в нашем случае для оценки эффективности модели лучше подходит именно метрика полноты.\n",
    "\n",
    "Показатель `recall` выше у логистической регрессии.\n",
    "\n",
    "Поскольку в нашем датасете присутствуют сильно скоррелированные признаки, попробуем улучшить качество модели, удалив часть признаков вручную."
   ]
  },
  {
   "cell_type": "code",
   "execution_count": 19,
   "metadata": {},
   "outputs": [
    {
     "name": "stdout",
     "output_type": "stream",
     "text": [
      "LogisticRegression(penalty='l1', random_state=0, solver='liblinear')\n",
      "accuracy:0.90, precision:0.80, recall:0.82, roc_auc:0.96\n",
      "\n",
      "\n",
      "RandomForestClassifier(max_depth=11, n_estimators=50, random_state=0)\n",
      "accuracy:0.90, precision:0.80, recall:0.76, roc_auc:0.95\n",
      "\n",
      "\n"
     ]
    }
   ],
   "source": [
    "for model in models:\n",
    "    print(model)\n",
    "    make_predictions(\n",
    "        model, \n",
    "        df.drop(['churn', 'avg_class_frequency_total', 'month_to_end_contract'], axis=1), \n",
    "        df['churn']\n",
    "    )\n",
    "    print()\n",
    "    print()"
   ]
  },
  {
   "cell_type": "markdown",
   "metadata": {},
   "source": [
    "Метрики у модели логистической регрессии на датасете с удаленными признаками 'avg_class_frequency_total', 'month_to_end_contract' снова лучше, чем у случайного леса, однако хуже, чем в случае с полным набором признаков. Значит, удаление сильно скоррелированных признаков не приводит к улучшению качества модели.\n",
    "\n",
    "Снова обучим модель логистической регрессии на полном датасете и попробуем найти оптимальное значение для параметра `C`. Он принимает значения от 0 до 1 и обозначает степень регуляризации модели. Чем он ниже, тем строже регуляризация"
   ]
  },
  {
   "cell_type": "code",
   "execution_count": 20,
   "metadata": {},
   "outputs": [
    {
     "name": "stdout",
     "output_type": "stream",
     "text": [
      "C:0.1\n",
      "accuracy:0.91, precision:0.87, recall:0.77, roc_auc:0.96\n",
      "\n",
      "C:0.2\n",
      "accuracy:0.92, precision:0.88, recall:0.80, roc_auc:0.97\n",
      "\n",
      "C:0.3\n",
      "accuracy:0.92, precision:0.88, recall:0.83, roc_auc:0.98\n",
      "\n",
      "C:0.4\n",
      "accuracy:0.93, precision:0.89, recall:0.83, roc_auc:0.98\n",
      "\n",
      "C:0.5\n",
      "accuracy:0.93, precision:0.89, recall:0.83, roc_auc:0.98\n",
      "\n",
      "C:0.6\n",
      "accuracy:0.93, precision:0.89, recall:0.83, roc_auc:0.98\n",
      "\n",
      "C:0.7\n",
      "accuracy:0.93, precision:0.88, recall:0.83, roc_auc:0.98\n",
      "\n",
      "C:0.8\n",
      "accuracy:0.93, precision:0.89, recall:0.83, roc_auc:0.98\n",
      "\n",
      "C:0.9\n",
      "accuracy:0.93, precision:0.89, recall:0.83, roc_auc:0.98\n",
      "\n",
      "C:1.0\n",
      "accuracy:0.93, precision:0.89, recall:0.83, roc_auc:0.98\n",
      "\n"
     ]
    }
   ],
   "source": [
    "def optimizing_logreg_model(C):\n",
    "    lrm = LogisticRegression(solver='liblinear', C=C, penalty='l1', random_state=0)\n",
    "    lrm.fit(X_train, y_train)\n",
    "    y_pred = lrm.predict(X_test)\n",
    "    probs = lrm.predict_proba(X_test)[:,1]\n",
    "    \n",
    "    print(\n",
    "        'accuracy:{:.2f}, precision:{:.2f}, recall:{:.2f}, roc_auc:{:.2f}'.format(\n",
    "            accuracy_score(y_test, y_pred),\n",
    "            precision_score(y_test, y_pred),\n",
    "            recall_score(y_test, y_pred),\n",
    "            roc_auc_score(y_test, probs),\n",
    "        )\n",
    "    )\n",
    "\n",
    "for C in np.arange(0.1, 1.1, 0.1):\n",
    "    print('C:{:.1f}'.format(C))\n",
    "    optimizing_logreg_model(C)\n",
    "    print()"
   ]
  },
  {
   "cell_type": "markdown",
   "metadata": {},
   "source": [
    "Метрика roc_auc при всех значениях `С` одинаковая, остальные три метрики изменяются на одну сотую доли. Ранее мы приняли решение ориентироваться на метрику `recall`. Она максимальна для всех `С` начиная с С=0.3, в том числе и для С=1, который был установлен в алгоритме в качестве дефолтного значения. К сожалению, настройка параметра `С` не дала нам улучшения качества модели относительно изначального варианта. \n",
    "\n",
    "\n",
    "\n",
    "Посмотрим на веса перед признаками. Отсортируем их в порядке убывания абсолютного значения - так мы узнаем какие признаки алгоритм определил как самые важные для построения прогноза. "
   ]
  },
  {
   "cell_type": "code",
   "execution_count": 21,
   "metadata": {},
   "outputs": [
    {
     "data": {
      "text/plain": [
       "LogisticRegression(penalty='l1', random_state=0, solver='liblinear')"
      ]
     },
     "execution_count": 21,
     "metadata": {},
     "output_type": "execute_result"
    },
    {
     "data": {
      "text/html": [
       "<div>\n",
       "<style scoped>\n",
       "    .dataframe tbody tr th:only-of-type {\n",
       "        vertical-align: middle;\n",
       "    }\n",
       "\n",
       "    .dataframe tbody tr th {\n",
       "        vertical-align: top;\n",
       "    }\n",
       "\n",
       "    .dataframe thead th {\n",
       "        text-align: right;\n",
       "    }\n",
       "</style>\n",
       "<table border=\"1\" class=\"dataframe\">\n",
       "  <thead>\n",
       "    <tr style=\"text-align: right;\">\n",
       "      <th></th>\n",
       "      <th>feature</th>\n",
       "      <th>coef</th>\n",
       "      <th>coef_abs</th>\n",
       "    </tr>\n",
       "  </thead>\n",
       "  <tbody>\n",
       "    <tr>\n",
       "      <th>10</th>\n",
       "      <td>lifetime</td>\n",
       "      <td>-27.008</td>\n",
       "      <td>27.008</td>\n",
       "    </tr>\n",
       "    <tr>\n",
       "      <th>12</th>\n",
       "      <td>avg_class_frequency_current_month</td>\n",
       "      <td>-22.034</td>\n",
       "      <td>22.034</td>\n",
       "    </tr>\n",
       "    <tr>\n",
       "      <th>11</th>\n",
       "      <td>avg_class_frequency_total</td>\n",
       "      <td>16.988</td>\n",
       "      <td>16.988</td>\n",
       "    </tr>\n",
       "    <tr>\n",
       "      <th>7</th>\n",
       "      <td>age</td>\n",
       "      <td>-6.797</td>\n",
       "      <td>6.797</td>\n",
       "    </tr>\n",
       "    <tr>\n",
       "      <th>8</th>\n",
       "      <td>avg_additional_charges_total</td>\n",
       "      <td>-2.881</td>\n",
       "      <td>2.881</td>\n",
       "    </tr>\n",
       "    <tr>\n",
       "      <th>5</th>\n",
       "      <td>contract_period</td>\n",
       "      <td>-1.948</td>\n",
       "      <td>1.948</td>\n",
       "    </tr>\n",
       "    <tr>\n",
       "      <th>9</th>\n",
       "      <td>month_to_end_contract</td>\n",
       "      <td>-1.243</td>\n",
       "      <td>1.243</td>\n",
       "    </tr>\n",
       "    <tr>\n",
       "      <th>6</th>\n",
       "      <td>group_visits</td>\n",
       "      <td>-0.751</td>\n",
       "      <td>0.751</td>\n",
       "    </tr>\n",
       "    <tr>\n",
       "      <th>3</th>\n",
       "      <td>promo_friends</td>\n",
       "      <td>-0.295</td>\n",
       "      <td>0.295</td>\n",
       "    </tr>\n",
       "    <tr>\n",
       "      <th>2</th>\n",
       "      <td>partner</td>\n",
       "      <td>-0.101</td>\n",
       "      <td>0.101</td>\n",
       "    </tr>\n",
       "    <tr>\n",
       "      <th>1</th>\n",
       "      <td>near_location</td>\n",
       "      <td>-0.084</td>\n",
       "      <td>0.084</td>\n",
       "    </tr>\n",
       "    <tr>\n",
       "      <th>0</th>\n",
       "      <td>gender</td>\n",
       "      <td>0.000</td>\n",
       "      <td>0.000</td>\n",
       "    </tr>\n",
       "    <tr>\n",
       "      <th>4</th>\n",
       "      <td>phone</td>\n",
       "      <td>0.000</td>\n",
       "      <td>0.000</td>\n",
       "    </tr>\n",
       "  </tbody>\n",
       "</table>\n",
       "</div>"
      ],
      "text/plain": [
       "                              feature    coef  coef_abs\n",
       "10                           lifetime -27.008    27.008\n",
       "12  avg_class_frequency_current_month -22.034    22.034\n",
       "11          avg_class_frequency_total  16.988    16.988\n",
       "7                                 age  -6.797     6.797\n",
       "8        avg_additional_charges_total  -2.881     2.881\n",
       "5                     contract_period  -1.948     1.948\n",
       "9               month_to_end_contract  -1.243     1.243\n",
       "6                        group_visits  -0.751     0.751\n",
       "3                       promo_friends  -0.295     0.295\n",
       "2                             partner  -0.101     0.101\n",
       "1                       near_location  -0.084     0.084\n",
       "0                              gender   0.000     0.000\n",
       "4                               phone   0.000     0.000"
      ]
     },
     "execution_count": 21,
     "metadata": {},
     "output_type": "execute_result"
    }
   ],
   "source": [
    "lrm = LogisticRegression(solver='liblinear', penalty='l1', random_state=0)\n",
    "lrm.fit(X_train, y_train)\n",
    "y_pred = lrm.predict(X_test)\n",
    "\n",
    "features = pd.DataFrame({'feature': X.columns, 'coef' : lrm.coef_.ravel().round(3)})\n",
    "features['coef_abs'] = features['coef'].abs()\n",
    "features.sort_values(by='coef_abs', ascending=False)"
   ]
  },
  {
   "cell_type": "markdown",
   "metadata": {},
   "source": [
    "Алгоритм логистической регрессии в качестве основных признаков, влияющих на прогноз целевой переменной, выделил следующие:  \n",
    "- средняя частота посещений в неделю за предыдущий месяц,  \n",
    "- средняя частота посещений в неделю за весь период,  \n",
    "- время с момента первого обращения в фитнес-центр\n",
    "\n",
    "У признаков \"пол\" и \"локация\" крайне малый абсолютный вес, и что удивительно, минимальный вес также у признака \"дополнительные траты на услуги фитнес-центра\", хотя изначально мы полагали, что этот признак оказывает влияние на склонность клиентов к оттоку.\n",
    "\n",
    "Выводы по этапу 2:\n",
    "- из двух моделей (логистическая регрессия и случайный лес) лучше себя показала логистическая регрессия  \n",
    "- в качестве метрик оценки моделей использовались accuracy, precision, recall и roc_auc, причем для наших задач наиболее полно качество модели отражает метрика recall. В процессе тестирования моделей и определения оптимальных гиперпараметров максимальное значение метрики, которое удалось достичь, составило 0.83  \n",
    "- логистическая регрессия показала, что максимальный вес имеют признаки, связанные с частотой посещения тренировок и временем с момента первого посещения; минимальный вес у признаков \"пол\", \"локация\" и \"дополнительные траты клиента\".\n",
    "\n",
    "Переходим к следующему этапу - кластеризация клиентов"
   ]
  },
  {
   "cell_type": "markdown",
   "metadata": {},
   "source": [
    "## Кластеризация клиентов"
   ]
  },
  {
   "cell_type": "markdown",
   "metadata": {},
   "source": [
    "Для сегментации клиентов мы будем использовать алгоритм KMeans, основанный на расчете расстояний между точками. Данный алгоритм требует обязательной стандартизации данных и определения числа кластеров. Стандартизируем данные с помощью функции StandardScaler и построим дендрограмму, которая поможет нам определить оптимальное число групп для сегментации клиентов"
   ]
  },
  {
   "cell_type": "code",
   "execution_count": 22,
   "metadata": {},
   "outputs": [
    {
     "data": {
      "image/png": "[encoded data removed]",
      "text/plain": [
       "<Figure size 1080x720 with 1 Axes>"
      ]
     },
     "metadata": {
      "needs_background": "light"
     },
     "output_type": "display_data"
    }
   ],
   "source": [
    "scaler = StandardScaler()\n",
    "X_st = scaler.fit_transform(X)\n",
    "linked = linkage(X_st, method='ward')\n",
    "\n",
    "plt.figure(figsize=(15, 10))\n",
    "dendrogram(linked, orientation='top', no_labels=True)\n",
    "plt.title('Дендрограмма кластеризации клиентов')\n",
    "plt.show();"
   ]
  },
  {
   "cell_type": "markdown",
   "metadata": {},
   "source": [
    "На основании нарисованной на графике дендрограммы предлагаем разделить пользователей на 5 кластеров. \n",
    "\n",
    "На более ранних этапах исследования мы установили, что наш датасет содержит некоторые признаки с высокой степенью взаимной корреляции. Для нахождения более эффективной модели напишем функцию, которая на вход принимает матрицу признаков X и возвращает метрику `silhouette_score`. Протестируем модель со всеми признаками, и с признаками за исключением `month_to_end_contract` и `avg_class_frequency_total`, которые показали высокую корреляцию с `contract_period` и `avg_class_frequency_current_month` соответственно. По метрике определим какой вариант лучше."
   ]
  },
  {
   "cell_type": "code",
   "execution_count": 23,
   "metadata": {},
   "outputs": [
    {
     "data": {
      "text/plain": [
       "0.14140955"
      ]
     },
     "execution_count": 23,
     "metadata": {},
     "output_type": "execute_result"
    },
    {
     "data": {
      "text/plain": [
       "0.13904734"
      ]
     },
     "execution_count": 23,
     "metadata": {},
     "output_type": "execute_result"
    }
   ],
   "source": [
    "def optimizing_kmeans(X):\n",
    "    scaler = StandardScaler()\n",
    "    X_st = scaler.fit_transform(X)\n",
    "    km = KMeans(n_clusters=5, random_state=0)\n",
    "    labels = km.fit_predict(X_st)\n",
    "    return silhouette_score(X_st, labels)\n",
    "\n",
    "optimizing_kmeans(df.drop('churn', axis=1))\n",
    "optimizing_kmeans(df.drop(['churn', 'month_to_end_contract', 'avg_class_frequency_total'], axis=1))"
   ]
  },
  {
   "cell_type": "markdown",
   "metadata": {},
   "source": [
    "Метрика силуэта принимает значение от -1 до 1, и чем ближе к 1, тем лучше. В нашем случае использование всех признаков в модели (без удаления части признаков вручную) показало лучшие результаты. Обучим первую модель заново и объединим метки кластеров с датасетом, чтобы изучить группы более подробно."
   ]
  },
  {
   "cell_type": "code",
   "execution_count": 24,
   "metadata": {},
   "outputs": [],
   "source": [
    "X = df.drop('churn', axis=1)\n",
    "scaler = StandardScaler()\n",
    "X_st = scaler.fit_transform(X)\n",
    "km = KMeans(n_clusters=5, random_state=0)\n",
    "labels = km.fit_predict(X_st)"
   ]
  },
  {
   "cell_type": "code",
   "execution_count": 25,
   "metadata": {},
   "outputs": [
    {
     "data": {
      "text/html": [
       "<div>\n",
       "<style scoped>\n",
       "    .dataframe tbody tr th:only-of-type {\n",
       "        vertical-align: middle;\n",
       "    }\n",
       "\n",
       "    .dataframe tbody tr th {\n",
       "        vertical-align: top;\n",
       "    }\n",
       "\n",
       "    .dataframe thead th {\n",
       "        text-align: right;\n",
       "    }\n",
       "</style>\n",
       "<table border=\"1\" class=\"dataframe\">\n",
       "  <thead>\n",
       "    <tr style=\"text-align: right;\">\n",
       "      <th></th>\n",
       "      <th>gender</th>\n",
       "      <th>near_location</th>\n",
       "      <th>partner</th>\n",
       "      <th>promo_friends</th>\n",
       "      <th>phone</th>\n",
       "      <th>contract_period</th>\n",
       "      <th>group_visits</th>\n",
       "      <th>age</th>\n",
       "      <th>avg_additional_charges_total</th>\n",
       "      <th>month_to_end_contract</th>\n",
       "      <th>lifetime</th>\n",
       "      <th>avg_class_frequency_total</th>\n",
       "      <th>avg_class_frequency_current_month</th>\n",
       "      <th>churn</th>\n",
       "      <th>label</th>\n",
       "    </tr>\n",
       "  </thead>\n",
       "  <tbody>\n",
       "    <tr>\n",
       "      <th>0</th>\n",
       "      <td>1</td>\n",
       "      <td>1</td>\n",
       "      <td>1</td>\n",
       "      <td>1</td>\n",
       "      <td>0</td>\n",
       "      <td>6</td>\n",
       "      <td>1</td>\n",
       "      <td>29</td>\n",
       "      <td>14.227470</td>\n",
       "      <td>5.0</td>\n",
       "      <td>3</td>\n",
       "      <td>0.020398</td>\n",
       "      <td>0.000000</td>\n",
       "      <td>0</td>\n",
       "      <td>1</td>\n",
       "    </tr>\n",
       "    <tr>\n",
       "      <th>1</th>\n",
       "      <td>0</td>\n",
       "      <td>1</td>\n",
       "      <td>0</td>\n",
       "      <td>0</td>\n",
       "      <td>1</td>\n",
       "      <td>12</td>\n",
       "      <td>1</td>\n",
       "      <td>31</td>\n",
       "      <td>113.202934</td>\n",
       "      <td>12.0</td>\n",
       "      <td>7</td>\n",
       "      <td>1.922936</td>\n",
       "      <td>1.910244</td>\n",
       "      <td>0</td>\n",
       "      <td>0</td>\n",
       "    </tr>\n",
       "    <tr>\n",
       "      <th>2</th>\n",
       "      <td>0</td>\n",
       "      <td>1</td>\n",
       "      <td>1</td>\n",
       "      <td>0</td>\n",
       "      <td>1</td>\n",
       "      <td>1</td>\n",
       "      <td>0</td>\n",
       "      <td>28</td>\n",
       "      <td>129.448486</td>\n",
       "      <td>1.0</td>\n",
       "      <td>2</td>\n",
       "      <td>1.859098</td>\n",
       "      <td>1.736502</td>\n",
       "      <td>0</td>\n",
       "      <td>3</td>\n",
       "    </tr>\n",
       "    <tr>\n",
       "      <th>3</th>\n",
       "      <td>0</td>\n",
       "      <td>1</td>\n",
       "      <td>1</td>\n",
       "      <td>1</td>\n",
       "      <td>1</td>\n",
       "      <td>12</td>\n",
       "      <td>1</td>\n",
       "      <td>33</td>\n",
       "      <td>62.669865</td>\n",
       "      <td>12.0</td>\n",
       "      <td>2</td>\n",
       "      <td>3.205633</td>\n",
       "      <td>3.357214</td>\n",
       "      <td>0</td>\n",
       "      <td>0</td>\n",
       "    </tr>\n",
       "    <tr>\n",
       "      <th>4</th>\n",
       "      <td>1</td>\n",
       "      <td>1</td>\n",
       "      <td>1</td>\n",
       "      <td>1</td>\n",
       "      <td>1</td>\n",
       "      <td>1</td>\n",
       "      <td>0</td>\n",
       "      <td>26</td>\n",
       "      <td>198.362259</td>\n",
       "      <td>1.0</td>\n",
       "      <td>3</td>\n",
       "      <td>1.113884</td>\n",
       "      <td>1.120078</td>\n",
       "      <td>0</td>\n",
       "      <td>3</td>\n",
       "    </tr>\n",
       "  </tbody>\n",
       "</table>\n",
       "</div>"
      ],
      "text/plain": [
       "   gender  near_location  partner  promo_friends  phone  contract_period  \\\n",
       "0       1              1        1              1      0                6   \n",
       "1       0              1        0              0      1               12   \n",
       "2       0              1        1              0      1                1   \n",
       "3       0              1        1              1      1               12   \n",
       "4       1              1        1              1      1                1   \n",
       "\n",
       "   group_visits  age  avg_additional_charges_total  month_to_end_contract  \\\n",
       "0             1   29                     14.227470                    5.0   \n",
       "1             1   31                    113.202934                   12.0   \n",
       "2             0   28                    129.448486                    1.0   \n",
       "3             1   33                     62.669865                   12.0   \n",
       "4             0   26                    198.362259                    1.0   \n",
       "\n",
       "   lifetime  avg_class_frequency_total  avg_class_frequency_current_month  \\\n",
       "0         3                   0.020398                           0.000000   \n",
       "1         7                   1.922936                           1.910244   \n",
       "2         2                   1.859098                           1.736502   \n",
       "3         2                   3.205633                           3.357214   \n",
       "4         3                   1.113884                           1.120078   \n",
       "\n",
       "   churn  label  \n",
       "0      0      1  \n",
       "1      0      0  \n",
       "2      0      3  \n",
       "3      0      0  \n",
       "4      0      3  "
      ]
     },
     "execution_count": 25,
     "metadata": {},
     "output_type": "execute_result"
    }
   ],
   "source": [
    "lb = pd.DataFrame(labels)\n",
    "df = df.join(lb, how='left').rename(columns={0:'label'})\n",
    "df.head()"
   ]
  },
  {
   "cell_type": "markdown",
   "metadata": {},
   "source": [
    "Сгруппируем датафрейм по меткам кластеров и расчитаем средние значения признаков"
   ]
  },
  {
   "cell_type": "code",
   "execution_count": 26,
   "metadata": {
    "scrolled": false
   },
   "outputs": [
    {
     "data": {
      "text/html": [
       "<style type=\"text/css\">\n",
       "#T_0cb1e_row0_col0, #T_0cb1e_row0_col2 {\n",
       "  background-color: #e8e4f0;\n",
       "  color: #000000;\n",
       "}\n",
       "#T_0cb1e_row0_col1 {\n",
       "  background-color: #91b5d6;\n",
       "  color: #000000;\n",
       "}\n",
       "#T_0cb1e_row0_col3, #T_0cb1e_row1_col2, #T_0cb1e_row2_col3, #T_0cb1e_row3_col2, #T_0cb1e_row4_col1, #T_0cb1e_row5_col3, #T_0cb1e_row6_col2, #T_0cb1e_row7_col3, #T_0cb1e_row8_col3, #T_0cb1e_row9_col3, #T_0cb1e_row10_col3, #T_0cb1e_row11_col3, #T_0cb1e_row12_col3, #T_0cb1e_row13_col0 {\n",
       "  background-color: #fff7fb;\n",
       "  color: #000000;\n",
       "}\n",
       "#T_0cb1e_row0_col4, #T_0cb1e_row1_col3, #T_0cb1e_row2_col0, #T_0cb1e_row3_col0, #T_0cb1e_row4_col0, #T_0cb1e_row4_col2, #T_0cb1e_row4_col3, #T_0cb1e_row4_col4, #T_0cb1e_row5_col0, #T_0cb1e_row6_col0, #T_0cb1e_row7_col4, #T_0cb1e_row8_col4, #T_0cb1e_row9_col0, #T_0cb1e_row10_col4, #T_0cb1e_row11_col4, #T_0cb1e_row12_col4, #T_0cb1e_row13_col3 {\n",
       "  background-color: #023858;\n",
       "  color: #f1f1f1;\n",
       "}\n",
       "#T_0cb1e_row1_col0 {\n",
       "  background-color: #034369;\n",
       "  color: #f1f1f1;\n",
       "}\n",
       "#T_0cb1e_row1_col1 {\n",
       "  background-color: #045c90;\n",
       "  color: #f1f1f1;\n",
       "}\n",
       "#T_0cb1e_row1_col4 {\n",
       "  background-color: #023d60;\n",
       "  color: #f1f1f1;\n",
       "}\n",
       "#T_0cb1e_row2_col1 {\n",
       "  background-color: #c6cce3;\n",
       "  color: #000000;\n",
       "}\n",
       "#T_0cb1e_row2_col2, #T_0cb1e_row11_col2, #T_0cb1e_row12_col2 {\n",
       "  background-color: #ced0e6;\n",
       "  color: #000000;\n",
       "}\n",
       "#T_0cb1e_row2_col4 {\n",
       "  background-color: #fcf4fa;\n",
       "  color: #000000;\n",
       "}\n",
       "#T_0cb1e_row3_col1 {\n",
       "  background-color: #80aed2;\n",
       "  color: #f1f1f1;\n",
       "}\n",
       "#T_0cb1e_row3_col3 {\n",
       "  background-color: #b7c5df;\n",
       "  color: #000000;\n",
       "}\n",
       "#T_0cb1e_row3_col4 {\n",
       "  background-color: #bdc8e1;\n",
       "  color: #000000;\n",
       "}\n",
       "#T_0cb1e_row5_col1 {\n",
       "  background-color: #b9c6e0;\n",
       "  color: #000000;\n",
       "}\n",
       "#T_0cb1e_row5_col2 {\n",
       "  background-color: #f8f1f8;\n",
       "  color: #000000;\n",
       "}\n",
       "#T_0cb1e_row5_col4 {\n",
       "  background-color: #f3edf5;\n",
       "  color: #000000;\n",
       "}\n",
       "#T_0cb1e_row6_col1 {\n",
       "  background-color: #2a88bc;\n",
       "  color: #f1f1f1;\n",
       "}\n",
       "#T_0cb1e_row6_col3, #T_0cb1e_row11_col1 {\n",
       "  background-color: #a5bddb;\n",
       "  color: #000000;\n",
       "}\n",
       "#T_0cb1e_row6_col4 {\n",
       "  background-color: #056ba7;\n",
       "  color: #f1f1f1;\n",
       "}\n",
       "#T_0cb1e_row7_col0 {\n",
       "  background-color: #034c78;\n",
       "  color: #f1f1f1;\n",
       "}\n",
       "#T_0cb1e_row7_col1 {\n",
       "  background-color: #4e9ac6;\n",
       "  color: #f1f1f1;\n",
       "}\n",
       "#T_0cb1e_row7_col2 {\n",
       "  background-color: #e5e1ef;\n",
       "  color: #000000;\n",
       "}\n",
       "#T_0cb1e_row8_col0 {\n",
       "  background-color: #023f64;\n",
       "  color: #f1f1f1;\n",
       "}\n",
       "#T_0cb1e_row8_col1 {\n",
       "  background-color: #97b7d7;\n",
       "  color: #000000;\n",
       "}\n",
       "#T_0cb1e_row8_col2 {\n",
       "  background-color: #ece7f2;\n",
       "  color: #000000;\n",
       "}\n",
       "#T_0cb1e_row9_col1 {\n",
       "  background-color: #b8c6e0;\n",
       "  color: #000000;\n",
       "}\n",
       "#T_0cb1e_row9_col2 {\n",
       "  background-color: #f9f2f8;\n",
       "  color: #000000;\n",
       "}\n",
       "#T_0cb1e_row9_col4 {\n",
       "  background-color: #f4eef6;\n",
       "  color: #000000;\n",
       "}\n",
       "#T_0cb1e_row10_col0 {\n",
       "  background-color: #034973;\n",
       "  color: #f1f1f1;\n",
       "}\n",
       "#T_0cb1e_row10_col1 {\n",
       "  background-color: #4094c3;\n",
       "  color: #f1f1f1;\n",
       "}\n",
       "#T_0cb1e_row10_col2 {\n",
       "  background-color: #e7e3f0;\n",
       "  color: #000000;\n",
       "}\n",
       "#T_0cb1e_row11_col0 {\n",
       "  background-color: #86b0d3;\n",
       "  color: #000000;\n",
       "}\n",
       "#T_0cb1e_row12_col0 {\n",
       "  background-color: #69a5cc;\n",
       "  color: #f1f1f1;\n",
       "}\n",
       "#T_0cb1e_row12_col1 {\n",
       "  background-color: #a2bcda;\n",
       "  color: #000000;\n",
       "}\n",
       "#T_0cb1e_row13_col1 {\n",
       "  background-color: #73a9cf;\n",
       "  color: #f1f1f1;\n",
       "}\n",
       "#T_0cb1e_row13_col2 {\n",
       "  background-color: #045e93;\n",
       "  color: #f1f1f1;\n",
       "}\n",
       "#T_0cb1e_row13_col4 {\n",
       "  background-color: #f2ecf5;\n",
       "  color: #000000;\n",
       "}\n",
       "</style>\n",
       "<table id=\"T_0cb1e_\">\n",
       "  <thead>\n",
       "    <tr>\n",
       "      <th class=\"index_name level0\" >label</th>\n",
       "      <th class=\"col_heading level0 col0\" >0</th>\n",
       "      <th class=\"col_heading level0 col1\" >1</th>\n",
       "      <th class=\"col_heading level0 col2\" >2</th>\n",
       "      <th class=\"col_heading level0 col3\" >3</th>\n",
       "      <th class=\"col_heading level0 col4\" >4</th>\n",
       "    </tr>\n",
       "  </thead>\n",
       "  <tbody>\n",
       "    <tr>\n",
       "      <th id=\"T_0cb1e_level0_row0\" class=\"row_heading level0 row0\" >gender</th>\n",
       "      <td id=\"T_0cb1e_row0_col0\" class=\"data row0 col0\" >0.500000</td>\n",
       "      <td id=\"T_0cb1e_row0_col1\" class=\"data row0 col1\" >0.520000</td>\n",
       "      <td id=\"T_0cb1e_row0_col2\" class=\"data row0 col2\" >0.500000</td>\n",
       "      <td id=\"T_0cb1e_row0_col3\" class=\"data row0 col3\" >0.490000</td>\n",
       "      <td id=\"T_0cb1e_row0_col4\" class=\"data row0 col4\" >0.560000</td>\n",
       "    </tr>\n",
       "    <tr>\n",
       "      <th id=\"T_0cb1e_level0_row1\" class=\"row_heading level0 row1\" >near_location</th>\n",
       "      <td id=\"T_0cb1e_row1_col0\" class=\"data row1 col0\" >0.960000</td>\n",
       "      <td id=\"T_0cb1e_row1_col1\" class=\"data row1 col1\" >0.860000</td>\n",
       "      <td id=\"T_0cb1e_row1_col2\" class=\"data row1 col2\" >0.000000</td>\n",
       "      <td id=\"T_0cb1e_row1_col3\" class=\"data row1 col3\" >1.000000</td>\n",
       "      <td id=\"T_0cb1e_row1_col4\" class=\"data row1 col4\" >0.980000</td>\n",
       "    </tr>\n",
       "    <tr>\n",
       "      <th id=\"T_0cb1e_level0_row2\" class=\"row_heading level0 row2\" >partner</th>\n",
       "      <td id=\"T_0cb1e_row2_col0\" class=\"data row2 col0\" >0.780000</td>\n",
       "      <td id=\"T_0cb1e_row2_col1\" class=\"data row2 col1\" >0.470000</td>\n",
       "      <td id=\"T_0cb1e_row2_col2\" class=\"data row2 col2\" >0.460000</td>\n",
       "      <td id=\"T_0cb1e_row2_col3\" class=\"data row2 col3\" >0.350000</td>\n",
       "      <td id=\"T_0cb1e_row2_col4\" class=\"data row2 col4\" >0.360000</td>\n",
       "    </tr>\n",
       "    <tr>\n",
       "      <th id=\"T_0cb1e_level0_row3\" class=\"row_heading level0 row3\" >promo_friends</th>\n",
       "      <td id=\"T_0cb1e_row3_col0\" class=\"data row3 col0\" >0.570000</td>\n",
       "      <td id=\"T_0cb1e_row3_col1\" class=\"data row3 col1\" >0.310000</td>\n",
       "      <td id=\"T_0cb1e_row3_col2\" class=\"data row3 col2\" >0.080000</td>\n",
       "      <td id=\"T_0cb1e_row3_col3\" class=\"data row3 col3\" >0.240000</td>\n",
       "      <td id=\"T_0cb1e_row3_col4\" class=\"data row3 col4\" >0.230000</td>\n",
       "    </tr>\n",
       "    <tr>\n",
       "      <th id=\"T_0cb1e_level0_row4\" class=\"row_heading level0 row4\" >phone</th>\n",
       "      <td id=\"T_0cb1e_row4_col0\" class=\"data row4 col0\" >1.000000</td>\n",
       "      <td id=\"T_0cb1e_row4_col1\" class=\"data row4 col1\" >0.000000</td>\n",
       "      <td id=\"T_0cb1e_row4_col2\" class=\"data row4 col2\" >1.000000</td>\n",
       "      <td id=\"T_0cb1e_row4_col3\" class=\"data row4 col3\" >1.000000</td>\n",
       "      <td id=\"T_0cb1e_row4_col4\" class=\"data row4 col4\" >1.000000</td>\n",
       "    </tr>\n",
       "    <tr>\n",
       "      <th id=\"T_0cb1e_level0_row5\" class=\"row_heading level0 row5\" >contract_period</th>\n",
       "      <td id=\"T_0cb1e_row5_col0\" class=\"data row5 col0\" >10.890000</td>\n",
       "      <td id=\"T_0cb1e_row5_col1\" class=\"data row5 col1\" >4.790000</td>\n",
       "      <td id=\"T_0cb1e_row5_col2\" class=\"data row5 col2\" >2.350000</td>\n",
       "      <td id=\"T_0cb1e_row5_col3\" class=\"data row5 col3\" >1.950000</td>\n",
       "      <td id=\"T_0cb1e_row5_col4\" class=\"data row5 col4\" >2.670000</td>\n",
       "    </tr>\n",
       "    <tr>\n",
       "      <th id=\"T_0cb1e_level0_row6\" class=\"row_heading level0 row6\" >group_visits</th>\n",
       "      <td id=\"T_0cb1e_row6_col0\" class=\"data row6 col0\" >0.540000</td>\n",
       "      <td id=\"T_0cb1e_row6_col1\" class=\"data row6 col1\" >0.430000</td>\n",
       "      <td id=\"T_0cb1e_row6_col2\" class=\"data row6 col2\" >0.220000</td>\n",
       "      <td id=\"T_0cb1e_row6_col3\" class=\"data row6 col3\" >0.340000</td>\n",
       "      <td id=\"T_0cb1e_row6_col4\" class=\"data row6 col4\" >0.470000</td>\n",
       "    </tr>\n",
       "    <tr>\n",
       "      <th id=\"T_0cb1e_level0_row7\" class=\"row_heading level0 row7\" >age</th>\n",
       "      <td id=\"T_0cb1e_row7_col0\" class=\"data row7 col0\" >29.980000</td>\n",
       "      <td id=\"T_0cb1e_row7_col1\" class=\"data row7 col1\" >29.300000</td>\n",
       "      <td id=\"T_0cb1e_row7_col2\" class=\"data row7 col2\" >28.480000</td>\n",
       "      <td id=\"T_0cb1e_row7_col3\" class=\"data row7 col3\" >28.170000</td>\n",
       "      <td id=\"T_0cb1e_row7_col4\" class=\"data row7 col4\" >30.130000</td>\n",
       "    </tr>\n",
       "    <tr>\n",
       "      <th id=\"T_0cb1e_level0_row8\" class=\"row_heading level0 row8\" >avg_additional_charges_total</th>\n",
       "      <td id=\"T_0cb1e_row8_col0\" class=\"data row8 col0\" >160.759995</td>\n",
       "      <td id=\"T_0cb1e_row8_col1\" class=\"data row8 col1\" >143.960007</td>\n",
       "      <td id=\"T_0cb1e_row8_col2\" class=\"data row8 col2\" >135.460007</td>\n",
       "      <td id=\"T_0cb1e_row8_col3\" class=\"data row8 col3\" >131.619995</td>\n",
       "      <td id=\"T_0cb1e_row8_col4\" class=\"data row8 col4\" >161.660004</td>\n",
       "    </tr>\n",
       "    <tr>\n",
       "      <th id=\"T_0cb1e_level0_row9\" class=\"row_heading level0 row9\" >month_to_end_contract</th>\n",
       "      <td id=\"T_0cb1e_row9_col0\" class=\"data row9 col0\" >9.950000</td>\n",
       "      <td id=\"T_0cb1e_row9_col1\" class=\"data row9 col1\" >4.480000</td>\n",
       "      <td id=\"T_0cb1e_row9_col2\" class=\"data row9 col2\" >2.200000</td>\n",
       "      <td id=\"T_0cb1e_row9_col3\" class=\"data row9 col3\" >1.860000</td>\n",
       "      <td id=\"T_0cb1e_row9_col4\" class=\"data row9 col4\" >2.460000</td>\n",
       "    </tr>\n",
       "    <tr>\n",
       "      <th id=\"T_0cb1e_level0_row10\" class=\"row_heading level0 row10\" >lifetime</th>\n",
       "      <td id=\"T_0cb1e_row10_col0\" class=\"data row10 col0\" >4.740000</td>\n",
       "      <td id=\"T_0cb1e_row10_col1\" class=\"data row10 col1\" >3.920000</td>\n",
       "      <td id=\"T_0cb1e_row10_col2\" class=\"data row10 col2\" >2.810000</td>\n",
       "      <td id=\"T_0cb1e_row10_col3\" class=\"data row10 col3\" >2.440000</td>\n",
       "      <td id=\"T_0cb1e_row10_col4\" class=\"data row10 col4\" >4.900000</td>\n",
       "    </tr>\n",
       "    <tr>\n",
       "      <th id=\"T_0cb1e_level0_row11\" class=\"row_heading level0 row11\" >avg_class_frequency_total</th>\n",
       "      <td id=\"T_0cb1e_row11_col0\" class=\"data row11 col0\" >1.980000</td>\n",
       "      <td id=\"T_0cb1e_row11_col1\" class=\"data row11 col1\" >1.850000</td>\n",
       "      <td id=\"T_0cb1e_row11_col2\" class=\"data row11 col2\" >1.660000</td>\n",
       "      <td id=\"T_0cb1e_row11_col3\" class=\"data row11 col3\" >1.250000</td>\n",
       "      <td id=\"T_0cb1e_row11_col4\" class=\"data row11 col4\" >2.850000</td>\n",
       "    </tr>\n",
       "    <tr>\n",
       "      <th id=\"T_0cb1e_level0_row12\" class=\"row_heading level0 row12\" >avg_class_frequency_current_month</th>\n",
       "      <td id=\"T_0cb1e_row12_col0\" class=\"data row12 col0\" >1.970000</td>\n",
       "      <td id=\"T_0cb1e_row12_col1\" class=\"data row12 col1\" >1.720000</td>\n",
       "      <td id=\"T_0cb1e_row12_col2\" class=\"data row12 col2\" >1.480000</td>\n",
       "      <td id=\"T_0cb1e_row12_col3\" class=\"data row12 col3\" >1.010000</td>\n",
       "      <td id=\"T_0cb1e_row12_col4\" class=\"data row12 col4\" >2.850000</td>\n",
       "    </tr>\n",
       "    <tr>\n",
       "      <th id=\"T_0cb1e_level0_row13\" class=\"row_heading level0 row13\" >churn</th>\n",
       "      <td id=\"T_0cb1e_row13_col0\" class=\"data row13 col0\" >0.030000</td>\n",
       "      <td id=\"T_0cb1e_row13_col1\" class=\"data row13 col1\" >0.270000</td>\n",
       "      <td id=\"T_0cb1e_row13_col2\" class=\"data row13 col2\" >0.440000</td>\n",
       "      <td id=\"T_0cb1e_row13_col3\" class=\"data row13 col3\" >0.510000</td>\n",
       "      <td id=\"T_0cb1e_row13_col4\" class=\"data row13 col4\" >0.070000</td>\n",
       "    </tr>\n",
       "  </tbody>\n",
       "</table>\n"
      ],
      "text/plain": [
       "<pandas.io.formats.style.Styler at 0x20f53c5aaf0>"
      ]
     },
     "execution_count": 26,
     "metadata": {},
     "output_type": "execute_result"
    }
   ],
   "source": [
    "df.groupby('label').mean().round(2).T.style.background_gradient(axis=1)"
   ]
  },
  {
   "cell_type": "code",
   "execution_count": 27,
   "metadata": {},
   "outputs": [
    {
     "data": {
      "text/plain": [
       "1     2207\n",
       "12     960\n",
       "6      833\n",
       "Name: contract_period, dtype: int64"
      ]
     },
     "execution_count": 27,
     "metadata": {},
     "output_type": "execute_result"
    }
   ],
   "source": [
    "df['contract_period'].value_counts()"
   ]
  },
  {
   "cell_type": "markdown",
   "metadata": {},
   "source": [
    "Итак, мы разделили клиентов на 5 кластеров и вывели средние значения по каждому признаку. Для некоторых признаков, таких как пол и возраст, средние в группах очень близки. У других видны существенные различия.\n",
    "\n",
    "В частности,  \n",
    "- расположение фитнес-клуба далеко от места проживания клиента характерно только для клиентов одной группы  \n",
    "- клиенты без контактного телефона также попали в отдельную группу  \n",
    "- признаки, связанные с длительностью абонемента (`contract_period` и `month_to_end_contract`) примерно равномерно распределились между группами (в одну из групп попали годовые контракты, в другую - полугодовые, а в трех оставшихся большую часть, судя по невысокому среднему значению, составляют абонементы на 1 месяц, преобладающие в выборке)  \n",
    "\n",
    "Интересно, что в группу с самой низкой долей оттока попали клиенты со следующими признаками:  \n",
    "- проживание рядом с клубом  \n",
    "- большая доля клиентов по партнерской программе  \n",
    "- более половины клиентов по промо-акции  \n",
    "- годовой абонемент  \n",
    "- более половины клиентов посещают групповые занятия\n",
    "- в группе одни из самых высоких суммы трат нам дополнительные услуги центра\n",
    "- средняя частота посещения одна из самых высоких среди 5 групп\n",
    "\n",
    "Для группы с меткой 4, где доля клиентов, ушедших в отток также достаточно низкая (менее 10%), средние значения признаков \"затраты на дополнительные услуги\", \"срок с момента первого посещения клуба\", \"средняя частота посещения клуба в неделю (как в общем, так и в последний месяц) очень высоки, по сравнению с остальными группами, однако средний срок абонемента здесь 2.5 месяца. Средние по признаку \"партнерская программа\" и \"промо-акция\" в этой группе низкие. Значит, мы можем сделать вывод, что данные признаки имеют второстепенное значение, как и длительность абонемента. Основной вес несут размер затрат на дополнительные услуги клуба и частота посещений.\n",
    "\n",
    "Для клиентов с самой высокой долей оттока (кластеры с меткой 2 и 3) наблюдается обратная тенденция: самые низкие средние значения допольнительных трат и минимальная частота посещений. В кластер с меткой 2 также попали клиенты, проживающие далеко от фитнес-клуба и редко посещающие групповые занятия, скорее всего, долгая дорога и занятия в-одиночку не способствовали повышению мотивации к тренировкам.\n",
    "\n",
    "Построим гистограммы распределения признаков"
   ]
  },
  {
   "cell_type": "code",
   "execution_count": 28,
   "metadata": {},
   "outputs": [
    {
     "data": {
      "image/png": "[encoded data removed]",
      "text/plain": [
       "<Figure size 1440x1440 with 15 Axes>"
      ]
     },
     "metadata": {
      "needs_background": "light"
     },
     "output_type": "display_data"
    }
   ],
   "source": [
    "n_cols = 3\n",
    "n_rows = int(np.ceil(len(df.columns)/n_cols)) \n",
    "fig, axs = plt.subplots(n_rows, n_cols, figsize=(20, 20))\n",
    "\n",
    "axs = np.ravel(axs) \n",
    "\n",
    "plt.suptitle('Распределение признаков', size=16)\n",
    "\n",
    "for ax, col in zip(axs, df.columns):\n",
    "    sns.histplot(\n",
    "        data=df, \n",
    "        x=col, \n",
    "        hue=\"label\", \n",
    "        ax=ax,\n",
    "        kde=True,\n",
    "#         multiple='dodge'\n",
    "    )\n",
    "    ax.set_title(f\"Распределение по признаку '{col}'\")\n",
    "  \n",
    "plt.tight_layout(rect=[0, 0.03, 1, 0.95]) \n",
    "plt.show();"
   ]
  },
  {
   "cell_type": "markdown",
   "metadata": {},
   "source": [
    "Гистограммы подтверждают наши выводы, сделанные на основе анализа средних значений. В кластеры с метками 0 и 4 попали в-основном клиенты, не склонные к оттоку, тогда как клиенты из группы 2 и 3 могут с большей вероятностью покинуть фитнес-клуб в следующем месяце."
   ]
  },
  {
   "cell_type": "markdown",
   "metadata": {},
   "source": [
    "## Выводы и рекомендации"
   ]
  },
  {
   "cell_type": "markdown",
   "metadata": {},
   "source": [
    "Мы исследовали датасет с информацией о клиентах фитнес-клуба. Часть из них перестали посещать занятия в прошлом месяце. Перед нами стояла задача сегментировать клиентов и выделить группы, наиболее склонные к оттоку, а также спрогнозировать вероятность ухода клиента в следующем месяце.\n",
    "\n",
    "По имеющимся данным портрет клиента, попавшего в отток, следующий:\n",
    "- пол может быть любым, как мужским так и женским\n",
    "- клиент оформил абонемент на 1 месяц и ни разу не посетил ни одной тренировки \n",
    "- решение бросить занятия приходит как правило в первые 1-5 месяцев, после этого вероятность оттока снижается до минимума\n",
    "- редко посещает групповые тренировки\n",
    "\n",
    "Для прогнозирования оттока мы использовали модели бинарной классификации: логистическую регрессию и случайный лес. Обучающая и валидационная выборки делились случайным образом без учета времени в пропорции 80:20. Для оценки качества моделей были рассчитаны метрики accuracy, precision, recall и roc_auc. Для задач данного исследования метрика recall подходит больше остальных, так как нам важно, чтобы модель не пропустила клиента, который может уйти в отток, что повлечет за собой снижение дохода компании. По данному показателю логистическая регрессия продемонстрировала лучшие результаты, поэтому было принято решение использовать этот алгоритм.\n",
    "\n",
    "Логистическая регрессия показала, что максимальный вес имеют признаки, связанные с частотой посещения тренировок и временем с момента первого посещения; минимальный вес у признаков \"пол\", \"локация\" и \"дополнительные траты клиента\".\n",
    "\n",
    "Для сегментации клиентов мы использовали алгоритм KMeans, разделив клиентов на 5 групп. Данные были предварительно стандартизированы, так как модель чувствительна к масштабу признаков.\n",
    "\n",
    "В частности,  \n",
    "- расположение фитнес-клуба далеко от места проживания клиента характерно только для клиентов одной группы  \n",
    "- клиенты без контактного телефона также попали в отдельную группу  \n",
    "- признаки, связанные с длительностью абонемента (`contract_period` и `month_to_end_contract`) примерно равномерно распределились между группами (в одну из групп попали годовые контракты, в другую - полугодовые, а в трех оставшихся большую часть, судя по невысокому среднему значению, составляют абонементы на 1 месяц, преобладающие в выборке)  \n",
    "\n",
    "Для групп с минимальной долей оттока характерны следующие признаки:  \n",
    "- проживание клиента рядом с клубом  \n",
    "- большая доля клиентов, пришедших по партнерской программе  \n",
    "- более половины клиентов по промо-акции  \n",
    "- годовой абонемент  \n",
    "- более половины клиентов посещают групповые занятия\n",
    "- клиенты много тратят на дополнительные услуги фитнес-центра\n",
    "- посещают клуб чаще остальных\n",
    "\n",
    "Для клиентов с самой высокой долей оттока (кластеры с меткой 2 и 3) наблюдается обратная тенденция: самые низкие средние значения допольнительных трат и минимальная частота посещений. В кластер с меткой 2 также попали клиенты, проживающие далеко от фитнес-клуба и не посещавщие групповые занятия - очевидно, долгая дорога и занятия в-одиночку не способствуют повышению мотивации к тренировкам.\n",
    "\n",
    "Рекомендации по улучшению стратегии удержания клиентов:\n",
    "- усилить вовлеченность действующих клиентов за счет приглашения к участию в групповых тренировках,  \n",
    "- активизировать кросс-продажи сопутствующих услуг (фитнес-бар, спортивная экипировка и питание, услуги массажа, персональные тренировки и консультации и т.д.),  \n",
    "- графики групповых тренировок строить таким образом, чтобы увеличить частоту посещения клиентами фитнес-клуба без ощущения перетренированности и демотивации,  \n",
    "- для клиентов, предпочитающих самостоятельные занятия, разработать систему мониторинга посещаемости, в случае падения интереса - систему напоминаний, мотивационных пуш-уведомлений, статей о ЗОЖ и т.д.  \n",
    "\n",
    "Для новых клиентов: \n",
    "- мотивировать клиентов приобретать долгосрочный абонемент за счет системы скидок, рассрочек, льготного кредитования,  \n",
    "- таргетировать рекламную компанию на жителей близлежащих районов,   \n",
    "- активно использовать партнерские организации для привлечения их сотрудников к занятиям в центре,  \n",
    "- мониторить посещаемость новичков до момента формирования истинной вовлеченности (5-6 мес регулярных занятий)."
   ]
  }
 ],
 "metadata": {
  "ExecuteTimeLog": [
   {
    "duration": 1926,
    "start_time": "2021-08-25T18:26:37.049Z"
   },
   {
    "duration": 25,
    "start_time": "2021-08-25T18:27:20.779Z"
   },
   {
    "duration": 33,
    "start_time": "2021-08-25T18:27:36.445Z"
   },
   {
    "duration": 11,
    "start_time": "2021-08-25T18:34:20.113Z"
   },
   {
    "duration": 72,
    "start_time": "2021-08-25T18:35:03.122Z"
   },
   {
    "duration": 13,
    "start_time": "2021-08-25T18:37:35.573Z"
   },
   {
    "duration": 12,
    "start_time": "2021-08-25T18:37:39.788Z"
   },
   {
    "duration": 482,
    "start_time": "2021-08-25T18:42:00.087Z"
   },
   {
    "duration": 7,
    "start_time": "2021-08-25T18:42:07.643Z"
   },
   {
    "duration": 47,
    "start_time": "2021-08-25T18:48:10.648Z"
   },
   {
    "duration": 301,
    "start_time": "2021-08-25T19:52:05.776Z"
   },
   {
    "duration": 2130,
    "start_time": "2021-08-25T19:52:11.886Z"
   },
   {
    "duration": 61,
    "start_time": "2021-08-25T19:52:14.019Z"
   },
   {
    "duration": 10,
    "start_time": "2021-08-25T19:52:14.083Z"
   },
   {
    "duration": 11,
    "start_time": "2021-08-25T19:52:14.101Z"
   },
   {
    "duration": 7,
    "start_time": "2021-08-25T19:52:14.114Z"
   },
   {
    "duration": 100,
    "start_time": "2021-08-25T19:52:14.123Z"
   },
   {
    "duration": 78,
    "start_time": "2021-08-25T19:52:14.226Z"
   },
   {
    "duration": 216,
    "start_time": "2021-08-26T12:03:25.970Z"
   },
   {
    "duration": 1401,
    "start_time": "2021-08-26T12:03:32.745Z"
   },
   {
    "duration": 38,
    "start_time": "2021-08-26T12:03:34.148Z"
   },
   {
    "duration": 6,
    "start_time": "2021-08-26T12:03:34.188Z"
   },
   {
    "duration": 8,
    "start_time": "2021-08-26T12:03:34.196Z"
   },
   {
    "duration": 4,
    "start_time": "2021-08-26T12:03:34.205Z"
   },
   {
    "duration": 48,
    "start_time": "2021-08-26T12:03:34.210Z"
   },
   {
    "duration": 67,
    "start_time": "2021-08-26T12:03:34.260Z"
   },
   {
    "duration": 15,
    "start_time": "2021-08-26T12:03:34.329Z"
   },
   {
    "duration": 11,
    "start_time": "2021-08-26T12:04:02.560Z"
   },
   {
    "duration": 13,
    "start_time": "2021-08-26T12:06:55.733Z"
   },
   {
    "duration": 3457,
    "start_time": "2021-08-26T12:18:03.914Z"
   },
   {
    "duration": 13,
    "start_time": "2021-08-26T12:18:15.369Z"
   },
   {
    "duration": 12,
    "start_time": "2021-08-26T12:18:20.825Z"
   },
   {
    "duration": 11,
    "start_time": "2021-08-26T12:18:39.944Z"
   },
   {
    "duration": 3237,
    "start_time": "2021-08-26T12:18:47.272Z"
   },
   {
    "duration": 18,
    "start_time": "2021-08-26T12:19:11.158Z"
   },
   {
    "duration": 18,
    "start_time": "2021-08-26T12:20:22.732Z"
   },
   {
    "duration": 17,
    "start_time": "2021-08-26T12:21:35.216Z"
   },
   {
    "duration": 4343,
    "start_time": "2021-08-26T12:22:46.055Z"
   },
   {
    "duration": 17,
    "start_time": "2021-08-26T12:22:56.256Z"
   },
   {
    "duration": 18,
    "start_time": "2021-08-26T12:23:10.605Z"
   },
   {
    "duration": 17,
    "start_time": "2021-08-26T12:23:28.292Z"
   },
   {
    "duration": 17,
    "start_time": "2021-08-26T12:23:57.841Z"
   },
   {
    "duration": 17,
    "start_time": "2021-08-26T12:25:59.354Z"
   },
   {
    "duration": 23,
    "start_time": "2021-08-26T12:26:14.366Z"
   },
   {
    "duration": 26,
    "start_time": "2021-08-26T12:26:27.055Z"
   },
   {
    "duration": 17,
    "start_time": "2021-08-26T12:27:26.474Z"
   },
   {
    "duration": 17,
    "start_time": "2021-08-26T12:37:20.880Z"
   },
   {
    "duration": 208,
    "start_time": "2021-08-26T12:46:33.536Z"
   },
   {
    "duration": 2907,
    "start_time": "2021-08-26T12:47:52.835Z"
   },
   {
    "duration": 187,
    "start_time": "2021-08-26T12:48:02.245Z"
   },
   {
    "duration": 2098,
    "start_time": "2021-08-26T12:48:39.831Z"
   },
   {
    "duration": 1301,
    "start_time": "2021-08-26T12:48:41.931Z"
   },
   {
    "duration": 37,
    "start_time": "2021-08-26T12:48:43.236Z"
   },
   {
    "duration": 11,
    "start_time": "2021-08-26T12:48:43.275Z"
   },
   {
    "duration": 8,
    "start_time": "2021-08-26T12:48:43.287Z"
   },
   {
    "duration": 4,
    "start_time": "2021-08-26T12:48:43.296Z"
   },
   {
    "duration": 44,
    "start_time": "2021-08-26T12:48:43.303Z"
   },
   {
    "duration": 46,
    "start_time": "2021-08-26T12:48:43.349Z"
   },
   {
    "duration": 15,
    "start_time": "2021-08-26T12:48:43.397Z"
   },
   {
    "duration": 10579,
    "start_time": "2021-08-26T12:48:53.653Z"
   },
   {
    "duration": 10375,
    "start_time": "2021-08-26T12:58:43.480Z"
   },
   {
    "duration": 2186,
    "start_time": "2021-08-26T13:04:44.932Z"
   },
   {
    "duration": 1422,
    "start_time": "2021-08-26T13:04:47.120Z"
   },
   {
    "duration": 38,
    "start_time": "2021-08-26T13:04:48.544Z"
   },
   {
    "duration": 7,
    "start_time": "2021-08-26T13:04:48.584Z"
   },
   {
    "duration": 13,
    "start_time": "2021-08-26T13:04:48.593Z"
   },
   {
    "duration": 5,
    "start_time": "2021-08-26T13:04:48.607Z"
   },
   {
    "duration": 47,
    "start_time": "2021-08-26T13:04:48.615Z"
   },
   {
    "duration": 35,
    "start_time": "2021-08-26T13:04:48.665Z"
   },
   {
    "duration": 16,
    "start_time": "2021-08-26T13:04:48.702Z"
   },
   {
    "duration": 10462,
    "start_time": "2021-08-26T13:04:48.720Z"
   },
   {
    "duration": 9797,
    "start_time": "2021-08-26T13:11:10.218Z"
   },
   {
    "duration": 9853,
    "start_time": "2021-08-26T13:12:46.907Z"
   },
   {
    "duration": 603,
    "start_time": "2021-08-26T13:14:16.115Z"
   },
   {
    "duration": 9912,
    "start_time": "2021-08-26T13:14:28.399Z"
   },
   {
    "duration": 10049,
    "start_time": "2021-08-26T13:15:28.669Z"
   },
   {
    "duration": 10187,
    "start_time": "2021-08-26T13:16:01.427Z"
   },
   {
    "duration": 10076,
    "start_time": "2021-08-26T13:16:54.927Z"
   },
   {
    "duration": 10195,
    "start_time": "2021-08-26T13:17:06.532Z"
   },
   {
    "duration": 443,
    "start_time": "2021-08-26T13:17:54.531Z"
   },
   {
    "duration": 10141,
    "start_time": "2021-08-26T13:18:07.447Z"
   },
   {
    "duration": 10149,
    "start_time": "2021-08-26T13:18:22.466Z"
   },
   {
    "duration": 10117,
    "start_time": "2021-08-26T13:22:10.003Z"
   },
   {
    "duration": 10191,
    "start_time": "2021-08-26T13:22:32.626Z"
   },
   {
    "duration": 450,
    "start_time": "2021-08-26T13:28:17.721Z"
   },
   {
    "duration": 1138,
    "start_time": "2021-08-26T13:28:27.755Z"
   },
   {
    "duration": 1030,
    "start_time": "2021-08-26T13:28:44.706Z"
   },
   {
    "duration": 1295,
    "start_time": "2021-08-26T13:29:08.902Z"
   },
   {
    "duration": 1332,
    "start_time": "2021-08-26T13:29:18.370Z"
   },
   {
    "duration": 1186,
    "start_time": "2021-08-26T13:29:37.420Z"
   },
   {
    "duration": 1269,
    "start_time": "2021-08-26T13:29:48.195Z"
   },
   {
    "duration": 1197,
    "start_time": "2021-08-26T13:30:29.714Z"
   },
   {
    "duration": 1427,
    "start_time": "2021-08-26T13:30:45.283Z"
   },
   {
    "duration": 1264,
    "start_time": "2021-08-26T13:30:53.454Z"
   },
   {
    "duration": 1227,
    "start_time": "2021-08-26T13:31:34.702Z"
   },
   {
    "duration": 346,
    "start_time": "2021-08-26T13:38:26.019Z"
   },
   {
    "duration": 10732,
    "start_time": "2021-08-26T13:39:15.322Z"
   },
   {
    "duration": 436,
    "start_time": "2021-08-26T13:44:08.392Z"
   },
   {
    "duration": 11639,
    "start_time": "2021-08-26T13:44:42.740Z"
   },
   {
    "duration": 11265,
    "start_time": "2021-08-26T13:45:01.988Z"
   },
   {
    "duration": 11365,
    "start_time": "2021-08-26T13:45:32.278Z"
   },
   {
    "duration": 65,
    "start_time": "2021-08-26T13:46:43.635Z"
   },
   {
    "duration": 58,
    "start_time": "2021-08-26T13:47:17.130Z"
   },
   {
    "duration": 11664,
    "start_time": "2021-08-26T13:47:46.406Z"
   },
   {
    "duration": 11113,
    "start_time": "2021-08-26T13:48:18.381Z"
   },
   {
    "duration": 192,
    "start_time": "2021-08-26T15:47:00.444Z"
   },
   {
    "duration": 6118,
    "start_time": "2021-08-26T15:50:04.714Z"
   },
   {
    "duration": 8,
    "start_time": "2021-08-26T15:52:10.015Z"
   },
   {
    "duration": 34,
    "start_time": "2021-08-26T16:09:15.311Z"
   },
   {
    "duration": 266,
    "start_time": "2021-08-26T16:11:02.076Z"
   },
   {
    "duration": 258,
    "start_time": "2021-08-26T16:11:25.873Z"
   },
   {
    "duration": 54,
    "start_time": "2021-08-26T16:11:50.862Z"
   },
   {
    "duration": 14,
    "start_time": "2021-08-26T16:12:41.357Z"
   },
   {
    "duration": 18,
    "start_time": "2021-08-26T16:12:48.479Z"
   },
   {
    "duration": 181,
    "start_time": "2021-08-26T16:16:57.449Z"
   },
   {
    "duration": 178,
    "start_time": "2021-08-26T16:17:03.956Z"
   },
   {
    "duration": 5,
    "start_time": "2021-08-26T16:17:20.928Z"
   },
   {
    "duration": 176,
    "start_time": "2021-08-26T16:19:27.822Z"
   },
   {
    "duration": 37,
    "start_time": "2021-08-26T16:19:33.281Z"
   },
   {
    "duration": 10,
    "start_time": "2021-08-26T16:19:35.645Z"
   },
   {
    "duration": 3,
    "start_time": "2021-08-26T16:24:11.416Z"
   },
   {
    "duration": 191,
    "start_time": "2021-08-26T16:32:52.332Z"
   },
   {
    "duration": 540,
    "start_time": "2021-08-26T16:33:46.039Z"
   },
   {
    "duration": 466,
    "start_time": "2021-08-26T16:34:06.113Z"
   },
   {
    "duration": 535,
    "start_time": "2021-08-26T16:34:14.838Z"
   },
   {
    "duration": 537,
    "start_time": "2021-08-26T16:34:44.231Z"
   },
   {
    "duration": 5,
    "start_time": "2021-08-26T16:39:49.856Z"
   },
   {
    "duration": 545,
    "start_time": "2021-08-26T16:39:59.330Z"
   },
   {
    "duration": 521,
    "start_time": "2021-08-26T16:40:21.487Z"
   },
   {
    "duration": 310,
    "start_time": "2021-08-26T16:42:45.889Z"
   },
   {
    "duration": 63,
    "start_time": "2021-08-26T16:43:50.094Z"
   },
   {
    "duration": 541,
    "start_time": "2021-08-26T16:44:00.816Z"
   },
   {
    "duration": 595,
    "start_time": "2021-08-26T16:44:29.833Z"
   },
   {
    "duration": 6,
    "start_time": "2021-08-26T16:45:25.622Z"
   },
   {
    "duration": 1429,
    "start_time": "2021-08-27T11:35:14.759Z"
   },
   {
    "duration": 3461,
    "start_time": "2021-08-27T11:35:21.830Z"
   },
   {
    "duration": 1466,
    "start_time": "2021-08-27T11:35:25.293Z"
   },
   {
    "duration": 39,
    "start_time": "2021-08-27T11:35:26.761Z"
   },
   {
    "duration": 8,
    "start_time": "2021-08-27T11:35:26.802Z"
   },
   {
    "duration": 9,
    "start_time": "2021-08-27T11:35:26.811Z"
   },
   {
    "duration": 8,
    "start_time": "2021-08-27T11:35:26.822Z"
   },
   {
    "duration": 41,
    "start_time": "2021-08-27T11:35:26.841Z"
   },
   {
    "duration": 19,
    "start_time": "2021-08-27T11:35:26.885Z"
   },
   {
    "duration": 43,
    "start_time": "2021-08-27T11:35:26.906Z"
   },
   {
    "duration": 10220,
    "start_time": "2021-08-27T11:35:26.951Z"
   },
   {
    "duration": 1172,
    "start_time": "2021-08-27T11:35:37.173Z"
   },
   {
    "duration": 8,
    "start_time": "2021-08-27T11:35:38.347Z"
   },
   {
    "duration": 513,
    "start_time": "2021-08-27T11:35:38.356Z"
   },
   {
    "duration": 5,
    "start_time": "2021-08-27T11:35:38.871Z"
   },
   {
    "duration": 5,
    "start_time": "2021-08-27T11:35:38.878Z"
   },
   {
    "duration": 592,
    "start_time": "2021-08-27T11:40:21.966Z"
   },
   {
    "duration": 550,
    "start_time": "2021-08-27T11:41:15.761Z"
   },
   {
    "duration": 89,
    "start_time": "2021-08-27T12:04:36.599Z"
   },
   {
    "duration": 707,
    "start_time": "2021-08-27T12:07:59.894Z"
   },
   {
    "duration": 470,
    "start_time": "2021-08-27T12:08:48.428Z"
   },
   {
    "duration": 383,
    "start_time": "2021-08-27T12:09:04.255Z"
   },
   {
    "duration": 113,
    "start_time": "2021-08-27T12:09:25.929Z"
   },
   {
    "duration": 4,
    "start_time": "2021-08-27T12:09:50.824Z"
   },
   {
    "duration": 484,
    "start_time": "2021-08-27T12:11:22.999Z"
   },
   {
    "duration": 407,
    "start_time": "2021-08-27T12:20:28.544Z"
   },
   {
    "duration": 292,
    "start_time": "2021-08-27T12:25:10.827Z"
   },
   {
    "duration": 333,
    "start_time": "2021-08-27T12:25:25.298Z"
   },
   {
    "duration": 95,
    "start_time": "2021-08-27T12:34:28.547Z"
   },
   {
    "duration": 110,
    "start_time": "2021-08-27T12:34:49.832Z"
   },
   {
    "duration": 98,
    "start_time": "2021-08-27T12:34:56.055Z"
   },
   {
    "duration": 90,
    "start_time": "2021-08-27T12:35:16.003Z"
   },
   {
    "duration": 146,
    "start_time": "2021-08-27T12:35:40.902Z"
   },
   {
    "duration": 152,
    "start_time": "2021-08-27T12:36:30.195Z"
   },
   {
    "duration": 144,
    "start_time": "2021-08-27T12:36:54.902Z"
   },
   {
    "duration": 250,
    "start_time": "2021-08-27T12:37:02.992Z"
   },
   {
    "duration": 128,
    "start_time": "2021-08-27T12:37:35.016Z"
   },
   {
    "duration": 138,
    "start_time": "2021-08-27T12:38:06.004Z"
   },
   {
    "duration": 176,
    "start_time": "2021-08-27T12:38:13.866Z"
   },
   {
    "duration": 95,
    "start_time": "2021-08-27T13:02:17.144Z"
   },
   {
    "duration": 107,
    "start_time": "2021-08-27T13:05:22.197Z"
   },
   {
    "duration": 12,
    "start_time": "2021-08-27T13:07:30.849Z"
   },
   {
    "duration": 38,
    "start_time": "2021-08-27T13:09:08.736Z"
   },
   {
    "duration": 10,
    "start_time": "2021-08-27T13:09:14.908Z"
   },
   {
    "duration": 154,
    "start_time": "2021-08-27T13:29:55.292Z"
   },
   {
    "duration": 182,
    "start_time": "2021-08-27T13:30:17.262Z"
   },
   {
    "duration": 263,
    "start_time": "2021-08-27T13:30:32.685Z"
   },
   {
    "duration": 224,
    "start_time": "2021-08-27T13:30:40.228Z"
   },
   {
    "duration": 257,
    "start_time": "2021-08-27T13:30:50.284Z"
   },
   {
    "duration": 277,
    "start_time": "2021-08-27T13:31:10.367Z"
   },
   {
    "duration": 98,
    "start_time": "2021-08-27T13:34:33.641Z"
   },
   {
    "duration": 375,
    "start_time": "2021-08-27T13:34:38.663Z"
   },
   {
    "duration": 409,
    "start_time": "2021-08-27T13:35:02.426Z"
   },
   {
    "duration": 309,
    "start_time": "2021-08-27T13:35:26.434Z"
   },
   {
    "duration": 409,
    "start_time": "2021-08-27T13:44:43.308Z"
   },
   {
    "duration": 294,
    "start_time": "2021-08-27T13:45:44.168Z"
   },
   {
    "duration": 93,
    "start_time": "2021-08-27T13:47:30.129Z"
   },
   {
    "duration": 281,
    "start_time": "2021-08-27T13:47:34.967Z"
   },
   {
    "duration": 292,
    "start_time": "2021-08-27T13:47:59.751Z"
   },
   {
    "duration": 4,
    "start_time": "2021-08-27T13:49:24.160Z"
   },
   {
    "duration": 279,
    "start_time": "2021-08-27T13:49:38.684Z"
   },
   {
    "duration": 1258,
    "start_time": "2021-08-27T13:49:44.283Z"
   },
   {
    "duration": 5,
    "start_time": "2021-08-27T13:50:02.559Z"
   },
   {
    "duration": 2241,
    "start_time": "2021-08-27T13:50:11.508Z"
   },
   {
    "duration": 2314,
    "start_time": "2021-08-27T13:52:54.831Z"
   },
   {
    "duration": 2165,
    "start_time": "2021-08-27T13:53:36.485Z"
   },
   {
    "duration": 2186,
    "start_time": "2021-08-27T13:54:26.663Z"
   },
   {
    "duration": 2241,
    "start_time": "2021-08-27T13:54:43.706Z"
   },
   {
    "duration": 2433,
    "start_time": "2021-08-27T13:54:53.416Z"
   },
   {
    "duration": 2156,
    "start_time": "2021-08-27T13:55:23.196Z"
   },
   {
    "duration": 2304,
    "start_time": "2021-08-27T13:55:54.046Z"
   },
   {
    "duration": 2117,
    "start_time": "2021-08-27T14:02:28.633Z"
   },
   {
    "duration": 2701,
    "start_time": "2021-08-27T14:05:54.442Z"
   },
   {
    "duration": 9,
    "start_time": "2021-08-27T14:27:55.221Z"
   },
   {
    "duration": 291,
    "start_time": "2021-08-27T14:31:31.995Z"
   },
   {
    "duration": 308,
    "start_time": "2021-08-27T14:44:32.927Z"
   },
   {
    "duration": 6,
    "start_time": "2021-08-27T14:45:28.954Z"
   },
   {
    "duration": 132387,
    "start_time": "2021-08-27T14:47:05.354Z"
   },
   {
    "duration": 2084,
    "start_time": "2021-08-29T15:19:08.736Z"
   },
   {
    "duration": 538,
    "start_time": "2021-08-29T15:21:12.601Z"
   },
   {
    "duration": 4634,
    "start_time": "2021-08-29T15:21:18.988Z"
   },
   {
    "duration": 1994,
    "start_time": "2021-08-29T15:21:23.626Z"
   },
   {
    "duration": 188,
    "start_time": "2021-08-29T15:21:25.624Z"
   },
   {
    "duration": 13,
    "start_time": "2021-08-29T15:21:25.815Z"
   },
   {
    "duration": 13,
    "start_time": "2021-08-29T15:21:25.831Z"
   },
   {
    "duration": 18,
    "start_time": "2021-08-29T15:21:25.846Z"
   },
   {
    "duration": 69,
    "start_time": "2021-08-29T15:21:25.866Z"
   },
   {
    "duration": 49,
    "start_time": "2021-08-29T15:21:25.939Z"
   },
   {
    "duration": 27,
    "start_time": "2021-08-29T15:21:25.991Z"
   },
   {
    "duration": 15009,
    "start_time": "2021-08-29T15:21:26.021Z"
   },
   {
    "duration": 1789,
    "start_time": "2021-08-29T15:21:41.033Z"
   },
   {
    "duration": 9,
    "start_time": "2021-08-29T15:21:42.825Z"
   },
   {
    "duration": 896,
    "start_time": "2021-08-29T15:21:42.836Z"
   },
   {
    "duration": 8,
    "start_time": "2021-08-29T15:21:43.735Z"
   },
   {
    "duration": 318,
    "start_time": "2021-08-29T15:21:43.746Z"
   },
   {
    "duration": 147,
    "start_time": "2021-08-29T15:21:44.068Z"
   },
   {
    "duration": 543,
    "start_time": "2021-08-29T15:21:44.218Z"
   },
   {
    "duration": -3667,
    "start_time": "2021-08-29T15:21:48.431Z"
   },
   {
    "duration": -3680,
    "start_time": "2021-08-29T15:21:48.445Z"
   },
   {
    "duration": -3683,
    "start_time": "2021-08-29T15:21:48.450Z"
   },
   {
    "duration": 360,
    "start_time": "2021-08-29T15:22:51.991Z"
   },
   {
    "duration": 4,
    "start_time": "2021-08-29T15:23:46.171Z"
   },
   {
    "duration": 3659,
    "start_time": "2021-08-29T15:23:48.804Z"
   },
   {
    "duration": 134604,
    "start_time": "2021-08-29T15:23:57.468Z"
   },
   {
    "duration": 1871,
    "start_time": "2021-08-29T15:26:21.493Z"
   },
   {
    "duration": 5,
    "start_time": "2021-08-29T15:26:28.048Z"
   },
   {
    "duration": 325,
    "start_time": "2021-08-29T15:27:25.120Z"
   },
   {
    "duration": 6,
    "start_time": "2021-08-29T15:27:32.223Z"
   },
   {
    "duration": 632,
    "start_time": "2021-08-29T15:27:58.807Z"
   },
   {
    "duration": 6,
    "start_time": "2021-08-29T15:29:51.414Z"
   },
   {
    "duration": 1723,
    "start_time": "2021-08-29T15:30:12.743Z"
   },
   {
    "duration": 632,
    "start_time": "2021-08-29T15:30:15.321Z"
   },
   {
    "duration": 991,
    "start_time": "2021-08-29T15:30:19.680Z"
   },
   {
    "duration": 631,
    "start_time": "2021-08-29T15:30:21.278Z"
   },
   {
    "duration": 1767,
    "start_time": "2021-08-29T15:30:24.999Z"
   },
   {
    "duration": 695,
    "start_time": "2021-08-29T15:30:26.768Z"
   },
   {
    "duration": 5,
    "start_time": "2021-08-29T15:32:09.400Z"
   },
   {
    "duration": 26,
    "start_time": "2021-08-29T15:33:18.627Z"
   },
   {
    "duration": 6,
    "start_time": "2021-08-29T15:34:38.891Z"
   },
   {
    "duration": 6,
    "start_time": "2021-08-29T15:35:07.679Z"
   },
   {
    "duration": 376,
    "start_time": "2021-08-29T15:35:38.851Z"
   },
   {
    "duration": 4,
    "start_time": "2021-08-29T15:37:07.243Z"
   },
   {
    "duration": 11,
    "start_time": "2021-08-29T15:37:11.712Z"
   },
   {
    "duration": 318,
    "start_time": "2021-08-29T15:37:29.006Z"
   },
   {
    "duration": 34,
    "start_time": "2021-08-29T15:37:40.309Z"
   },
   {
    "duration": 8,
    "start_time": "2021-08-29T15:37:58.135Z"
   },
   {
    "duration": 354,
    "start_time": "2021-08-29T15:38:41.651Z"
   },
   {
    "duration": 342,
    "start_time": "2021-08-29T15:38:52.083Z"
   },
   {
    "duration": 307,
    "start_time": "2021-08-29T15:39:07.149Z"
   },
   {
    "duration": 31,
    "start_time": "2021-08-29T15:39:39.088Z"
   },
   {
    "duration": 32,
    "start_time": "2021-08-29T15:39:57.128Z"
   },
   {
    "duration": 58,
    "start_time": "2021-08-29T15:40:17.000Z"
   },
   {
    "duration": 3276,
    "start_time": "2021-08-29T15:40:54.171Z"
   },
   {
    "duration": 1949,
    "start_time": "2021-08-29T15:40:57.450Z"
   },
   {
    "duration": 49,
    "start_time": "2021-08-29T15:40:59.402Z"
   },
   {
    "duration": 14,
    "start_time": "2021-08-29T15:40:59.454Z"
   },
   {
    "duration": 11,
    "start_time": "2021-08-29T15:40:59.471Z"
   },
   {
    "duration": 5,
    "start_time": "2021-08-29T15:40:59.484Z"
   },
   {
    "duration": 98,
    "start_time": "2021-08-29T15:40:59.492Z"
   },
   {
    "duration": 28,
    "start_time": "2021-08-29T15:40:59.594Z"
   },
   {
    "duration": 50,
    "start_time": "2021-08-29T15:40:59.625Z"
   },
   {
    "duration": 14952,
    "start_time": "2021-08-29T15:40:59.678Z"
   },
   {
    "duration": 1866,
    "start_time": "2021-08-29T15:41:14.632Z"
   },
   {
    "duration": 9,
    "start_time": "2021-08-29T15:41:16.501Z"
   },
   {
    "duration": 950,
    "start_time": "2021-08-29T15:41:16.512Z"
   },
   {
    "duration": 8,
    "start_time": "2021-08-29T15:41:17.464Z"
   },
   {
    "duration": 295,
    "start_time": "2021-08-29T15:41:17.474Z"
   },
   {
    "duration": 92,
    "start_time": "2021-08-29T15:41:17.771Z"
   },
   {
    "duration": 8,
    "start_time": "2021-08-29T15:41:17.865Z"
   },
   {
    "duration": 3594,
    "start_time": "2021-08-29T15:41:17.876Z"
   },
   {
    "duration": 89,
    "start_time": "2021-08-29T15:41:21.473Z"
   },
   {
    "duration": 621,
    "start_time": "2021-08-29T15:41:21.566Z"
   },
   {
    "duration": -3678,
    "start_time": "2021-08-29T15:41:25.867Z"
   },
   {
    "duration": -3682,
    "start_time": "2021-08-29T15:41:25.873Z"
   },
   {
    "duration": -3693,
    "start_time": "2021-08-29T15:41:25.885Z"
   },
   {
    "duration": 783,
    "start_time": "2021-08-29T15:41:59.290Z"
   },
   {
    "duration": 1907,
    "start_time": "2021-08-29T15:42:01.856Z"
   },
   {
    "duration": 648,
    "start_time": "2021-08-29T15:42:06.078Z"
   },
   {
    "duration": 11,
    "start_time": "2021-08-29T15:42:07.674Z"
   },
   {
    "duration": 33,
    "start_time": "2021-08-29T15:42:10.753Z"
   },
   {
    "duration": 28,
    "start_time": "2021-08-29T15:44:38.827Z"
   },
   {
    "duration": 32,
    "start_time": "2021-08-29T15:45:13.343Z"
   },
   {
    "duration": 32,
    "start_time": "2021-08-29T15:45:21.174Z"
   },
   {
    "duration": 25,
    "start_time": "2021-08-29T15:45:36.739Z"
   },
   {
    "duration": 6,
    "start_time": "2021-08-29T15:57:51.470Z"
   },
   {
    "duration": 1739,
    "start_time": "2021-08-29T16:22:08.626Z"
   },
   {
    "duration": 629,
    "start_time": "2021-08-29T16:22:13.925Z"
   },
   {
    "duration": 11,
    "start_time": "2021-08-29T16:22:15.371Z"
   },
   {
    "duration": 1733,
    "start_time": "2021-08-29T16:22:24.733Z"
   },
   {
    "duration": 660,
    "start_time": "2021-08-29T16:22:26.468Z"
   },
   {
    "duration": 11,
    "start_time": "2021-08-29T16:22:27.131Z"
   },
   {
    "duration": 32,
    "start_time": "2021-08-29T16:22:31.511Z"
   },
   {
    "duration": 348,
    "start_time": "2021-08-29T16:22:34.594Z"
   },
   {
    "duration": 38,
    "start_time": "2021-08-29T16:22:44.974Z"
   },
   {
    "duration": 370,
    "start_time": "2021-08-29T16:22:46.521Z"
   },
   {
    "duration": 3244,
    "start_time": "2021-08-29T16:23:01.442Z"
   },
   {
    "duration": 1925,
    "start_time": "2021-08-29T16:23:04.689Z"
   },
   {
    "duration": 51,
    "start_time": "2021-08-29T16:23:06.617Z"
   },
   {
    "duration": 10,
    "start_time": "2021-08-29T16:23:06.671Z"
   },
   {
    "duration": 37,
    "start_time": "2021-08-29T16:23:06.683Z"
   },
   {
    "duration": 12,
    "start_time": "2021-08-29T16:23:06.722Z"
   },
   {
    "duration": 89,
    "start_time": "2021-08-29T16:23:06.736Z"
   },
   {
    "duration": 41,
    "start_time": "2021-08-29T16:23:06.831Z"
   },
   {
    "duration": 27,
    "start_time": "2021-08-29T16:23:06.876Z"
   },
   {
    "duration": 14412,
    "start_time": "2021-08-29T16:23:06.906Z"
   },
   {
    "duration": 1783,
    "start_time": "2021-08-29T16:23:21.321Z"
   },
   {
    "duration": 9,
    "start_time": "2021-08-29T16:23:23.107Z"
   },
   {
    "duration": 924,
    "start_time": "2021-08-29T16:23:23.119Z"
   },
   {
    "duration": 16,
    "start_time": "2021-08-29T16:23:24.045Z"
   },
   {
    "duration": 305,
    "start_time": "2021-08-29T16:23:24.064Z"
   },
   {
    "duration": 89,
    "start_time": "2021-08-29T16:23:24.373Z"
   },
   {
    "duration": 4,
    "start_time": "2021-08-29T16:23:24.465Z"
   },
   {
    "duration": 3696,
    "start_time": "2021-08-29T16:23:24.472Z"
   },
   {
    "duration": 886,
    "start_time": "2021-08-29T16:23:28.171Z"
   },
   {
    "duration": 1802,
    "start_time": "2021-08-29T16:23:29.062Z"
   },
   {
    "duration": 662,
    "start_time": "2021-08-29T16:23:30.866Z"
   },
   {
    "duration": 10,
    "start_time": "2021-08-29T16:23:31.531Z"
   },
   {
    "duration": 45,
    "start_time": "2021-08-29T16:23:31.545Z"
   },
   {
    "duration": 22,
    "start_time": "2021-08-29T16:23:31.593Z"
   },
   {
    "duration": 6,
    "start_time": "2021-08-29T16:23:31.617Z"
   },
   {
    "duration": 21959,
    "start_time": "2021-08-29T16:27:02.985Z"
   },
   {
    "duration": 4671,
    "start_time": "2021-08-30T08:23:27.678Z"
   },
   {
    "duration": 1942,
    "start_time": "2021-08-30T08:23:32.352Z"
   },
   {
    "duration": 51,
    "start_time": "2021-08-30T08:23:34.297Z"
   },
   {
    "duration": 14,
    "start_time": "2021-08-30T08:23:34.351Z"
   },
   {
    "duration": 12,
    "start_time": "2021-08-30T08:23:34.368Z"
   },
   {
    "duration": 6,
    "start_time": "2021-08-30T08:23:34.382Z"
   },
   {
    "duration": 105,
    "start_time": "2021-08-30T08:23:34.390Z"
   },
   {
    "duration": 27,
    "start_time": "2021-08-30T08:23:34.499Z"
   },
   {
    "duration": 45,
    "start_time": "2021-08-30T08:23:34.528Z"
   },
   {
    "duration": 14543,
    "start_time": "2021-08-30T08:23:34.576Z"
   },
   {
    "duration": 1768,
    "start_time": "2021-08-30T08:23:49.121Z"
   },
   {
    "duration": 10,
    "start_time": "2021-08-30T08:23:50.891Z"
   },
   {
    "duration": 930,
    "start_time": "2021-08-30T08:23:50.903Z"
   },
   {
    "duration": 8,
    "start_time": "2021-08-30T08:23:51.835Z"
   },
   {
    "duration": 322,
    "start_time": "2021-08-30T08:23:51.845Z"
   },
   {
    "duration": 92,
    "start_time": "2021-08-30T08:23:52.170Z"
   },
   {
    "duration": 6,
    "start_time": "2021-08-30T08:23:52.265Z"
   },
   {
    "duration": 3689,
    "start_time": "2021-08-30T08:23:52.274Z"
   },
   {
    "duration": 902,
    "start_time": "2021-08-30T08:23:55.967Z"
   },
   {
    "duration": 1393,
    "start_time": "2021-08-30T08:23:56.871Z"
   },
   {
    "duration": 687,
    "start_time": "2021-08-30T08:23:58.270Z"
   },
   {
    "duration": 10,
    "start_time": "2021-08-30T08:23:58.961Z"
   },
   {
    "duration": 33,
    "start_time": "2021-08-30T08:23:58.975Z"
   },
   {
    "duration": 23,
    "start_time": "2021-08-30T08:23:59.011Z"
   },
   {
    "duration": 22870,
    "start_time": "2021-08-30T08:24:14.582Z"
   },
   {
    "duration": 9,
    "start_time": "2021-08-30T08:40:49.375Z"
   },
   {
    "duration": 813,
    "start_time": "2021-08-30T08:53:00.167Z"
   },
   {
    "duration": 67,
    "start_time": "2021-08-30T08:53:14.243Z"
   },
   {
    "duration": 540,
    "start_time": "2021-08-30T09:10:23.416Z"
   },
   {
    "duration": 353,
    "start_time": "2021-08-30T09:10:39.889Z"
   },
   {
    "duration": 1900,
    "start_time": "2021-08-30T09:11:12.593Z"
   },
   {
    "duration": 2375,
    "start_time": "2021-08-30T09:11:24.674Z"
   },
   {
    "duration": 4597,
    "start_time": "2021-08-30T09:20:05.758Z"
   },
   {
    "duration": 4495,
    "start_time": "2021-08-30T09:20:48.453Z"
   },
   {
    "duration": 642,
    "start_time": "2021-08-30T09:21:02.747Z"
   },
   {
    "duration": 3740,
    "start_time": "2021-08-30T09:21:20.025Z"
   },
   {
    "duration": 771,
    "start_time": "2021-08-30T09:22:10.075Z"
   },
   {
    "duration": 1672,
    "start_time": "2021-08-30T09:22:12.993Z"
   },
   {
    "duration": 652,
    "start_time": "2021-08-30T09:22:18.192Z"
   },
   {
    "duration": 2424,
    "start_time": "2021-08-30T09:22:29.234Z"
   },
   {
    "duration": 2322,
    "start_time": "2021-08-30T09:22:36.132Z"
   },
   {
    "duration": 137994,
    "start_time": "2021-08-30T09:26:55.812Z"
   },
   {
    "duration": 26,
    "start_time": "2021-08-30T09:40:46.499Z"
   },
   {
    "duration": 509,
    "start_time": "2021-08-30T11:48:26.870Z"
   },
   {
    "duration": 4931,
    "start_time": "2021-08-30T11:48:33.298Z"
   },
   {
    "duration": 2069,
    "start_time": "2021-08-30T11:48:38.233Z"
   },
   {
    "duration": 53,
    "start_time": "2021-08-30T11:48:40.306Z"
   },
   {
    "duration": 14,
    "start_time": "2021-08-30T11:48:40.361Z"
   },
   {
    "duration": 18,
    "start_time": "2021-08-30T11:48:40.377Z"
   },
   {
    "duration": 10,
    "start_time": "2021-08-30T11:48:40.398Z"
   },
   {
    "duration": 92,
    "start_time": "2021-08-30T11:48:40.410Z"
   },
   {
    "duration": 26,
    "start_time": "2021-08-30T11:48:40.506Z"
   },
   {
    "duration": 45,
    "start_time": "2021-08-30T11:48:40.535Z"
   },
   {
    "duration": 15355,
    "start_time": "2021-08-30T11:48:40.583Z"
   },
   {
    "duration": 1927,
    "start_time": "2021-08-30T11:48:55.941Z"
   },
   {
    "duration": 9,
    "start_time": "2021-08-30T11:48:57.871Z"
   },
   {
    "duration": 938,
    "start_time": "2021-08-30T11:48:57.883Z"
   },
   {
    "duration": 8,
    "start_time": "2021-08-30T11:48:58.824Z"
   },
   {
    "duration": 439,
    "start_time": "2021-08-30T11:48:58.834Z"
   },
   {
    "duration": 4,
    "start_time": "2021-08-30T11:48:59.276Z"
   },
   {
    "duration": 14,
    "start_time": "2021-08-30T11:48:59.283Z"
   },
   {
    "duration": 3770,
    "start_time": "2021-08-30T11:48:59.299Z"
   },
   {
    "duration": 827,
    "start_time": "2021-08-30T11:49:03.073Z"
   },
   {
    "duration": 3,
    "start_time": "2021-08-30T11:49:03.902Z"
   },
   {
    "duration": 4669,
    "start_time": "2021-08-30T11:49:03.907Z"
   },
   {
    "duration": 536,
    "start_time": "2021-08-30T11:49:08.579Z"
   },
   {
    "duration": -4519,
    "start_time": "2021-08-30T11:49:13.637Z"
   },
   {
    "duration": -4523,
    "start_time": "2021-08-30T11:49:13.642Z"
   },
   {
    "duration": -4527,
    "start_time": "2021-08-30T11:49:13.647Z"
   },
   {
    "duration": 2504,
    "start_time": "2021-08-30T11:50:59.864Z"
   },
   {
    "duration": 35,
    "start_time": "2021-08-30T11:51:42.450Z"
   },
   {
    "duration": 1610,
    "start_time": "2021-08-30T11:52:22.533Z"
   },
   {
    "duration": 9,
    "start_time": "2021-08-30T11:52:33.568Z"
   },
   {
    "duration": 23825,
    "start_time": "2021-08-30T11:53:04.920Z"
   },
   {
    "duration": 82,
    "start_time": "2021-08-30T12:20:43.577Z"
   },
   {
    "duration": 70,
    "start_time": "2021-08-30T12:25:30.510Z"
   },
   {
    "duration": 6,
    "start_time": "2021-08-30T13:26:16.371Z"
   },
   {
    "duration": 1031,
    "start_time": "2021-08-30T13:26:24.867Z"
   },
   {
    "duration": 930,
    "start_time": "2021-08-30T13:27:30.246Z"
   },
   {
    "duration": 358,
    "start_time": "2021-08-30T13:35:29.017Z"
   },
   {
    "duration": 8,
    "start_time": "2021-08-30T13:56:54.587Z"
   },
   {
    "duration": 240092,
    "start_time": "2021-08-30T14:01:06.147Z"
   },
   {
    "duration": -5096,
    "start_time": "2021-08-30T14:10:16.040Z"
   },
   {
    "duration": 18945,
    "start_time": "2021-08-30T14:10:13.852Z"
   },
   {
    "duration": 7,
    "start_time": "2021-08-30T14:11:55.573Z"
   },
   {
    "duration": 708,
    "start_time": "2021-08-30T14:11:59.338Z"
   },
   {
    "duration": 64621,
    "start_time": "2021-08-30T14:12:39.768Z"
   },
   {
    "duration": 52435,
    "start_time": "2021-08-30T14:14:37.910Z"
   },
   {
    "duration": 7,
    "start_time": "2021-08-30T14:15:52.180Z"
   },
   {
    "duration": 840,
    "start_time": "2021-08-30T14:15:53.302Z"
   },
   {
    "duration": 876,
    "start_time": "2021-08-30T14:41:48.684Z"
   },
   {
    "duration": 10,
    "start_time": "2021-08-30T14:43:49.088Z"
   },
   {
    "duration": 3898,
    "start_time": "2021-08-30T14:43:53.871Z"
   },
   {
    "duration": 465,
    "start_time": "2021-08-30T14:47:26.110Z"
   },
   {
    "duration": 154154,
    "start_time": "2021-08-30T15:00:25.745Z"
   },
   {
    "duration": 4641,
    "start_time": "2021-08-30T15:05:56.455Z"
   },
   {
    "duration": 1088,
    "start_time": "2021-08-30T15:46:27.098Z"
   },
   {
    "duration": 40,
    "start_time": "2021-08-30T15:46:30.572Z"
   },
   {
    "duration": 404,
    "start_time": "2021-08-30T15:46:37.917Z"
   },
   {
    "duration": 3790,
    "start_time": "2021-08-30T15:47:16.085Z"
   },
   {
    "duration": 2142,
    "start_time": "2021-08-30T15:47:19.878Z"
   },
   {
    "duration": 59,
    "start_time": "2021-08-30T15:47:22.023Z"
   },
   {
    "duration": 12,
    "start_time": "2021-08-30T15:47:22.085Z"
   },
   {
    "duration": 15,
    "start_time": "2021-08-30T15:47:22.100Z"
   },
   {
    "duration": 6,
    "start_time": "2021-08-30T15:47:22.118Z"
   },
   {
    "duration": 106,
    "start_time": "2021-08-30T15:47:22.126Z"
   },
   {
    "duration": 1240,
    "start_time": "2021-08-30T15:47:22.236Z"
   },
   {
    "duration": 16302,
    "start_time": "2021-08-30T15:47:23.484Z"
   },
   {
    "duration": 2011,
    "start_time": "2021-08-30T15:47:39.788Z"
   },
   {
    "duration": 10,
    "start_time": "2021-08-30T15:47:41.801Z"
   },
   {
    "duration": 48526,
    "start_time": "2021-08-30T15:47:41.814Z"
   },
   {
    "duration": -4924,
    "start_time": "2021-08-30T15:48:35.267Z"
   },
   {
    "duration": -4927,
    "start_time": "2021-08-30T15:48:35.272Z"
   },
   {
    "duration": -4930,
    "start_time": "2021-08-30T15:48:35.276Z"
   },
   {
    "duration": -4932,
    "start_time": "2021-08-30T15:48:35.280Z"
   },
   {
    "duration": -4936,
    "start_time": "2021-08-30T15:48:35.285Z"
   },
   {
    "duration": -4937,
    "start_time": "2021-08-30T15:48:35.288Z"
   },
   {
    "duration": -4940,
    "start_time": "2021-08-30T15:48:35.292Z"
   },
   {
    "duration": -4942,
    "start_time": "2021-08-30T15:48:35.295Z"
   },
   {
    "duration": -4944,
    "start_time": "2021-08-30T15:48:35.299Z"
   },
   {
    "duration": -4946,
    "start_time": "2021-08-30T15:48:35.302Z"
   },
   {
    "duration": -4949,
    "start_time": "2021-08-30T15:48:35.306Z"
   },
   {
    "duration": -4950,
    "start_time": "2021-08-30T15:48:35.309Z"
   },
   {
    "duration": -4953,
    "start_time": "2021-08-30T15:48:35.313Z"
   },
   {
    "duration": 7,
    "start_time": "2021-08-30T15:48:47.465Z"
   },
   {
    "duration": 1033,
    "start_time": "2021-08-30T15:48:47.475Z"
   },
   {
    "duration": 11,
    "start_time": "2021-08-30T15:48:48.512Z"
   },
   {
    "duration": 851,
    "start_time": "2021-08-30T15:48:48.527Z"
   },
   {
    "duration": 3910,
    "start_time": "2021-08-30T15:48:49.381Z"
   },
   {
    "duration": 379,
    "start_time": "2021-08-30T15:48:53.299Z"
   },
   {
    "duration": 954,
    "start_time": "2021-08-30T15:48:53.682Z"
   },
   {
    "duration": 4994,
    "start_time": "2021-08-30T15:48:54.641Z"
   },
   {
    "duration": 1430,
    "start_time": "2021-08-30T15:48:59.639Z"
   },
   {
    "duration": 39,
    "start_time": "2021-08-30T15:49:01.072Z"
   },
   {
    "duration": 99,
    "start_time": "2021-08-30T15:49:01.113Z"
   },
   {
    "duration": 10,
    "start_time": "2021-08-30T15:49:01.215Z"
   },
   {
    "duration": 27370,
    "start_time": "2021-08-30T15:49:01.228Z"
   },
   {
    "duration": 4154,
    "start_time": "2021-08-31T09:21:01.399Z"
   },
   {
    "duration": 1662,
    "start_time": "2021-08-31T09:21:05.556Z"
   },
   {
    "duration": 41,
    "start_time": "2021-08-31T09:21:07.220Z"
   },
   {
    "duration": 7,
    "start_time": "2021-08-31T09:21:07.263Z"
   },
   {
    "duration": 13,
    "start_time": "2021-08-31T09:21:07.272Z"
   },
   {
    "duration": 8,
    "start_time": "2021-08-31T09:21:07.287Z"
   },
   {
    "duration": 60,
    "start_time": "2021-08-31T09:21:07.297Z"
   },
   {
    "duration": 589,
    "start_time": "2021-08-31T09:21:07.359Z"
   },
   {
    "duration": 11077,
    "start_time": "2021-08-31T09:21:07.951Z"
   },
   {
    "duration": 1262,
    "start_time": "2021-08-31T09:21:19.030Z"
   },
   {
    "duration": 7,
    "start_time": "2021-08-31T09:21:20.293Z"
   },
   {
    "duration": 32329,
    "start_time": "2021-08-31T09:21:20.302Z"
   },
   {
    "duration": 8,
    "start_time": "2021-08-31T09:21:52.633Z"
   },
   {
    "duration": 549,
    "start_time": "2021-08-31T09:21:52.643Z"
   },
   {
    "duration": 7,
    "start_time": "2021-08-31T09:21:53.193Z"
   },
   {
    "duration": 349,
    "start_time": "2021-08-31T09:21:53.201Z"
   },
   {
    "duration": 2690,
    "start_time": "2021-08-31T09:21:53.552Z"
   },
   {
    "duration": 295,
    "start_time": "2021-08-31T09:21:56.245Z"
   },
   {
    "duration": 1172,
    "start_time": "2021-08-31T09:21:56.543Z"
   },
   {
    "duration": 4204,
    "start_time": "2021-08-31T09:21:57.717Z"
   },
   {
    "duration": 1619,
    "start_time": "2021-08-31T09:22:01.923Z"
   },
   {
    "duration": 23,
    "start_time": "2021-08-31T09:22:03.544Z"
   },
   {
    "duration": 97,
    "start_time": "2021-08-31T09:22:03.570Z"
   },
   {
    "duration": 6,
    "start_time": "2021-08-31T09:22:03.669Z"
   },
   {
    "duration": 16627,
    "start_time": "2021-08-31T09:22:03.677Z"
   },
   {
    "duration": 453,
    "start_time": "2021-08-31T09:26:57.598Z"
   },
   {
    "duration": 4,
    "start_time": "2021-08-31T09:27:09.807Z"
   },
   {
    "duration": 31982,
    "start_time": "2021-08-31T09:29:39.020Z"
   },
   {
    "duration": 7,
    "start_time": "2021-08-31T09:30:47.406Z"
   },
   {
    "duration": 541,
    "start_time": "2021-08-31T09:31:18.021Z"
   },
   {
    "duration": 2703,
    "start_time": "2021-08-31T09:47:11.980Z"
   },
   {
    "duration": 1620,
    "start_time": "2021-08-31T09:47:14.685Z"
   },
   {
    "duration": 41,
    "start_time": "2021-08-31T09:47:16.307Z"
   },
   {
    "duration": 7,
    "start_time": "2021-08-31T09:47:16.350Z"
   },
   {
    "duration": 15,
    "start_time": "2021-08-31T09:47:16.359Z"
   },
   {
    "duration": 4,
    "start_time": "2021-08-31T09:47:16.376Z"
   },
   {
    "duration": 63,
    "start_time": "2021-08-31T09:47:16.382Z"
   },
   {
    "duration": 566,
    "start_time": "2021-08-31T09:47:16.448Z"
   },
   {
    "duration": 11400,
    "start_time": "2021-08-31T09:47:17.018Z"
   },
   {
    "duration": 1648,
    "start_time": "2021-08-31T09:47:28.420Z"
   },
   {
    "duration": 8,
    "start_time": "2021-08-31T09:47:30.069Z"
   },
   {
    "duration": 32550,
    "start_time": "2021-08-31T09:47:30.079Z"
   },
   {
    "duration": 10,
    "start_time": "2021-08-31T09:48:02.631Z"
   },
   {
    "duration": 636,
    "start_time": "2021-08-31T09:48:02.643Z"
   },
   {
    "duration": 6,
    "start_time": "2021-08-31T09:48:03.281Z"
   },
   {
    "duration": 399,
    "start_time": "2021-08-31T09:48:03.289Z"
   },
   {
    "duration": 2562,
    "start_time": "2021-08-31T09:48:03.690Z"
   },
   {
    "duration": 210,
    "start_time": "2021-08-31T09:48:06.343Z"
   },
   {
    "duration": 1245,
    "start_time": "2021-08-31T09:48:06.555Z"
   },
   {
    "duration": 4014,
    "start_time": "2021-08-31T09:48:07.802Z"
   },
   {
    "duration": 1530,
    "start_time": "2021-08-31T09:48:11.818Z"
   },
   {
    "duration": 109,
    "start_time": "2021-08-31T09:48:13.351Z"
   },
   {
    "duration": 39,
    "start_time": "2021-08-31T09:48:13.464Z"
   },
   {
    "duration": 6,
    "start_time": "2021-08-31T09:48:13.505Z"
   },
   {
    "duration": 16057,
    "start_time": "2021-08-31T09:48:13.513Z"
   },
   {
    "duration": 84456,
    "start_time": "2021-08-31T10:06:44.882Z"
   },
   {
    "duration": 25856,
    "start_time": "2021-08-31T10:08:09.341Z"
   },
   {
    "duration": 51,
    "start_time": "2021-08-31T10:08:35.200Z"
   },
   {
    "duration": 11,
    "start_time": "2021-08-31T10:08:35.253Z"
   },
   {
    "duration": 14,
    "start_time": "2021-08-31T10:08:35.266Z"
   },
   {
    "duration": 6,
    "start_time": "2021-08-31T10:08:35.282Z"
   },
   {
    "duration": 72,
    "start_time": "2021-08-31T10:08:35.290Z"
   },
   {
    "duration": 89753,
    "start_time": "2021-08-31T10:08:35.368Z"
   },
   {
    "duration": 15325,
    "start_time": "2021-08-31T10:10:05.126Z"
   },
   {
    "duration": 1818,
    "start_time": "2021-08-31T10:10:20.455Z"
   },
   {
    "duration": 11,
    "start_time": "2021-08-31T10:10:22.275Z"
   },
   {
    "duration": 46743,
    "start_time": "2021-08-31T10:10:22.288Z"
   },
   {
    "duration": 7,
    "start_time": "2021-08-31T10:11:09.033Z"
   },
   {
    "duration": 840,
    "start_time": "2021-08-31T10:11:09.042Z"
   },
   {
    "duration": 8,
    "start_time": "2021-08-31T10:11:09.884Z"
   },
   {
    "duration": 633,
    "start_time": "2021-08-31T10:11:09.894Z"
   },
   {
    "duration": 3840,
    "start_time": "2021-08-31T10:11:10.529Z"
   },
   {
    "duration": 495,
    "start_time": "2021-08-31T10:11:14.372Z"
   },
   {
    "duration": 1488,
    "start_time": "2021-08-31T10:11:14.869Z"
   },
   {
    "duration": 4882,
    "start_time": "2021-08-31T10:11:16.367Z"
   },
   {
    "duration": 1915,
    "start_time": "2021-08-31T10:11:21.252Z"
   },
   {
    "duration": 35,
    "start_time": "2021-08-31T10:11:23.169Z"
   },
   {
    "duration": 96,
    "start_time": "2021-08-31T10:11:23.206Z"
   },
   {
    "duration": 8,
    "start_time": "2021-08-31T10:11:23.304Z"
   },
   {
    "duration": 22865,
    "start_time": "2021-08-31T10:11:23.314Z"
   },
   {
    "duration": 109,
    "start_time": "2021-08-31T17:07:06.743Z"
   },
   {
    "duration": 5511,
    "start_time": "2021-09-01T19:46:08.747Z"
   },
   {
    "duration": 441,
    "start_time": "2021-09-01T19:49:17.624Z"
   },
   {
    "duration": 2210,
    "start_time": "2021-09-01T19:49:22.363Z"
   },
   {
    "duration": 61,
    "start_time": "2021-09-01T19:49:24.579Z"
   },
   {
    "duration": 678,
    "start_time": "2021-09-01T19:57:53.065Z"
   },
   {
    "duration": 44,
    "start_time": "2021-09-01T19:59:17.940Z"
   },
   {
    "duration": 8,
    "start_time": "2021-09-01T20:09:53.161Z"
   },
   {
    "duration": 7,
    "start_time": "2021-09-01T20:10:01.698Z"
   },
   {
    "duration": 7,
    "start_time": "2021-09-01T20:10:13.052Z"
   },
   {
    "duration": 11,
    "start_time": "2021-09-01T20:11:09.763Z"
   },
   {
    "duration": 440,
    "start_time": "2021-09-01T20:12:35.846Z"
   },
   {
    "duration": 38,
    "start_time": "2021-09-01T20:12:51.018Z"
   },
   {
    "duration": 35,
    "start_time": "2021-09-01T20:12:57.254Z"
   },
   {
    "duration": 7,
    "start_time": "2021-09-01T20:13:46.604Z"
   },
   {
    "duration": 385,
    "start_time": "2021-09-01T20:15:18.119Z"
   },
   {
    "duration": 422,
    "start_time": "2021-09-01T20:15:42.595Z"
   },
   {
    "duration": 448,
    "start_time": "2021-09-01T20:15:59.118Z"
   },
   {
    "duration": 9,
    "start_time": "2021-09-01T20:17:47.048Z"
   },
   {
    "duration": 10658,
    "start_time": "2021-09-01T20:24:33.191Z"
   },
   {
    "duration": 16,
    "start_time": "2021-09-01T20:24:49.517Z"
   },
   {
    "duration": 27,
    "start_time": "2021-09-01T20:37:18.743Z"
   },
   {
    "duration": 7,
    "start_time": "2021-09-01T20:37:56.187Z"
   },
   {
    "duration": 8,
    "start_time": "2021-09-01T20:38:22.389Z"
   },
   {
    "duration": 5,
    "start_time": "2021-09-01T20:38:58.177Z"
   },
   {
    "duration": 5,
    "start_time": "2021-09-01T20:39:45.278Z"
   },
   {
    "duration": 8,
    "start_time": "2021-09-01T20:39:55.764Z"
   },
   {
    "duration": 20,
    "start_time": "2021-09-01T20:40:00.437Z"
   },
   {
    "duration": 37,
    "start_time": "2021-09-01T20:40:29.631Z"
   },
   {
    "duration": 25,
    "start_time": "2021-09-01T20:41:15.002Z"
   },
   {
    "duration": 7,
    "start_time": "2021-09-01T20:43:11.803Z"
   },
   {
    "duration": 24,
    "start_time": "2021-09-01T20:44:43.485Z"
   },
   {
    "duration": 10,
    "start_time": "2021-09-01T20:44:50.289Z"
   },
   {
    "duration": 400,
    "start_time": "2021-09-01T21:35:52.730Z"
   },
   {
    "duration": 4175,
    "start_time": "2021-09-01T21:36:08.069Z"
   },
   {
    "duration": 9,
    "start_time": "2021-09-01T21:36:12.248Z"
   },
   {
    "duration": 61,
    "start_time": "2021-09-01T21:36:12.261Z"
   },
   {
    "duration": 28,
    "start_time": "2021-09-01T21:36:12.326Z"
   },
   {
    "duration": 26,
    "start_time": "2021-09-01T21:36:12.356Z"
   },
   {
    "duration": 23,
    "start_time": "2021-09-01T21:36:12.385Z"
   },
   {
    "duration": 34,
    "start_time": "2021-09-01T21:36:12.411Z"
   },
   {
    "duration": 14,
    "start_time": "2021-09-01T21:36:12.448Z"
   },
   {
    "duration": 84,
    "start_time": "2021-09-01T21:36:12.465Z"
   },
   {
    "duration": 910,
    "start_time": "2021-09-01T21:36:12.551Z"
   },
   {
    "duration": 18757,
    "start_time": "2021-09-01T21:36:23.614Z"
   },
   {
    "duration": 18879,
    "start_time": "2021-09-01T21:36:50.093Z"
   },
   {
    "duration": 20658,
    "start_time": "2021-09-01T21:52:27.215Z"
   },
   {
    "duration": 4004,
    "start_time": "2021-09-01T21:53:51.684Z"
   },
   {
    "duration": 4184,
    "start_time": "2021-09-01T21:55:09.864Z"
   },
   {
    "duration": 3766,
    "start_time": "2021-09-01T21:55:31.979Z"
   },
   {
    "duration": 3753,
    "start_time": "2021-09-01T21:55:58.054Z"
   },
   {
    "duration": 3917,
    "start_time": "2021-09-01T21:56:21.651Z"
   },
   {
    "duration": 155,
    "start_time": "2021-09-01T22:12:04.799Z"
   },
   {
    "duration": 159,
    "start_time": "2021-09-01T22:12:11.045Z"
   },
   {
    "duration": 14664,
    "start_time": "2021-09-01T22:12:19.179Z"
   },
   {
    "duration": 4552,
    "start_time": "2021-09-01T22:12:50.813Z"
   },
   {
    "duration": 3390,
    "start_time": "2021-09-01T22:13:17.943Z"
   },
   {
    "duration": 1020,
    "start_time": "2021-09-02T11:24:53.885Z"
   },
   {
    "duration": 7211,
    "start_time": "2021-09-02T11:25:06.635Z"
   },
   {
    "duration": 2405,
    "start_time": "2021-09-02T11:25:13.849Z"
   },
   {
    "duration": 1526,
    "start_time": "2021-09-02T11:25:16.256Z"
   },
   {
    "duration": 24,
    "start_time": "2021-09-02T11:25:17.785Z"
   },
   {
    "duration": 19,
    "start_time": "2021-09-02T11:25:17.811Z"
   },
   {
    "duration": 11,
    "start_time": "2021-09-02T11:25:17.833Z"
   },
   {
    "duration": 12,
    "start_time": "2021-09-02T11:25:17.847Z"
   },
   {
    "duration": 6,
    "start_time": "2021-09-02T11:25:17.862Z"
   },
   {
    "duration": 104,
    "start_time": "2021-09-02T11:25:17.871Z"
   },
   {
    "duration": 2083,
    "start_time": "2021-09-02T11:25:17.978Z"
   },
   {
    "duration": 17084,
    "start_time": "2021-09-02T11:25:20.063Z"
   },
   {
    "duration": 1266,
    "start_time": "2021-09-02T11:25:52.804Z"
   },
   {
    "duration": 18143,
    "start_time": "2021-09-02T11:26:04.797Z"
   },
   {
    "duration": 812,
    "start_time": "2021-09-02T11:28:13.925Z"
   },
   {
    "duration": 942,
    "start_time": "2021-09-02T11:29:00.184Z"
   },
   {
    "duration": 18374,
    "start_time": "2021-09-02T11:29:12.240Z"
   },
   {
    "duration": -780,
    "start_time": "2021-09-02T11:37:06.903Z"
   },
   {
    "duration": 30279,
    "start_time": "2021-09-02T11:37:43.962Z"
   },
   {
    "duration": 17611,
    "start_time": "2021-09-02T11:39:52.543Z"
   },
   {
    "duration": 327,
    "start_time": "2021-09-02T11:47:12.428Z"
   },
   {
    "duration": 448,
    "start_time": "2021-09-02T11:47:20.824Z"
   },
   {
    "duration": 1346,
    "start_time": "2021-09-02T11:47:24.672Z"
   },
   {
    "duration": 2298,
    "start_time": "2021-09-02T11:47:36.563Z"
   },
   {
    "duration": 18583,
    "start_time": "2021-09-02T11:47:51.222Z"
   },
   {
    "duration": 6311,
    "start_time": "2021-09-02T11:51:56.245Z"
   },
   {
    "duration": 16002,
    "start_time": "2021-09-02T11:52:58.514Z"
   },
   {
    "duration": 15486,
    "start_time": "2021-09-02T11:53:38.138Z"
   },
   {
    "duration": 1339,
    "start_time": "2021-09-02T12:11:09.458Z"
   },
   {
    "duration": 15715,
    "start_time": "2021-09-02T12:25:44.816Z"
   },
   {
    "duration": 1880,
    "start_time": "2021-09-02T12:30:58.442Z"
   },
   {
    "duration": 2899,
    "start_time": "2021-09-02T12:31:15.541Z"
   },
   {
    "duration": 1878,
    "start_time": "2021-09-02T12:31:43.086Z"
   },
   {
    "duration": 7138,
    "start_time": "2021-09-02T12:35:11.427Z"
   },
   {
    "duration": 5560,
    "start_time": "2021-09-02T12:35:45.628Z"
   },
   {
    "duration": 347,
    "start_time": "2021-09-02T12:36:13.044Z"
   },
   {
    "duration": 371,
    "start_time": "2021-09-02T12:36:18.789Z"
   },
   {
    "duration": 1881,
    "start_time": "2021-09-02T12:36:24.179Z"
   },
   {
    "duration": 1900,
    "start_time": "2021-09-02T12:36:46.682Z"
   },
   {
    "duration": 2958,
    "start_time": "2021-09-02T12:39:29.014Z"
   },
   {
    "duration": 1832,
    "start_time": "2021-09-02T12:39:34.066Z"
   },
   {
    "duration": 2071,
    "start_time": "2021-09-02T12:39:43.516Z"
   },
   {
    "duration": 1827,
    "start_time": "2021-09-02T12:40:36.610Z"
   },
   {
    "duration": 1892,
    "start_time": "2021-09-02T12:41:47.032Z"
   },
   {
    "duration": 1847,
    "start_time": "2021-09-02T12:44:23.415Z"
   },
   {
    "duration": 1840,
    "start_time": "2021-09-02T12:44:34.144Z"
   },
   {
    "duration": 2034,
    "start_time": "2021-09-02T12:44:41.693Z"
   },
   {
    "duration": 1926,
    "start_time": "2021-09-02T12:45:35.605Z"
   },
   {
    "duration": 1864,
    "start_time": "2021-09-02T12:45:44.257Z"
   },
   {
    "duration": 1829,
    "start_time": "2021-09-02T12:45:52.704Z"
   },
   {
    "duration": 2914,
    "start_time": "2021-09-02T12:48:21.812Z"
   },
   {
    "duration": 2696,
    "start_time": "2021-09-02T12:48:41.856Z"
   },
   {
    "duration": 1942,
    "start_time": "2021-09-02T12:48:56.742Z"
   },
   {
    "duration": 2238,
    "start_time": "2021-09-02T12:49:38.472Z"
   },
   {
    "duration": 12,
    "start_time": "2021-09-02T13:44:58.337Z"
   },
   {
    "duration": 8,
    "start_time": "2021-09-02T14:10:06.502Z"
   },
   {
    "duration": 12,
    "start_time": "2021-09-02T14:11:46.774Z"
   },
   {
    "duration": 11,
    "start_time": "2021-09-02T14:15:17.057Z"
   },
   {
    "duration": 47344,
    "start_time": "2021-09-02T14:15:28.384Z"
   },
   {
    "duration": 9,
    "start_time": "2021-09-02T14:17:07.320Z"
   },
   {
    "duration": 2066,
    "start_time": "2021-09-02T19:30:38.006Z"
   },
   {
    "duration": 2195,
    "start_time": "2021-09-02T19:32:01.057Z"
   },
   {
    "duration": 2618,
    "start_time": "2021-09-02T19:32:17.020Z"
   },
   {
    "duration": 1740,
    "start_time": "2021-09-02T19:32:34.938Z"
   },
   {
    "duration": 1817,
    "start_time": "2021-09-02T19:33:02.591Z"
   },
   {
    "duration": 1168,
    "start_time": "2021-09-02T19:34:06.043Z"
   },
   {
    "duration": 3240,
    "start_time": "2021-09-02T19:35:22.144Z"
   },
   {
    "duration": 2465,
    "start_time": "2021-09-02T19:35:34.990Z"
   },
   {
    "duration": 2996,
    "start_time": "2021-09-02T19:35:53.216Z"
   },
   {
    "duration": 2651,
    "start_time": "2021-09-02T19:36:03.069Z"
   },
   {
    "duration": 2604,
    "start_time": "2021-09-02T19:36:14.881Z"
   },
   {
    "duration": 4403,
    "start_time": "2021-09-02T19:37:47.039Z"
   },
   {
    "duration": 2557,
    "start_time": "2021-09-02T19:37:51.445Z"
   },
   {
    "duration": 99,
    "start_time": "2021-09-02T19:37:54.006Z"
   },
   {
    "duration": 27,
    "start_time": "2021-09-02T19:37:54.108Z"
   },
   {
    "duration": 27,
    "start_time": "2021-09-02T19:37:54.137Z"
   },
   {
    "duration": 10,
    "start_time": "2021-09-02T19:37:54.166Z"
   },
   {
    "duration": 16,
    "start_time": "2021-09-02T19:37:54.179Z"
   },
   {
    "duration": 21,
    "start_time": "2021-09-02T19:37:54.198Z"
   },
   {
    "duration": 74,
    "start_time": "2021-09-02T19:37:54.222Z"
   },
   {
    "duration": 1027,
    "start_time": "2021-09-02T19:37:54.299Z"
   },
   {
    "duration": 15858,
    "start_time": "2021-09-02T19:37:55.330Z"
   },
   {
    "duration": 1920,
    "start_time": "2021-09-02T19:38:11.190Z"
   },
   {
    "duration": 13,
    "start_time": "2021-09-02T19:38:13.116Z"
   },
   {
    "duration": 14,
    "start_time": "2021-09-02T19:38:13.132Z"
   },
   {
    "duration": 47789,
    "start_time": "2021-09-02T19:38:13.149Z"
   },
   {
    "duration": 7,
    "start_time": "2021-09-02T19:39:00.940Z"
   },
   {
    "duration": 874,
    "start_time": "2021-09-02T19:39:00.950Z"
   },
   {
    "duration": 9,
    "start_time": "2021-09-02T19:39:01.827Z"
   },
   {
    "duration": 619,
    "start_time": "2021-09-02T19:39:01.838Z"
   },
   {
    "duration": 1965,
    "start_time": "2021-09-02T19:39:02.460Z"
   },
   {
    "duration": 297,
    "start_time": "2021-09-02T19:39:04.428Z"
   },
   {
    "duration": 1627,
    "start_time": "2021-09-02T19:39:04.728Z"
   },
   {
    "duration": 3925,
    "start_time": "2021-09-02T19:39:06.360Z"
   },
   {
    "duration": 1439,
    "start_time": "2021-09-02T19:39:10.287Z"
   },
   {
    "duration": 91,
    "start_time": "2021-09-02T19:39:11.731Z"
   },
   {
    "duration": 124,
    "start_time": "2021-09-02T19:39:11.825Z"
   },
   {
    "duration": 8,
    "start_time": "2021-09-02T19:39:11.951Z"
   },
   {
    "duration": 24521,
    "start_time": "2021-09-02T19:39:11.962Z"
   },
   {
    "duration": 8222,
    "start_time": "2021-09-02T19:48:11.047Z"
   },
   {
    "duration": 7044,
    "start_time": "2021-09-02T19:48:20.292Z"
   },
   {
    "duration": 733,
    "start_time": "2021-09-02T19:55:58.822Z"
   },
   {
    "duration": 381,
    "start_time": "2021-09-02T19:57:06.299Z"
   },
   {
    "duration": 346,
    "start_time": "2021-09-02T19:57:46.618Z"
   },
   {
    "duration": 1003,
    "start_time": "2021-09-02T19:58:55.591Z"
   },
   {
    "duration": 365,
    "start_time": "2021-09-02T20:01:46.502Z"
   },
   {
    "duration": 532,
    "start_time": "2021-09-02T20:04:01.534Z"
   },
   {
    "duration": 380,
    "start_time": "2021-09-02T20:04:08.771Z"
   },
   {
    "duration": 353,
    "start_time": "2021-09-02T20:04:27.376Z"
   },
   {
    "duration": 690,
    "start_time": "2021-09-02T20:05:12.928Z"
   },
   {
    "duration": 340,
    "start_time": "2021-09-02T20:07:00.920Z"
   },
   {
    "duration": 27341,
    "start_time": "2021-09-02T20:08:33.640Z"
   },
   {
    "duration": 5072,
    "start_time": "2021-09-02T20:09:30.903Z"
   },
   {
    "duration": 2481,
    "start_time": "2021-09-02T20:09:35.978Z"
   },
   {
    "duration": 47,
    "start_time": "2021-09-02T20:09:38.463Z"
   },
   {
    "duration": 25,
    "start_time": "2021-09-02T20:09:38.518Z"
   },
   {
    "duration": 21,
    "start_time": "2021-09-02T20:09:38.546Z"
   },
   {
    "duration": 47,
    "start_time": "2021-09-02T20:09:38.569Z"
   },
   {
    "duration": 17,
    "start_time": "2021-09-02T20:09:38.620Z"
   },
   {
    "duration": 6,
    "start_time": "2021-09-02T20:09:38.642Z"
   },
   {
    "duration": 102,
    "start_time": "2021-09-02T20:09:38.652Z"
   },
   {
    "duration": 2034,
    "start_time": "2021-09-02T20:09:38.757Z"
   },
   {
    "duration": 17709,
    "start_time": "2021-09-02T20:09:40.795Z"
   },
   {
    "duration": 1982,
    "start_time": "2021-09-02T20:09:58.507Z"
   },
   {
    "duration": 24,
    "start_time": "2021-09-02T20:10:00.492Z"
   },
   {
    "duration": 14,
    "start_time": "2021-09-02T20:10:00.524Z"
   },
   {
    "duration": 55727,
    "start_time": "2021-09-02T20:10:00.541Z"
   },
   {
    "duration": 10,
    "start_time": "2021-09-02T20:10:56.271Z"
   },
   {
    "duration": 784,
    "start_time": "2021-09-02T20:10:56.285Z"
   },
   {
    "duration": 11,
    "start_time": "2021-09-02T20:10:57.073Z"
   },
   {
    "duration": 773,
    "start_time": "2021-09-02T20:10:57.087Z"
   },
   {
    "duration": 2358,
    "start_time": "2021-09-02T20:10:57.863Z"
   },
   {
    "duration": 220,
    "start_time": "2021-09-02T20:11:00.225Z"
   },
   {
    "duration": 1616,
    "start_time": "2021-09-02T20:11:00.519Z"
   },
   {
    "duration": 4593,
    "start_time": "2021-09-02T20:11:02.139Z"
   },
   {
    "duration": 1782,
    "start_time": "2021-09-02T20:11:06.735Z"
   },
   {
    "duration": 36,
    "start_time": "2021-09-02T20:11:08.526Z"
   },
   {
    "duration": 97,
    "start_time": "2021-09-02T20:11:08.565Z"
   },
   {
    "duration": 8,
    "start_time": "2021-09-02T20:11:08.664Z"
   },
   {
    "duration": 25101,
    "start_time": "2021-09-02T20:11:08.675Z"
   },
   {
    "duration": 41176,
    "start_time": "2021-09-02T20:21:25.724Z"
   },
   {
    "duration": 798,
    "start_time": "2021-09-02T20:23:16.349Z"
   },
   {
    "duration": 4341,
    "start_time": "2021-09-02T20:23:48.851Z"
   },
   {
    "duration": 24915,
    "start_time": "2021-09-02T20:23:53.195Z"
   },
   {
    "duration": 398,
    "start_time": "2021-09-02T20:24:18.114Z"
   },
   {
    "duration": -194,
    "start_time": "2021-09-02T20:24:18.710Z"
   },
   {
    "duration": -214,
    "start_time": "2021-09-02T20:24:18.731Z"
   },
   {
    "duration": -221,
    "start_time": "2021-09-02T20:24:18.740Z"
   },
   {
    "duration": -224,
    "start_time": "2021-09-02T20:24:18.745Z"
   },
   {
    "duration": -228,
    "start_time": "2021-09-02T20:24:18.751Z"
   },
   {
    "duration": -234,
    "start_time": "2021-09-02T20:24:18.758Z"
   },
   {
    "duration": -240,
    "start_time": "2021-09-02T20:24:18.765Z"
   },
   {
    "duration": -244,
    "start_time": "2021-09-02T20:24:18.771Z"
   },
   {
    "duration": -250,
    "start_time": "2021-09-02T20:24:18.778Z"
   },
   {
    "duration": -254,
    "start_time": "2021-09-02T20:24:18.784Z"
   },
   {
    "duration": -259,
    "start_time": "2021-09-02T20:24:18.790Z"
   },
   {
    "duration": -264,
    "start_time": "2021-09-02T20:24:18.797Z"
   },
   {
    "duration": -270,
    "start_time": "2021-09-02T20:24:18.804Z"
   },
   {
    "duration": -270,
    "start_time": "2021-09-02T20:24:18.810Z"
   },
   {
    "duration": -284,
    "start_time": "2021-09-02T20:24:18.826Z"
   },
   {
    "duration": -288,
    "start_time": "2021-09-02T20:24:18.832Z"
   },
   {
    "duration": -291,
    "start_time": "2021-09-02T20:24:18.837Z"
   },
   {
    "duration": -296,
    "start_time": "2021-09-02T20:24:18.844Z"
   },
   {
    "duration": -302,
    "start_time": "2021-09-02T20:24:18.851Z"
   },
   {
    "duration": -315,
    "start_time": "2021-09-02T20:24:18.866Z"
   },
   {
    "duration": -322,
    "start_time": "2021-09-02T20:24:18.874Z"
   },
   {
    "duration": -327,
    "start_time": "2021-09-02T20:24:18.880Z"
   },
   {
    "duration": -330,
    "start_time": "2021-09-02T20:24:18.884Z"
   },
   {
    "duration": -337,
    "start_time": "2021-09-02T20:24:18.893Z"
   },
   {
    "duration": -342,
    "start_time": "2021-09-02T20:24:18.899Z"
   },
   {
    "duration": -354,
    "start_time": "2021-09-02T20:24:18.913Z"
   },
   {
    "duration": -359,
    "start_time": "2021-09-02T20:24:18.919Z"
   },
   {
    "duration": 24153,
    "start_time": "2021-09-02T20:27:10.126Z"
   },
   {
    "duration": 355,
    "start_time": "2021-09-02T20:27:44.407Z"
   },
   {
    "duration": 23043,
    "start_time": "2021-09-02T20:27:52.242Z"
   },
   {
    "duration": 328,
    "start_time": "2021-09-02T20:28:22.684Z"
   },
   {
    "duration": 3898,
    "start_time": "2021-09-02T20:31:51.617Z"
   },
   {
    "duration": 2159,
    "start_time": "2021-09-02T20:31:55.519Z"
   },
   {
    "duration": 55,
    "start_time": "2021-09-02T20:31:57.681Z"
   },
   {
    "duration": 26,
    "start_time": "2021-09-02T20:31:57.742Z"
   },
   {
    "duration": 22,
    "start_time": "2021-09-02T20:31:57.770Z"
   },
   {
    "duration": 22,
    "start_time": "2021-09-02T20:31:57.795Z"
   },
   {
    "duration": 20,
    "start_time": "2021-09-02T20:31:57.820Z"
   },
   {
    "duration": 9,
    "start_time": "2021-09-02T20:31:57.846Z"
   },
   {
    "duration": 106,
    "start_time": "2021-09-02T20:31:57.858Z"
   },
   {
    "duration": 790,
    "start_time": "2021-09-02T20:31:57.967Z"
   },
   {
    "duration": 17097,
    "start_time": "2021-09-02T20:31:58.760Z"
   },
   {
    "duration": 2048,
    "start_time": "2021-09-02T20:32:15.861Z"
   },
   {
    "duration": 15,
    "start_time": "2021-09-02T20:32:17.911Z"
   },
   {
    "duration": 15,
    "start_time": "2021-09-02T20:32:17.929Z"
   },
   {
    "duration": 50384,
    "start_time": "2021-09-02T20:32:17.947Z"
   },
   {
    "duration": 14,
    "start_time": "2021-09-02T20:33:08.334Z"
   },
   {
    "duration": 1032,
    "start_time": "2021-09-02T20:33:08.352Z"
   },
   {
    "duration": 9,
    "start_time": "2021-09-02T20:33:09.387Z"
   },
   {
    "duration": 839,
    "start_time": "2021-09-02T20:33:09.399Z"
   },
   {
    "duration": 1893,
    "start_time": "2021-09-02T20:33:10.246Z"
   },
   {
    "duration": 285,
    "start_time": "2021-09-02T20:33:12.142Z"
   },
   {
    "duration": 1698,
    "start_time": "2021-09-02T20:33:12.437Z"
   },
   {
    "duration": 4211,
    "start_time": "2021-09-02T20:33:14.140Z"
   },
   {
    "duration": 1590,
    "start_time": "2021-09-02T20:33:18.354Z"
   },
   {
    "duration": 35,
    "start_time": "2021-09-02T20:33:19.946Z"
   },
   {
    "duration": 87,
    "start_time": "2021-09-02T20:33:19.983Z"
   },
   {
    "duration": 7,
    "start_time": "2021-09-02T20:33:20.073Z"
   },
   {
    "duration": 25320,
    "start_time": "2021-09-02T20:33:20.083Z"
   },
   {
    "duration": 29065,
    "start_time": "2021-09-03T10:22:49.445Z"
   },
   {
    "duration": 3498,
    "start_time": "2021-09-03T10:29:02.278Z"
   },
   {
    "duration": 1787,
    "start_time": "2021-09-03T10:29:05.778Z"
   },
   {
    "duration": 45,
    "start_time": "2021-09-03T10:29:07.567Z"
   },
   {
    "duration": 18,
    "start_time": "2021-09-03T10:29:07.614Z"
   },
   {
    "duration": 11,
    "start_time": "2021-09-03T10:29:07.634Z"
   },
   {
    "duration": 7,
    "start_time": "2021-09-03T10:29:07.646Z"
   },
   {
    "duration": 40,
    "start_time": "2021-09-03T10:29:07.654Z"
   },
   {
    "duration": 7,
    "start_time": "2021-09-03T10:29:07.697Z"
   },
   {
    "duration": 49,
    "start_time": "2021-09-03T10:29:07.707Z"
   },
   {
    "duration": 1177,
    "start_time": "2021-09-03T10:29:07.758Z"
   },
   {
    "duration": 11535,
    "start_time": "2021-09-03T10:29:08.937Z"
   },
   {
    "duration": 1355,
    "start_time": "2021-09-03T10:29:20.473Z"
   },
   {
    "duration": 10,
    "start_time": "2021-09-03T10:29:21.830Z"
   },
   {
    "duration": 8,
    "start_time": "2021-09-03T10:29:21.842Z"
   },
   {
    "duration": 30875,
    "start_time": "2021-09-03T10:29:21.852Z"
   },
   {
    "duration": 4,
    "start_time": "2021-09-03T10:29:52.729Z"
   },
   {
    "duration": 493,
    "start_time": "2021-09-03T10:29:52.734Z"
   },
   {
    "duration": 6,
    "start_time": "2021-09-03T10:29:53.228Z"
   },
   {
    "duration": 350,
    "start_time": "2021-09-03T10:29:53.235Z"
   },
   {
    "duration": 1799,
    "start_time": "2021-09-03T10:29:53.587Z"
   },
   {
    "duration": 190,
    "start_time": "2021-09-03T10:29:55.398Z"
   },
   {
    "duration": 1256,
    "start_time": "2021-09-03T10:29:55.590Z"
   },
   {
    "duration": 3412,
    "start_time": "2021-09-03T10:29:56.849Z"
   },
   {
    "duration": 1123,
    "start_time": "2021-09-03T10:30:00.263Z"
   },
   {
    "duration": 122,
    "start_time": "2021-09-03T10:30:01.390Z"
   },
   {
    "duration": 38,
    "start_time": "2021-09-03T10:30:01.514Z"
   },
   {
    "duration": 5,
    "start_time": "2021-09-03T10:30:01.553Z"
   },
   {
    "duration": 16797,
    "start_time": "2021-09-03T10:30:01.560Z"
   },
   {
    "duration": 1035,
    "start_time": "2021-09-03T10:41:15.904Z"
   },
   {
    "duration": 283,
    "start_time": "2021-09-03T10:41:20.553Z"
   },
   {
    "duration": 267,
    "start_time": "2021-09-03T10:41:33.738Z"
   },
   {
    "duration": 1191,
    "start_time": "2021-09-03T10:41:57.483Z"
   },
   {
    "duration": 1137,
    "start_time": "2021-09-03T10:42:06.970Z"
   },
   {
    "duration": 4,
    "start_time": "2021-09-03T10:43:00.257Z"
   },
   {
    "duration": 389,
    "start_time": "2021-09-03T10:44:52.694Z"
   },
   {
    "duration": 1831,
    "start_time": "2021-09-03T10:45:01.006Z"
   },
   {
    "duration": 14262,
    "start_time": "2021-09-03T10:54:19.959Z"
   },
   {
    "duration": 2394,
    "start_time": "2021-09-03T10:55:06.205Z"
   },
   {
    "duration": 14958,
    "start_time": "2021-09-03T10:55:18.020Z"
   },
   {
    "duration": 2191,
    "start_time": "2021-09-03T10:55:59.090Z"
   },
   {
    "duration": 2217,
    "start_time": "2021-09-03T10:57:04.241Z"
   },
   {
    "duration": 6342,
    "start_time": "2021-09-03T10:57:13.669Z"
   },
   {
    "duration": 3230,
    "start_time": "2021-09-03T11:00:01.423Z"
   },
   {
    "duration": 1850,
    "start_time": "2021-09-03T11:00:04.655Z"
   },
   {
    "duration": 26,
    "start_time": "2021-09-03T11:00:06.508Z"
   },
   {
    "duration": 16,
    "start_time": "2021-09-03T11:00:06.536Z"
   },
   {
    "duration": 21,
    "start_time": "2021-09-03T11:00:06.554Z"
   },
   {
    "duration": 16,
    "start_time": "2021-09-03T11:00:06.576Z"
   },
   {
    "duration": 18,
    "start_time": "2021-09-03T11:00:06.594Z"
   },
   {
    "duration": 6,
    "start_time": "2021-09-03T11:00:06.616Z"
   },
   {
    "duration": 69,
    "start_time": "2021-09-03T11:00:06.624Z"
   },
   {
    "duration": 1155,
    "start_time": "2021-09-03T11:00:06.697Z"
   },
   {
    "duration": 11836,
    "start_time": "2021-09-03T11:00:07.854Z"
   },
   {
    "duration": 5668,
    "start_time": "2021-09-03T11:00:19.695Z"
   },
   {
    "duration": 1592,
    "start_time": "2021-09-03T11:00:25.365Z"
   },
   {
    "duration": 8,
    "start_time": "2021-09-03T11:00:26.959Z"
   },
   {
    "duration": 23,
    "start_time": "2021-09-03T11:00:26.969Z"
   },
   {
    "duration": 31762,
    "start_time": "2021-09-03T11:00:26.996Z"
   },
   {
    "duration": 4,
    "start_time": "2021-09-03T11:00:58.760Z"
   },
   {
    "duration": 542,
    "start_time": "2021-09-03T11:00:58.766Z"
   },
   {
    "duration": 6,
    "start_time": "2021-09-03T11:00:59.309Z"
   },
   {
    "duration": 356,
    "start_time": "2021-09-03T11:00:59.317Z"
   },
   {
    "duration": 1750,
    "start_time": "2021-09-03T11:00:59.675Z"
   },
   {
    "duration": 266,
    "start_time": "2021-09-03T11:01:01.427Z"
   },
   {
    "duration": 1254,
    "start_time": "2021-09-03T11:01:01.698Z"
   },
   {
    "duration": 3121,
    "start_time": "2021-09-03T11:01:02.954Z"
   },
   {
    "duration": 1115,
    "start_time": "2021-09-03T11:01:06.078Z"
   },
   {
    "duration": 31,
    "start_time": "2021-09-03T11:01:07.197Z"
   },
   {
    "duration": 98,
    "start_time": "2021-09-03T11:01:07.231Z"
   },
   {
    "duration": 6,
    "start_time": "2021-09-03T11:01:07.331Z"
   },
   {
    "duration": 17842,
    "start_time": "2021-09-03T11:01:07.339Z"
   },
   {
    "duration": 6708,
    "start_time": "2021-09-03T11:01:25.183Z"
   },
   {
    "duration": 6721,
    "start_time": "2021-09-03T11:02:05.287Z"
   },
   {
    "duration": 6411,
    "start_time": "2021-09-03T11:02:20.436Z"
   },
   {
    "duration": 6681,
    "start_time": "2021-09-03T11:02:58.170Z"
   },
   {
    "duration": 6738,
    "start_time": "2021-09-03T11:07:57.018Z"
   }
  ],
  "kernelspec": {
   "display_name": "Python 3 (ipykernel)",
   "language": "python",
   "name": "python3"
  },
  "language_info": {
   "codemirror_mode": {
    "name": "ipython",
    "version": 3
   },
   "file_extension": ".py",
   "mimetype": "text/x-python",
   "name": "python",
   "nbconvert_exporter": "python",
   "pygments_lexer": "ipython3",
   "version": "3.9.5"
  },
  "toc": {
   "base_numbering": 1,
   "nav_menu": {},
   "number_sections": true,
   "sideBar": true,
   "skip_h1_title": true,
   "title_cell": "Table of Contents",
   "title_sidebar": "Contents",
   "toc_cell": false,
   "toc_position": {},
   "toc_section_display": true,
   "toc_window_display": true
  }
 },
 "nbformat": 4,
 "nbformat_minor": 2
}
