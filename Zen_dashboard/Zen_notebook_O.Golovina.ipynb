{
 "cells": [
  {
   "cell_type": "markdown",
   "id": "56101c05",
   "metadata": {},
   "source": [
    "# Анализ пользовательского взаимодействия с карточками статей для Яндекс.Дзен"
   ]
  },
  {
   "cell_type": "markdown",
   "id": "07274151",
   "metadata": {},
   "source": [
    "Заказчик исследования: менеджеры контента Яндекс.Дзен\n",
    "\n",
    "Задачи:\n",
    "\n",
    "- проанализировать файл с событиями, созданный на основе пайплайна, разработанного дата-инженерами компании. Пайплайн работает с сырыми данными, агрегирует их и помещает в базу данных Zen\n",
    "\n",
    "- подготовить ответы на вопросы менеджеров по анализу контента:\n",
    "    - сколько взаимодействий пользователей с карточками происходит в системе с разбивкой по темам карточек?\n",
    "    - как много карточек генерируют источники с разными темами?\n",
    "    - как соотносятся темы карточек и темы источников?\n",
    "\n",
    "- создать дашборд с результатами исследования на основе согласованного с менеджерами макета\n",
    "- подготовить краткую презентацию \n",
    "\n",
    "Итак, установим необходимые библиотеки"
   ]
  },
  {
   "cell_type": "code",
   "execution_count": 1,
   "id": "ace87e35",
   "metadata": {},
   "outputs": [
    {
     "name": "stdout",
     "output_type": "stream",
     "text": [
      "Requirement already satisfied: sqlalchemy in c:\\users\\huawei\\python39\\lib\\site-packages (1.4.22)\n",
      "Requirement already satisfied: greenlet!=0.4.17 in c:\\users\\huawei\\python39\\lib\\site-packages (from sqlalchemy) (1.1.1)\n",
      "Note: you may need to restart the kernel to use updated packages.\n"
     ]
    }
   ],
   "source": [
    "pip install sqlalchemy"
   ]
  },
  {
   "cell_type": "code",
   "execution_count": 2,
   "id": "fbcf570b",
   "metadata": {},
   "outputs": [
    {
     "name": "stdout",
     "output_type": "stream",
     "text": [
      "Requirement already satisfied: psycopg2 in c:\\users\\huawei\\python39\\lib\\site-packages (2.9.1)\n",
      "Note: you may need to restart the kernel to use updated packages.\n"
     ]
    }
   ],
   "source": [
    "pip install psycopg2"
   ]
  },
  {
   "cell_type": "code",
   "execution_count": 3,
   "id": "ebbace64",
   "metadata": {},
   "outputs": [],
   "source": [
    "from IPython.core.interactiveshell import InteractiveShell\n",
    "InteractiveShell.ast_node_interactivity = \"all\"\n",
    "\n",
    "import pandas as pd\n",
    "from sqlalchemy import create_engine"
   ]
  },
  {
   "cell_type": "markdown",
   "id": "efb98dc6",
   "metadata": {},
   "source": [
    "Создаем подключение к базе данных"
   ]
  },
  {
   "cell_type": "code",
   "execution_count": 4,
   "id": "ccea0808",
   "metadata": {},
   "outputs": [],
   "source": [
    "db_config = {'user': 'praktikum_student', # имя пользователя\n",
    "            'pwd': 'Sdf4$2;d-d30pp', # пароль\n",
    "            'host': 'rc1b-wcoijxj3yxfsf3fs.mdb.yandexcloud.net',\n",
    "            'port': 6432, # порт подключения\n",
    "            'db': 'data-analyst-zen-project-db'} # название базы данных\n",
    "\n",
    "connection_string = 'postgresql://{}:{}@{}:{}/{}'.format(db_config['user'],\n",
    "                                                db_config['pwd'],\n",
    "                                                db_config['host'],\n",
    "                                                db_config['port'],\n",
    "                                                db_config['db'])\n",
    "\n",
    "engine = create_engine(connection_string)"
   ]
  },
  {
   "cell_type": "markdown",
   "id": "ddf86fac",
   "metadata": {},
   "source": [
    "Создаем запрос к базе данных и сохраняем его в csv-файл"
   ]
  },
  {
   "cell_type": "code",
   "execution_count": 5,
   "id": "5710a58a",
   "metadata": {},
   "outputs": [
    {
     "data": {
      "text/html": [
       "<div>\n",
       "<style scoped>\n",
       "    .dataframe tbody tr th:only-of-type {\n",
       "        vertical-align: middle;\n",
       "    }\n",
       "\n",
       "    .dataframe tbody tr th {\n",
       "        vertical-align: top;\n",
       "    }\n",
       "\n",
       "    .dataframe thead th {\n",
       "        text-align: right;\n",
       "    }\n",
       "</style>\n",
       "<table border=\"1\" class=\"dataframe\">\n",
       "  <thead>\n",
       "    <tr style=\"text-align: right;\">\n",
       "      <th></th>\n",
       "      <th>record_id</th>\n",
       "      <th>item_topic</th>\n",
       "      <th>source_topic</th>\n",
       "      <th>age_segment</th>\n",
       "      <th>dt</th>\n",
       "      <th>visits</th>\n",
       "    </tr>\n",
       "  </thead>\n",
       "  <tbody>\n",
       "    <tr>\n",
       "      <th>0</th>\n",
       "      <td>1040597</td>\n",
       "      <td>Деньги</td>\n",
       "      <td>Авто</td>\n",
       "      <td>18-25</td>\n",
       "      <td>2019-09-24 18:32:00</td>\n",
       "      <td>3</td>\n",
       "    </tr>\n",
       "    <tr>\n",
       "      <th>1</th>\n",
       "      <td>1040598</td>\n",
       "      <td>Деньги</td>\n",
       "      <td>Авто</td>\n",
       "      <td>18-25</td>\n",
       "      <td>2019-09-24 18:35:00</td>\n",
       "      <td>1</td>\n",
       "    </tr>\n",
       "    <tr>\n",
       "      <th>2</th>\n",
       "      <td>1040599</td>\n",
       "      <td>Деньги</td>\n",
       "      <td>Авто</td>\n",
       "      <td>18-25</td>\n",
       "      <td>2019-09-24 18:54:00</td>\n",
       "      <td>4</td>\n",
       "    </tr>\n",
       "    <tr>\n",
       "      <th>3</th>\n",
       "      <td>1040600</td>\n",
       "      <td>Деньги</td>\n",
       "      <td>Авто</td>\n",
       "      <td>18-25</td>\n",
       "      <td>2019-09-24 18:55:00</td>\n",
       "      <td>17</td>\n",
       "    </tr>\n",
       "    <tr>\n",
       "      <th>4</th>\n",
       "      <td>1040601</td>\n",
       "      <td>Деньги</td>\n",
       "      <td>Авто</td>\n",
       "      <td>18-25</td>\n",
       "      <td>2019-09-24 18:56:00</td>\n",
       "      <td>27</td>\n",
       "    </tr>\n",
       "    <tr>\n",
       "      <th>...</th>\n",
       "      <td>...</td>\n",
       "      <td>...</td>\n",
       "      <td>...</td>\n",
       "      <td>...</td>\n",
       "      <td>...</td>\n",
       "      <td>...</td>\n",
       "    </tr>\n",
       "    <tr>\n",
       "      <th>30740</th>\n",
       "      <td>1071337</td>\n",
       "      <td>Юмор</td>\n",
       "      <td>Финансы</td>\n",
       "      <td>36-40</td>\n",
       "      <td>2019-09-24 18:57:00</td>\n",
       "      <td>2</td>\n",
       "    </tr>\n",
       "    <tr>\n",
       "      <th>30741</th>\n",
       "      <td>1071338</td>\n",
       "      <td>Юмор</td>\n",
       "      <td>Финансы</td>\n",
       "      <td>36-40</td>\n",
       "      <td>2019-09-24 19:00:00</td>\n",
       "      <td>1</td>\n",
       "    </tr>\n",
       "    <tr>\n",
       "      <th>30742</th>\n",
       "      <td>1071339</td>\n",
       "      <td>Юмор</td>\n",
       "      <td>Финансы</td>\n",
       "      <td>41-45</td>\n",
       "      <td>2019-09-24 18:54:00</td>\n",
       "      <td>1</td>\n",
       "    </tr>\n",
       "    <tr>\n",
       "      <th>30743</th>\n",
       "      <td>1071340</td>\n",
       "      <td>Юмор</td>\n",
       "      <td>Финансы</td>\n",
       "      <td>41-45</td>\n",
       "      <td>2019-09-24 18:56:00</td>\n",
       "      <td>1</td>\n",
       "    </tr>\n",
       "    <tr>\n",
       "      <th>30744</th>\n",
       "      <td>1071341</td>\n",
       "      <td>Юмор</td>\n",
       "      <td>Финансы</td>\n",
       "      <td>41-45</td>\n",
       "      <td>2019-09-24 19:00:00</td>\n",
       "      <td>1</td>\n",
       "    </tr>\n",
       "  </tbody>\n",
       "</table>\n",
       "<p>30745 rows × 6 columns</p>\n",
       "</div>"
      ],
      "text/plain": [
       "       record_id item_topic source_topic age_segment                  dt  \\\n",
       "0        1040597     Деньги         Авто       18-25 2019-09-24 18:32:00   \n",
       "1        1040598     Деньги         Авто       18-25 2019-09-24 18:35:00   \n",
       "2        1040599     Деньги         Авто       18-25 2019-09-24 18:54:00   \n",
       "3        1040600     Деньги         Авто       18-25 2019-09-24 18:55:00   \n",
       "4        1040601     Деньги         Авто       18-25 2019-09-24 18:56:00   \n",
       "...          ...        ...          ...         ...                 ...   \n",
       "30740    1071337       Юмор      Финансы       36-40 2019-09-24 18:57:00   \n",
       "30741    1071338       Юмор      Финансы       36-40 2019-09-24 19:00:00   \n",
       "30742    1071339       Юмор      Финансы       41-45 2019-09-24 18:54:00   \n",
       "30743    1071340       Юмор      Финансы       41-45 2019-09-24 18:56:00   \n",
       "30744    1071341       Юмор      Финансы       41-45 2019-09-24 19:00:00   \n",
       "\n",
       "       visits  \n",
       "0           3  \n",
       "1           1  \n",
       "2           4  \n",
       "3          17  \n",
       "4          27  \n",
       "...       ...  \n",
       "30740       2  \n",
       "30741       1  \n",
       "30742       1  \n",
       "30743       1  \n",
       "30744       1  \n",
       "\n",
       "[30745 rows x 6 columns]"
      ]
     },
     "execution_count": 5,
     "metadata": {},
     "output_type": "execute_result"
    }
   ],
   "source": [
    "query = '''\n",
    "            SELECT * FROM dash_visits\n",
    "        '''\n",
    "df = pd.io.sql.read_sql(query, con = engine) \n",
    "df"
   ]
  },
  {
   "cell_type": "code",
   "execution_count": 8,
   "id": "e5457fd2",
   "metadata": {},
   "outputs": [],
   "source": [
    "df.to_csv('dash_visits.csv', index=False)\n",
    "dash_visits = pd.read_csv('dash_visits.csv', sep=',')"
   ]
  },
  {
   "cell_type": "code",
   "execution_count": 9,
   "id": "f124f376",
   "metadata": {},
   "outputs": [
    {
     "data": {
      "text/html": [
       "<div>\n",
       "<style scoped>\n",
       "    .dataframe tbody tr th:only-of-type {\n",
       "        vertical-align: middle;\n",
       "    }\n",
       "\n",
       "    .dataframe tbody tr th {\n",
       "        vertical-align: top;\n",
       "    }\n",
       "\n",
       "    .dataframe thead th {\n",
       "        text-align: right;\n",
       "    }\n",
       "</style>\n",
       "<table border=\"1\" class=\"dataframe\">\n",
       "  <thead>\n",
       "    <tr style=\"text-align: right;\">\n",
       "      <th></th>\n",
       "      <th>record_id</th>\n",
       "      <th>item_topic</th>\n",
       "      <th>source_topic</th>\n",
       "      <th>age_segment</th>\n",
       "      <th>dt</th>\n",
       "      <th>visits</th>\n",
       "    </tr>\n",
       "  </thead>\n",
       "  <tbody>\n",
       "    <tr>\n",
       "      <th>0</th>\n",
       "      <td>1040597</td>\n",
       "      <td>Деньги</td>\n",
       "      <td>Авто</td>\n",
       "      <td>18-25</td>\n",
       "      <td>2019-09-24 18:32:00</td>\n",
       "      <td>3</td>\n",
       "    </tr>\n",
       "    <tr>\n",
       "      <th>1</th>\n",
       "      <td>1040598</td>\n",
       "      <td>Деньги</td>\n",
       "      <td>Авто</td>\n",
       "      <td>18-25</td>\n",
       "      <td>2019-09-24 18:35:00</td>\n",
       "      <td>1</td>\n",
       "    </tr>\n",
       "    <tr>\n",
       "      <th>2</th>\n",
       "      <td>1040599</td>\n",
       "      <td>Деньги</td>\n",
       "      <td>Авто</td>\n",
       "      <td>18-25</td>\n",
       "      <td>2019-09-24 18:54:00</td>\n",
       "      <td>4</td>\n",
       "    </tr>\n",
       "    <tr>\n",
       "      <th>3</th>\n",
       "      <td>1040600</td>\n",
       "      <td>Деньги</td>\n",
       "      <td>Авто</td>\n",
       "      <td>18-25</td>\n",
       "      <td>2019-09-24 18:55:00</td>\n",
       "      <td>17</td>\n",
       "    </tr>\n",
       "    <tr>\n",
       "      <th>4</th>\n",
       "      <td>1040601</td>\n",
       "      <td>Деньги</td>\n",
       "      <td>Авто</td>\n",
       "      <td>18-25</td>\n",
       "      <td>2019-09-24 18:56:00</td>\n",
       "      <td>27</td>\n",
       "    </tr>\n",
       "  </tbody>\n",
       "</table>\n",
       "</div>"
      ],
      "text/plain": [
       "   record_id item_topic source_topic age_segment                   dt  visits\n",
       "0    1040597     Деньги         Авто       18-25  2019-09-24 18:32:00       3\n",
       "1    1040598     Деньги         Авто       18-25  2019-09-24 18:35:00       1\n",
       "2    1040599     Деньги         Авто       18-25  2019-09-24 18:54:00       4\n",
       "3    1040600     Деньги         Авто       18-25  2019-09-24 18:55:00      17\n",
       "4    1040601     Деньги         Авто       18-25  2019-09-24 18:56:00      27"
      ]
     },
     "execution_count": 9,
     "metadata": {},
     "output_type": "execute_result"
    }
   ],
   "source": [
    "dash_visits.head()"
   ]
  },
  {
   "cell_type": "markdown",
   "id": "a3a1bae5",
   "metadata": {},
   "source": [
    "Посмотрим на структуру данных"
   ]
  },
  {
   "cell_type": "code",
   "execution_count": 10,
   "id": "30a00a86",
   "metadata": {},
   "outputs": [
    {
     "name": "stdout",
     "output_type": "stream",
     "text": [
      "<class 'pandas.core.frame.DataFrame'>\n",
      "RangeIndex: 30745 entries, 0 to 30744\n",
      "Data columns (total 6 columns):\n",
      " #   Column        Non-Null Count  Dtype \n",
      "---  ------        --------------  ----- \n",
      " 0   record_id     30745 non-null  int64 \n",
      " 1   item_topic    30745 non-null  object\n",
      " 2   source_topic  30745 non-null  object\n",
      " 3   age_segment   30745 non-null  object\n",
      " 4   dt            30745 non-null  object\n",
      " 5   visits        30745 non-null  int64 \n",
      "dtypes: int64(2), object(4)\n",
      "memory usage: 1.4+ MB\n"
     ]
    }
   ],
   "source": [
    "dash_visits.info()"
   ]
  },
  {
   "cell_type": "markdown",
   "id": "19ce40f4",
   "metadata": {},
   "source": [
    "Таблица состоит из 30745 строк, организованных в 6 столбцов. Пропуски отсутствуют, проблем с типами данных также нет.  \n",
    "\n",
    "Структура данных:\n",
    "- `record_id` - идентификатор записи  \n",
    "- `item_topic` - тема карточки  \n",
    "- `source_topic`- тема источника  \n",
    "- `age_segment` - возрастная категория  \n",
    "- `dt` - дата и время события  \n",
    "- `visits` - количество событий"
   ]
  },
  {
   "cell_type": "code",
   "execution_count": 11,
   "id": "cd0e67f3",
   "metadata": {},
   "outputs": [
    {
     "data": {
      "text/plain": [
       "'2019-09-24 18:28:00'"
      ]
     },
     "execution_count": 11,
     "metadata": {},
     "output_type": "execute_result"
    },
    {
     "data": {
      "text/plain": [
       "'2019-09-24 19:00:00'"
      ]
     },
     "execution_count": 11,
     "metadata": {},
     "output_type": "execute_result"
    }
   ],
   "source": [
    "dash_visits['dt'].min()\n",
    "dash_visits['dt'].max()"
   ]
  },
  {
   "cell_type": "markdown",
   "id": "0f0b6b42",
   "metadata": {},
   "source": [
    "Записи лога охватывают период с 18:28 до 19:00 24 сентября 2019 года"
   ]
  },
  {
   "cell_type": "markdown",
   "id": "958d86c0",
   "metadata": {},
   "source": [
    "## Выводы "
   ]
  },
  {
   "cell_type": "markdown",
   "id": "2e2e9b3d",
   "metadata": {},
   "source": [
    "В нашем распоряжении были данные о взаимодействии пользователей с карточками статей на Яндекс.Дзен на дату 24.09.2021 за временной отрезок с 18:28 до 19:00. \n",
    "\n",
    "Пик пользовательской активности на сайте пришелся на промежуток с 18:56 до 18:59. В качестве метрики для оценки популярности тем карточек была выбрана медиана количества событий за исследуемый период. Рейтинг тем в порядке убывания интереса пользователей в период пиковой активности:\n",
    "\n",
    "- отношения  \n",
    "- наука    \n",
    "- интересные факты  \n",
    "- подборки  \n",
    "- общество   \n",
    "- Россия  \n",
    "\n",
    "В совокупности на 8 самых популярных тем карточек из 25 приходится половина всех пользовательских событий.\n",
    "\n",
    "Доли за период с 18:28 до 19:00 распределились следующим образом:  \n",
    "\n",
    "- отношения (6,72%)\n",
    "- наука (6,7%)  \n",
    "- общество (6,46%)\n",
    "- интересные факты (6,23%)          \n",
    "- подборки (5,87%)   \n",
    "- Россия (5,59%)  \n",
    "- полезные советы (5,12%)  \n",
    "- история (4,94%)\n",
    "\n",
    "Самые популярные каналы: \n",
    "\n",
    "- семейные отношения (10,74%)\n",
    "- Россия (9,62%)\n",
    "- полезные советы (8,84%)\n",
    "- путешествия (7,78%)\n",
    "- знаменитости (7,72%)\n",
    "\n",
    "Рейтинг популярности тем в соотношении карточка - источник:\n",
    "\n",
    "1. Рассказы - путешествия  \n",
    "2. Общество - Россия  \n",
    "3. Наука - кино  \n",
    "4. Россия - Россия  \n",
    "5. Подборки - полезные советы  \n",
    "6. Общество - семейные отношения  \n",
    "7. Отношения - полезные советы  \n",
    "\n",
    "Анализ количества событий в разбивке по темам карточек для разных возрастных категорий показал следующие результаты:  \n",
    "Все возрастные категории более всего интересуются темой отношений. Для пользователей старше 25 лет также актуальны полезные советы и рубрика \"Подборки\", тогда как в круг интересов читателей до 25 лет и 45+ входят также темы \"общество\" и \"наука\".\n",
    "У группы совершеннолетних пользователей до 25 лет распределение долей тем карточек более-менее стабильно на протяжении всего наблюдаемого периода. У остальных групп отмечаются всплески интереса к той или иной теме: 26-30 и 31-35 - интересные факты, психология, прутешествия, 36-40 - скандалы и здоровье, 41-45 - история и знаменитости, а 45+ - история и искусство.\n",
    "\n",
    "Среди каналов наибольшей популярностью у всех возрастных групп пользуются темы \"Семейные отношения\" и \"Россия\". Пользователям старше 30 лет интересны также темы, посвященные жизни знаменитостей. \n",
    "\n",
    "Дашборд с результатами анализа находится здесь:  <code>[Дашборд](https://public.tableau.com/app/profile/oksana.golovina/viz/zen_dashboard_16288894207980/_?publish=yes)\n",
    "</code>"
   ]
  }
 ],
 "metadata": {
  "kernelspec": {
   "display_name": "Python 3 (ipykernel)",
   "language": "python",
   "name": "python3"
  },
  "language_info": {
   "codemirror_mode": {
    "name": "ipython",
    "version": 3
   },
   "file_extension": ".py",
   "mimetype": "text/x-python",
   "name": "python",
   "nbconvert_exporter": "python",
   "pygments_lexer": "ipython3",
   "version": "3.9.5"
  },
  "toc": {
   "base_numbering": 1,
   "nav_menu": {},
   "number_sections": true,
   "sideBar": true,
   "skip_h1_title": true,
   "title_cell": "Table of Contents",
   "title_sidebar": "Contents",
   "toc_cell": false,
   "toc_position": {},
   "toc_section_display": true,
   "toc_window_display": false
  }
 },
 "nbformat": 4,
 "nbformat_minor": 5
}
